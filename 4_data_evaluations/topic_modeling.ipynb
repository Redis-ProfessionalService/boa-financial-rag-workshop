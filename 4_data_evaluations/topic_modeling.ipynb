{
 "cells": [
  {
   "metadata": {
    "ExecuteTime": {
     "end_time": "2024-06-25T18:11:52.038949Z",
     "start_time": "2024-06-25T18:11:50.981003Z"
    }
   },
   "cell_type": "code",
   "source": "%pip install python-dotenv",
   "id": "a9f50218d2ec96ce",
   "outputs": [
    {
     "name": "stdout",
     "output_type": "stream",
     "text": [
      "Requirement already satisfied: python-dotenv in /Library/Frameworks/Python.framework/Versions/3.12/lib/python3.12/site-packages (1.0.1)\r\n",
      "\r\n",
      "\u001B[1m[\u001B[0m\u001B[34;49mnotice\u001B[0m\u001B[1;39;49m]\u001B[0m\u001B[39;49m A new release of pip is available: \u001B[0m\u001B[31;49m24.0\u001B[0m\u001B[39;49m -> \u001B[0m\u001B[32;49m24.1\u001B[0m\r\n",
      "\u001B[1m[\u001B[0m\u001B[34;49mnotice\u001B[0m\u001B[1;39;49m]\u001B[0m\u001B[39;49m To update, run: \u001B[0m\u001B[32;49m/usr/local/bin/python3.12 -m pip install --upgrade pip\u001B[0m\r\n",
      "Note: you may need to restart the kernel to use updated packages.\n"
     ]
    }
   ],
   "execution_count": 1
  },
  {
   "metadata": {
    "ExecuteTime": {
     "end_time": "2024-06-25T18:11:52.048014Z",
     "start_time": "2024-06-25T18:11:52.039841Z"
    }
   },
   "cell_type": "code",
   "source": [
    "import sys\n",
    "import os\n",
    "import warnings\n",
    "import dotenv\n",
    "# load env vars from .env file\n",
    "dotenv.load_dotenv()\n",
    "\n",
    "warnings.filterwarnings('ignore')\n",
    "dir_path = os.getcwd()\n",
    "parent_directory = os.path.dirname(dir_path)\n",
    "sys.path.insert(0, f'{parent_directory}/helpers')\n",
    "os.environ[\"ROOT_DIR\"] = parent_directory\n",
    "REDIS_URL = os.getenv(\"REDIS_URL\")\n",
    "\n",
    "print(\"========== ENVIRONMENT VARIABLES ==========\")\n",
    "print(f\"Current Directory={dir_path}\")\n",
    "print(f\"Parent Directory={parent_directory}\")\n",
    "print(f\"System path={sys.path}\")\n",
    "print(\"---------------------------------\")\n",
    "print(f'LLM Engine: {os.getenv(\"LOCAL_LLM_ENGINE\")}')\n",
    "print(f'LOCAL_VLLM_MODEL: {os.getenv(\"LOCAL_VLLM_MODEL\")}')\n",
    "print(f'LOCAL_OLLAMA_MODEL: {os.getenv(\"LOCAL_OLLAMA_MODEL\")}')\n",
    "print(f'VLLM_URL: {os.getenv(\"VLLM_URL\")}')\n",
    "print(\"---------------------------------\")\n",
    "print(f\"NLTK_DATA={os.getenv('NLTK_DATA')}\")"
   ],
   "id": "b43fd5c112651dd6",
   "outputs": [
    {
     "name": "stdout",
     "output_type": "stream",
     "text": [
      "========== ENVIRONMENT VARIABLES ==========\n",
      "Current Directory=/Users/rouzbeh.farahmand/PycharmProjects/boa-financial-rag-workshop/4_data_evaluations\n",
      "Parent Directory=/Users/rouzbeh.farahmand/PycharmProjects/boa-financial-rag-workshop\n",
      "System path=['/Users/rouzbeh.farahmand/PycharmProjects/boa-financial-rag-workshop/helpers', '/Users/rouzbeh.farahmand/PycharmProjects/boa-financial-rag-workshop', '/Library/Frameworks/Python.framework/Versions/3.12/lib/python312.zip', '/Library/Frameworks/Python.framework/Versions/3.12/lib/python3.12', '/Library/Frameworks/Python.framework/Versions/3.12/lib/python3.12/lib-dynload', '', '/Library/Frameworks/Python.framework/Versions/3.12/lib/python3.12/site-packages']\n",
      "---------------------------------\n",
      "LLM Engine: ollama\n",
      "LOCAL_VLLM_MODEL: meta-llama/Meta-Llama-3-8B-Instruct\n",
      "LOCAL_OLLAMA_MODEL: llama3:8b\n",
      "VLLM_URL: http://localhost:8000/v1\n",
      "---------------------------------\n",
      "NLTK_DATA=\n"
     ]
    }
   ],
   "execution_count": 2
  },
  {
   "metadata": {
    "ExecuteTime": {
     "end_time": "2024-06-25T18:11:53.247254Z",
     "start_time": "2024-06-25T18:11:52.049355Z"
    }
   },
   "cell_type": "code",
   "source": "%pip install -U scikit-learn",
   "id": "fbc6d44d81c232f4",
   "outputs": [
    {
     "name": "stdout",
     "output_type": "stream",
     "text": [
      "Requirement already satisfied: scikit-learn in /Library/Frameworks/Python.framework/Versions/3.12/lib/python3.12/site-packages (1.5.0)\r\n",
      "Requirement already satisfied: numpy>=1.19.5 in /Library/Frameworks/Python.framework/Versions/3.12/lib/python3.12/site-packages (from scikit-learn) (1.26.4)\r\n",
      "Requirement already satisfied: scipy>=1.6.0 in /Library/Frameworks/Python.framework/Versions/3.12/lib/python3.12/site-packages (from scikit-learn) (1.13.0)\r\n",
      "Requirement already satisfied: joblib>=1.2.0 in /Library/Frameworks/Python.framework/Versions/3.12/lib/python3.12/site-packages (from scikit-learn) (1.4.0)\r\n",
      "Requirement already satisfied: threadpoolctl>=3.1.0 in /Library/Frameworks/Python.framework/Versions/3.12/lib/python3.12/site-packages (from scikit-learn) (3.4.0)\r\n",
      "\r\n",
      "\u001B[1m[\u001B[0m\u001B[34;49mnotice\u001B[0m\u001B[1;39;49m]\u001B[0m\u001B[39;49m A new release of pip is available: \u001B[0m\u001B[31;49m24.0\u001B[0m\u001B[39;49m -> \u001B[0m\u001B[32;49m24.1\u001B[0m\r\n",
      "\u001B[1m[\u001B[0m\u001B[34;49mnotice\u001B[0m\u001B[1;39;49m]\u001B[0m\u001B[39;49m To update, run: \u001B[0m\u001B[32;49m/usr/local/bin/python3.12 -m pip install --upgrade pip\u001B[0m\r\n",
      "Note: you may need to restart the kernel to use updated packages.\n"
     ]
    }
   ],
   "execution_count": 3
  },
  {
   "metadata": {
    "ExecuteTime": {
     "end_time": "2024-06-25T18:11:54.382713Z",
     "start_time": "2024-06-25T18:11:53.248040Z"
    }
   },
   "cell_type": "code",
   "source": "%pip install seaborn",
   "id": "9b7b541f8cb6be0",
   "outputs": [
    {
     "name": "stdout",
     "output_type": "stream",
     "text": [
      "Requirement already satisfied: seaborn in /Library/Frameworks/Python.framework/Versions/3.12/lib/python3.12/site-packages (0.13.2)\r\n",
      "Requirement already satisfied: numpy!=1.24.0,>=1.20 in /Library/Frameworks/Python.framework/Versions/3.12/lib/python3.12/site-packages (from seaborn) (1.26.4)\r\n",
      "Requirement already satisfied: pandas>=1.2 in /Library/Frameworks/Python.framework/Versions/3.12/lib/python3.12/site-packages (from seaborn) (2.2.2)\r\n",
      "Requirement already satisfied: matplotlib!=3.6.1,>=3.4 in /Library/Frameworks/Python.framework/Versions/3.12/lib/python3.12/site-packages (from seaborn) (3.9.0)\r\n",
      "Requirement already satisfied: contourpy>=1.0.1 in /Library/Frameworks/Python.framework/Versions/3.12/lib/python3.12/site-packages (from matplotlib!=3.6.1,>=3.4->seaborn) (1.2.1)\r\n",
      "Requirement already satisfied: cycler>=0.10 in /Library/Frameworks/Python.framework/Versions/3.12/lib/python3.12/site-packages (from matplotlib!=3.6.1,>=3.4->seaborn) (0.12.1)\r\n",
      "Requirement already satisfied: fonttools>=4.22.0 in /Library/Frameworks/Python.framework/Versions/3.12/lib/python3.12/site-packages (from matplotlib!=3.6.1,>=3.4->seaborn) (4.52.4)\r\n",
      "Requirement already satisfied: kiwisolver>=1.3.1 in /Library/Frameworks/Python.framework/Versions/3.12/lib/python3.12/site-packages (from matplotlib!=3.6.1,>=3.4->seaborn) (1.4.5)\r\n",
      "Requirement already satisfied: packaging>=20.0 in /Library/Frameworks/Python.framework/Versions/3.12/lib/python3.12/site-packages (from matplotlib!=3.6.1,>=3.4->seaborn) (23.2)\r\n",
      "Requirement already satisfied: pillow>=8 in /Library/Frameworks/Python.framework/Versions/3.12/lib/python3.12/site-packages (from matplotlib!=3.6.1,>=3.4->seaborn) (10.3.0)\r\n",
      "Requirement already satisfied: pyparsing>=2.3.1 in /Library/Frameworks/Python.framework/Versions/3.12/lib/python3.12/site-packages (from matplotlib!=3.6.1,>=3.4->seaborn) (3.1.2)\r\n",
      "Requirement already satisfied: python-dateutil>=2.7 in /Library/Frameworks/Python.framework/Versions/3.12/lib/python3.12/site-packages (from matplotlib!=3.6.1,>=3.4->seaborn) (2.9.0.post0)\r\n",
      "Requirement already satisfied: pytz>=2020.1 in /Library/Frameworks/Python.framework/Versions/3.12/lib/python3.12/site-packages (from pandas>=1.2->seaborn) (2024.1)\r\n",
      "Requirement already satisfied: tzdata>=2022.7 in /Library/Frameworks/Python.framework/Versions/3.12/lib/python3.12/site-packages (from pandas>=1.2->seaborn) (2024.1)\r\n",
      "Requirement already satisfied: six>=1.5 in /Library/Frameworks/Python.framework/Versions/3.12/lib/python3.12/site-packages (from python-dateutil>=2.7->matplotlib!=3.6.1,>=3.4->seaborn) (1.16.0)\r\n",
      "\r\n",
      "\u001B[1m[\u001B[0m\u001B[34;49mnotice\u001B[0m\u001B[1;39;49m]\u001B[0m\u001B[39;49m A new release of pip is available: \u001B[0m\u001B[31;49m24.0\u001B[0m\u001B[39;49m -> \u001B[0m\u001B[32;49m24.1\u001B[0m\r\n",
      "\u001B[1m[\u001B[0m\u001B[34;49mnotice\u001B[0m\u001B[1;39;49m]\u001B[0m\u001B[39;49m To update, run: \u001B[0m\u001B[32;49m/usr/local/bin/python3.12 -m pip install --upgrade pip\u001B[0m\r\n",
      "Note: you may need to restart the kernel to use updated packages.\n"
     ]
    }
   ],
   "execution_count": 4
  },
  {
   "metadata": {
    "ExecuteTime": {
     "end_time": "2024-06-25T18:12:08.052054Z",
     "start_time": "2024-06-25T18:11:54.383597Z"
    }
   },
   "cell_type": "code",
   "source": [
    "from utils import *\n",
    "from ingestion import *\n",
    "from custom_ners import *\n",
    "import pandas as pd\n",
    "\n",
    "sec_data = get_sec_data()\n",
    "\n",
    "\n",
    "def add_chunks_to_df(chunks_to_process, ldf):\n",
    "    contents = []\n",
    "    for i, chunk in enumerate(chunks_to_process):\n",
    "        content = str(chunk.page_content)\n",
    "        contents.append(content)\n",
    "    new_data = pd.DataFrame({\n",
    "    'chunk': contents\n",
    "    })\n",
    "    ldf = pd.concat([ldf,new_data])\n",
    "    \n",
    "    return ldf\n",
    "\n",
    "def create_df(data_dict, tickers=None):\n",
    "    df = pd.DataFrame({'chunk': []})\n",
    "    \n",
    "    if tickers is None:\n",
    "        tickers = list(data_dict.keys())\n",
    "\n",
    "    for ticker in tickers:\n",
    "        if len(data_dict[ticker][\"metadata_file\"]) > 0:\n",
    "            shared_metadata = load_json_metadata(data_dict[ticker][\"metadata_file\"][0])\n",
    "\n",
    "        for filing_file in data_dict[ticker][\"10K_files\"]:\n",
    "            filing_file_filename = str(filing_file).split(\"/\")[len(str(filing_file).split(\"/\")) - 1]\n",
    "            fchunks = get_chunks(filing_file)\n",
    "            df = add_chunks_to_df(fchunks, df)\n",
    "        \n",
    "        for earning_file in data_dict[ticker][\"transcript_files\"]:\n",
    "            earning_file_filename = str(earning_file).split(\"/\")[len(str(earning_file).split(\"/\")) - 1]\n",
    "            echunks = get_chunks(earning_file)\n",
    "            df = add_chunks_to_df(echunks, df)\n",
    "            \n",
    "    return df\n",
    "\n",
    "mydf = create_df(sec_data, tickers=['AAPL'])\n",
    "\n",
    "mydf.head(4)"
   ],
   "id": "bf3880b96de1daac",
   "outputs": [
    {
     "name": "stdout",
     "output_type": "stream",
     "text": [
      " ✅ Loaded doc info for  111 tickers...\n",
      " ✅ Loaded doc info for  111 tickers...\n"
     ]
    },
    {
     "data": {
      "text/plain": [
       "                                               chunk\n",
       "0  UNITED STATES SECURITIES AND EXCHANGE COMMISSI...\n",
       "1  California (State or other jurisdiction of inc...\n",
       "2  1.000% Notes due 2022 1.375% Notes due 2024 0....\n",
       "3  Name of each exchange on which registered The ..."
      ],
      "text/html": [
       "<div>\n",
       "<style scoped>\n",
       "    .dataframe tbody tr th:only-of-type {\n",
       "        vertical-align: middle;\n",
       "    }\n",
       "\n",
       "    .dataframe tbody tr th {\n",
       "        vertical-align: top;\n",
       "    }\n",
       "\n",
       "    .dataframe thead th {\n",
       "        text-align: right;\n",
       "    }\n",
       "</style>\n",
       "<table border=\"1\" class=\"dataframe\">\n",
       "  <thead>\n",
       "    <tr style=\"text-align: right;\">\n",
       "      <th></th>\n",
       "      <th>chunk</th>\n",
       "    </tr>\n",
       "  </thead>\n",
       "  <tbody>\n",
       "    <tr>\n",
       "      <th>0</th>\n",
       "      <td>UNITED STATES SECURITIES AND EXCHANGE COMMISSI...</td>\n",
       "    </tr>\n",
       "    <tr>\n",
       "      <th>1</th>\n",
       "      <td>California (State or other jurisdiction of inc...</td>\n",
       "    </tr>\n",
       "    <tr>\n",
       "      <th>2</th>\n",
       "      <td>1.000% Notes due 2022 1.375% Notes due 2024 0....</td>\n",
       "    </tr>\n",
       "    <tr>\n",
       "      <th>3</th>\n",
       "      <td>Name of each exchange on which registered The ...</td>\n",
       "    </tr>\n",
       "  </tbody>\n",
       "</table>\n",
       "</div>"
      ]
     },
     "execution_count": 5,
     "metadata": {},
     "output_type": "execute_result"
    }
   ],
   "execution_count": 5
  },
  {
   "metadata": {
    "ExecuteTime": {
     "end_time": "2024-06-25T18:12:08.144218Z",
     "start_time": "2024-06-25T18:12:08.052674Z"
    }
   },
   "cell_type": "code",
   "source": [
    "import nltk\n",
    "nltk.download('wordnet')"
   ],
   "id": "22a650e60c67ad5d",
   "outputs": [
    {
     "name": "stderr",
     "output_type": "stream",
     "text": [
      "[nltk_data] Error loading wordnet: <urlopen error [SSL:\n",
      "[nltk_data]     CERTIFICATE_VERIFY_FAILED] certificate verify failed:\n",
      "[nltk_data]     unable to get local issuer certificate (_ssl.c:1000)>\n"
     ]
    },
    {
     "data": {
      "text/plain": [
       "False"
      ]
     },
     "execution_count": 6,
     "metadata": {},
     "output_type": "execute_result"
    }
   ],
   "execution_count": 6
  },
  {
   "metadata": {
    "ExecuteTime": {
     "end_time": "2024-06-25T18:12:08.153372Z",
     "start_time": "2024-06-25T18:12:08.144833Z"
    }
   },
   "cell_type": "code",
   "source": [
    "# data visualisation and manipulation\n",
    "import numpy as np\n",
    "import pandas as pd\n",
    "import matplotlib.pyplot as plt\n",
    "from matplotlib import style\n",
    "import seaborn as sns\n",
    "#configure\n",
    "# sets matplotlib to inline and displays graphs below the corresponding cell.\n",
    "%matplotlib inline  \n",
    "style.use('fivethirtyeight')\n",
    "sns.set(style='whitegrid',color_codes=True)\n",
    "\n",
    "#import nltk\n",
    "import nltk\n",
    "from nltk.corpus import stopwords\n",
    "from nltk.tokenize import word_tokenize,sent_tokenize\n",
    "\n",
    "#preprocessing\n",
    "from nltk.corpus import stopwords  #stopwords\n",
    "from nltk import word_tokenize,sent_tokenize # tokenizing\n",
    "from nltk.stem import PorterStemmer,LancasterStemmer  # using the Porter Stemmer and Lancaster Stemmer and others\n",
    "from nltk.stem.snowball import SnowballStemmer\n",
    "from nltk.stem import WordNetLemmatizer  # lammatizer from WordNet\n",
    "\n",
    "# for named entity recognition (NER)\n",
    "from nltk import ne_chunk\n",
    "\n",
    "# vectorizers for creating the document-term-matrix (DTM)\n",
    "from sklearn.feature_extraction.text import TfidfVectorizer,CountVectorizer\n",
    "\n",
    "#stop-words\n",
    "stop_words=set(['a','an']) #set(nltk.corpus.stopwords.words('english'))"
   ],
   "id": "d88bd257c99bcf13",
   "outputs": [],
   "execution_count": 7
  },
  {
   "metadata": {
    "ExecuteTime": {
     "end_time": "2024-06-25T18:12:08.155460Z",
     "start_time": "2024-06-25T18:12:08.153876Z"
    }
   },
   "cell_type": "code",
   "source": [
    "def clean_text(headline):\n",
    "  le=WordNetLemmatizer()\n",
    "  word_tokens=word_tokenize(headline)\n",
    "  tokens=[le.lemmatize(w) for w in word_tokens if w not in stop_words and len(w)>3]\n",
    "  cleaned_text=\" \".join(tokens)\n",
    "  return cleaned_text"
   ],
   "id": "e175ad0b774f30d6",
   "outputs": [],
   "execution_count": 8
  },
  {
   "metadata": {
    "ExecuteTime": {
     "end_time": "2024-06-25T18:12:08.157258Z",
     "start_time": "2024-06-25T18:12:08.156001Z"
    }
   },
   "cell_type": "code",
   "source": "#mydf['chunk']=mydf['chunk'].apply(clean_text)",
   "id": "bc977cc23bc00514",
   "outputs": [],
   "execution_count": 9
  },
  {
   "metadata": {
    "ExecuteTime": {
     "end_time": "2024-06-25T18:12:08.159071Z",
     "start_time": "2024-06-25T18:12:08.157808Z"
    }
   },
   "cell_type": "code",
   "source": [
    "vectorizer = TfidfVectorizer()\n",
    "vectorizer =TfidfVectorizer(stop_words=list(stop_words),max_features=1000) # to play with. min_df,max_df,max_features etc...\n"
   ],
   "id": "b8811f0cee33f37f",
   "outputs": [],
   "execution_count": 10
  },
  {
   "metadata": {
    "ExecuteTime": {
     "end_time": "2024-06-25T18:12:08.243436Z",
     "start_time": "2024-06-25T18:12:08.159539Z"
    }
   },
   "cell_type": "code",
   "source": [
    "vect_text=vectorizer.fit_transform(mydf['chunk'])\n",
    "vectorizer.get_feature_names_out()"
   ],
   "id": "94c050b8e73f800b",
   "outputs": [
    {
     "data": {
      "text/plain": [
       "array(['00', '000', '01', '02', '03', '04', '05', '06', '07', '08', '10',\n",
       "       '100', '11', '12', '13', '14', '15', '16', '17', '18', '19', '1b',\n",
       "       '20', '200', '2014', '2016', '2017', '2018', '2019', '2020',\n",
       "       '2021', '2022', '2023', '2024', '2025', '21', '22', '23', '24',\n",
       "       '25', '26', '27', '28', '29', '30', '300', '31', '32', '33', '34',\n",
       "       '35', '36', '37', '38', '39', '3b', '40', '408', '41', '42', '43',\n",
       "       '44', '45', '451', '46', '47', '48', '49', '4b', '50', '500', '51',\n",
       "       '52', '53', '54', '55', '56', '57', '58', '59', '5b', '60', '68',\n",
       "       '7b', '85', '8b', '90', '974', '99', '9b', 'aapl', 'ability',\n",
       "       'able', 'about', 'accelerated', 'access', 'accessories',\n",
       "       'accompanying', 'accordance', 'accounted', 'accounting',\n",
       "       'accounts', 'across', 'act', 'actions', 'active', 'activities',\n",
       "       'actual', 'actually', 'addition', 'additional', 'adverse',\n",
       "       'adversely', 'advertising', 'affect', 'affected', 'after', 'again',\n",
       "       'against', 'ago', 'agreement', 'agreements', 'air', 'airpods',\n",
       "       'all', 'almost', 'already', 'also', 'although', 'always',\n",
       "       'americas', 'amit', 'among', 'amount', 'amounts', 'analysis',\n",
       "       'analyst', 'and', 'announced', 'annual', 'another', 'any', 'app',\n",
       "       'apple', 'applecare', 'applicable', 'applications',\n",
       "       'approximately', 'apps', 'april', 'ar', 'are', 'area', 'around',\n",
       "       'arrangements', 'as', 'asia', 'asp', 'assessment', 'assets',\n",
       "       'associated', 'assumptions', 'assurance', 'at', 'audit', 'august',\n",
       "       'availability', 'available', 'average', 'award', 'aﬀect', 'back',\n",
       "       'balance', 'balances', 'bank', 'base', 'based', 'basis', 'be',\n",
       "       'because', 'become', 'been', 'before', 'beginning', 'being',\n",
       "       'believe', 'believes', 'below', 'benefits', 'bernstein', 'best',\n",
       "       'better', 'between', 'billion', 'bit', 'board', 'both', 'bundled',\n",
       "       'business', 'businesses', 'but', 'buyers', 'by', 'california',\n",
       "       'call', 'calls', 'can', 'capital', 'card', 'care', 'carriers',\n",
       "       'cash', 'categories', 'category', 'ceo', 'certain', 'certificate',\n",
       "       'cfo', 'chain', 'change', 'changes', 'changing', 'channel',\n",
       "       'china', 'claims', 'clearly', 'cloud', 'co', 'code', 'come',\n",
       "       'coming', 'comment', 'comments', 'commercial', 'commission',\n",
       "       'common', 'companies', 'company', 'compared', 'compensation',\n",
       "       'competition', 'competitive', 'competitors', 'component',\n",
       "       'components', 'comprehensive', 'computer', 'condition',\n",
       "       'conditions', 'conference', 'consolidated', 'consumer',\n",
       "       'consumers', 'contact', 'content', 'continue', 'continued',\n",
       "       'continues', 'contracts', 'control', 'controls', 'cook',\n",
       "       'corporate', 'cost', 'costs', 'could', 'countries', 'country',\n",
       "       'couple', 'course', 'court', 'covid', 'credit', 'critical',\n",
       "       'cross', 'currencies', 'currency', 'current', 'currently',\n",
       "       'customer', 'customers', 'cycle', 'daryanani', 'data', 'date',\n",
       "       'dated', 'day', 'days', 'debt', 'dec', 'december', 'decision',\n",
       "       'decisions', 'decline', 'deferred', 'demand', 'denominated',\n",
       "       'derivative', 'design', 'designed', 'despite', 'developers',\n",
       "       'development', 'device', 'devices', 'did', 'different',\n",
       "       'difficult', 'digit', 'digital', 'digits', 'diluted', 'director',\n",
       "       'directors', 'disclosure', 'distribution', 'dividend', 'dividends',\n",
       "       'division', 'do', 'does', 'doing', 'dollar', 'dollars', 'don',\n",
       "       'done', 'double', 'down', 'driven', 'due', 'during', 'each',\n",
       "       'earlier', 'early', 'earnings', 'economic', 'ecosystem', 'effect',\n",
       "       'effective', 'emerging', 'employee', 'employees', 'end', 'ended',\n",
       "       'enter', 'entered', 'enterprise', 'environment', 'eps',\n",
       "       'equipment', 'equity', 'equivalents', 'established', 'estimates',\n",
       "       'europe', 'even', 'event', 'ever', 'every', 'everyone', 'example',\n",
       "       'exchange', 'excited', 'executive', 'exhibit', 'expect',\n",
       "       'expectations', 'expected', 'expects', 'expense', 'expenses',\n",
       "       'experience', 'experienced', 'eﬀective', 'facilities', 'fact',\n",
       "       'factors', 'fair', 'fall', 'features', 'federal', 'feel', 'few',\n",
       "       'filed', 'filings', 'financial', 'first', 'fiscal', 'five',\n",
       "       'floating', 'flow', 'fluctuations', 'follow', 'following',\n",
       "       'follows', 'for', 'foreign', 'form', 'forms', 'forward', 'founder',\n",
       "       'four', 'free', 'from', 'full', 'further', 'future', 'fx', 'gains',\n",
       "       'general', 'generally', 'generated', 'geographic', 'get',\n",
       "       'getting', 'give', 'given', 'global', 'gm', 'go', 'goal', 'going',\n",
       "       'good', 'got', 'government', 'great', 'greater', 'grew', 'gross',\n",
       "       'grow', 'growing', 'growth', 'guess', 'guidance', 'had', 'half',\n",
       "       'hardware', 'has', 'have', 'health', 'hedges', 'help', 'here',\n",
       "       'high', 'higher', 'highest', 'highly', 'home', 'how', 'huberty',\n",
       "       'huge', 'id', 'if', 'ii', 'impact', 'impacted', 'important',\n",
       "       'improvement', 'in', 'inc', 'include', 'included', 'includes',\n",
       "       'including', 'income', 'incorporated', 'increase', 'increased',\n",
       "       'india', 'indicate', 'indicates', 'industry', 'information',\n",
       "       'initial', 'initiatives', 'innovative', 'installed', 'instruments',\n",
       "       'intellectual', 'interest', 'internal', 'international', 'into',\n",
       "       'inventory', 'invest', 'investigations', 'investment',\n",
       "       'investments', 'investor', 'investors', 'ios', 'ipad', 'ipads',\n",
       "       'iphone', 'iphones', 'ir', 'is', 'issued', 'issues', 'it', 'item',\n",
       "       'items', 'its', 'itself', 'jaffray', 'japan', 'jim', 'june',\n",
       "       'jurisdictions', 'just', 'kathryn', 'katy', 'keep', 'key', 'kind',\n",
       "       'know', 'large', 'largest', 'last', 'latest', 'launch', 'launched',\n",
       "       'laws', 'lease', 'leases', 'legal', 'less', 'let', 'level',\n",
       "       'leverage', 'liabilities', 'life', 'like', 'likely', 'line',\n",
       "       'litigation', 'little', 'll', 'llc', 'located', 'locations',\n",
       "       'long', 'look', 'looking', 'loss', 'losses', 'lot', 'low', 'lower',\n",
       "       'luca', 'lynn', 'mac', 'macbook', 'made', 'maestri', 'mainland',\n",
       "       'major', 'majority', 'make', 'making', 'manage', 'management',\n",
       "       'manufacturing', 'many', 'march', 'margin', 'margins', 'mark',\n",
       "       'market', 'marketable', 'markets', 'material', 'materially',\n",
       "       'matter', 'matters', 'may', 'maybe', 'md', 'me', 'measured',\n",
       "       'measures', 'members', 'mentioned', 'middle', 'might', 'million',\n",
       "       'millions', 'milunovich', 'mind', 'mix', 'mobile', 'model',\n",
       "       'models', 'momentum', 'month', 'months', 'more', 'morgan', 'most',\n",
       "       'much', 'multiple', 'music', 'my', 'nancy', 'nearly', 'need',\n",
       "       'negative', 'net', 'network', 'new', 'news', 'next', 'no', 'non',\n",
       "       'not', 'note', 'notes', 'november', 'now', 'number', 'numbers',\n",
       "       'obligation', 'obligations', 'obtain', 'obviously', 'october',\n",
       "       'of', 'off', 'offer', 'offerings', 'officer', 'offset', 'okay',\n",
       "       'on', 'one', 'online', 'only', 'open', 'operating', 'operations',\n",
       "       'operator', 'opex', 'opinion', 'opportunity', 'or', 'other',\n",
       "       'others', 'our', 'out', 'outside', 'outsourcing', 'outstanding',\n",
       "       'over', 'overall', 'own', 'oﬃcer', 'pacific', 'paid', 'pandemic',\n",
       "       'paper', 'part', 'partially', 'particular', 'particularly',\n",
       "       'partners', 'party', 'past', 'paxton', 'pay', 'payable', 'payment',\n",
       "       'payments', 'people', 'per', 'percentage', 'performance', 'period',\n",
       "       'periods', 'personal', 'phone', 'piper', 'place', 'plan', 'plans',\n",
       "       'plant', 'platform', 'platforms', 'please', 'plus', 'point',\n",
       "       'points', 'policies', 'popular', 'portfolio', 'portion',\n",
       "       'position', 'positions', 'positive', 'potential', 'powerful',\n",
       "       'presentation', 'pretty', 'price', 'prices', 'pricing',\n",
       "       'primarily', 'principal', 'privacy', 'pro', 'probably',\n",
       "       'procedures', 'proceedings', 'process', 'product', 'products',\n",
       "       'program', 'programs', 'property', 'protect', 'provide',\n",
       "       'provided', 'providing', 'provision', 'public', 'purchase',\n",
       "       'purchases', 'pursuant', 'put', 'q1', 'q2', 'qtr', 'quality',\n",
       "       'quarter', 'quarterly', 'quarters', 'question', 'questions',\n",
       "       'quite', 'range', 'rate', 'rates', 're', 'reached', 'really',\n",
       "       'reasonable', 'receivables', 'recent', 'recently', 'recognized',\n",
       "       'record', 'records', 'reduced', 'regarding', 'registered',\n",
       "       'registrant', 'regulations', 'related', 'relating', 'relative',\n",
       "       'replacement', 'replay', 'report', 'reportable', 'reported',\n",
       "       'reporting', 'reports', 'representing', 'repurchase',\n",
       "       'repurchases', 'reputation', 'require', 'required', 'requirements',\n",
       "       'research', 'resources', 'respectively', 'response',\n",
       "       'responsibility', 'rest', 'restricted', 'result', 'resulting',\n",
       "       'results', 'retail', 'return', 'returned', 'reuters', 'revenue',\n",
       "       'revenues', 'review', 'right', 'rights', 'risk', 'risks', 'rsus',\n",
       "       'sacconaghi', 'said', 'sale', 'sales', 'same', 'satisfaction',\n",
       "       'saw', 'say', 'se', 'sec', 'second', 'section', 'securities',\n",
       "       'security', 'see', 'seeing', 'seen', 'segment', 'segments', 'sell',\n",
       "       'selling', 'senior', 'sept', 'september', 'sequential',\n",
       "       'sequentially', 'service', 'services', 'set', 'several', 'shannon',\n",
       "       'share', 'shareholders', 'shares', 'should', 'shows', 'side',\n",
       "       'siemsen', 'significant', 'significantly', 'signiﬁcant', 'similar',\n",
       "       'since', 'single', 'siri', 'site', 'size', 'smartphone',\n",
       "       'smartphones', 'so', 'software', 'sold', 'solutions', 'some',\n",
       "       'something', 'sort', 'sources', 'standards', 'stanley', 'start',\n",
       "       'started', 'state', 'stated', 'statement', 'statements', 'states',\n",
       "       'steve', 'still', 'stock', 'store', 'stores', 'strong', 'subject',\n",
       "       'subscription', 'subscriptions', 'substantial', 'success',\n",
       "       'successful', 'such', 'summary', 'suppliers', 'supply', 'support',\n",
       "       'sure', 'sync', 'system', 'systems', 'table', 'tablet', 'tablets',\n",
       "       'take', 'talk', 'talked', 'target', 'tax', 'taxes', 'team',\n",
       "       'technologies', 'technology', 'telephone', 'term', 'terms', 'than',\n",
       "       'thank', 'thanks', 'that', 'the', 'their', 'them', 'then', 'there',\n",
       "       'therefore', 'these', 'they', 'thing', 'things', 'think',\n",
       "       'thinking', 'third', 'this', 'thomson', 'those', 'thousands',\n",
       "       'three', 'through', 'tim', 'time', 'times', 'timothy', 'to',\n",
       "       'today', 'toni', 'top', 'total', 'trade', 'transactions',\n",
       "       'transcripts', 'tv', 'two', 'ubs', 'uncertain', 'uncertainties',\n",
       "       'under', 'underlying', 'understand', 'unit', 'united', 'units',\n",
       "       'up', 'upgrade', 'upon', 'us', 'use', 'used', 'user', 'users',\n",
       "       'uses', 'using', 'value', 'variety', 'various', 've', 'versus',\n",
       "       'very', 'view', 'vp', 'vs', 'wamsi', 'want', 'wanted', 'was',\n",
       "       'watch', 'way', 'we', 'wearables', 'web', 'week', 'weeks', 'well',\n",
       "       'were', 'what', 'when', 'where', 'whether', 'which', 'while',\n",
       "       'who', 'wide', 'will', 'with', 'within', 'without', 'work',\n",
       "       'working', 'world', 'worldwide', 'would', 'year', 'years', 'yes',\n",
       "       'yet', 'you', 'your', 'yovery', 'ﬁnancial'], dtype=object)"
      ]
     },
     "execution_count": 11,
     "metadata": {},
     "output_type": "execute_result"
    }
   ],
   "execution_count": 11
  },
  {
   "metadata": {
    "ExecuteTime": {
     "end_time": "2024-06-25T18:12:08.247680Z",
     "start_time": "2024-06-25T18:12:08.245310Z"
    }
   },
   "cell_type": "code",
   "source": [
    "print(vect_text.shape)\n",
    "print(vect_text)"
   ],
   "id": "dc9a1f3f4d27e881",
   "outputs": [
    {
     "name": "stdout",
     "output_type": "stream",
     "text": [
      "(4636, 1000)\n",
      "  (0, 941)\t0.1461725174555283\n",
      "  (0, 860)\t0.14413038694249455\n",
      "  (0, 807)\t0.32078066379086606\n",
      "  (0, 137)\t0.03257362499825736\n",
      "  (0, 361)\t0.33418777266101074\n",
      "  (0, 234)\t0.2766585596771437\n",
      "  (0, 397)\t0.09435923490414463\n",
      "  (0, 10)\t0.08089432521140268\n",
      "  (0, 567)\t0.13363003617785668\n",
      "  (0, 634)\t0.09666440724175078\n",
      "  (0, 139)\t0.1293176368422184\n",
      "  (0, 761)\t0.25067203948328376\n",
      "  (0, 726)\t0.28097988012936503\n",
      "  (0, 924)\t0.1162048842507249\n",
      "  (0, 806)\t0.28097988012936503\n",
      "  (0, 14)\t0.20504303333345175\n",
      "  (0, 644)\t0.19330759896412902\n",
      "  (0, 16)\t0.20359641099652276\n",
      "  (0, 626)\t0.17359498234952464\n",
      "  (0, 901)\t0.1402894700438602\n",
      "  (0, 103)\t0.25254636967811855\n",
      "  (0, 395)\t0.10032332678443576\n",
      "  (0, 387)\t0.12826079957225703\n",
      "  (0, 992)\t0.08215456660029853\n",
      "  (0, 343)\t0.1293176368422184\n",
      "  :\t:\n",
      "  (4635, 137)\t0.05501353687136822\n",
      "  (4635, 924)\t0.06541940690463872\n",
      "  (4635, 644)\t0.10882561912894972\n",
      "  (4635, 901)\t0.1184673172441738\n",
      "  (4635, 645)\t0.12728125092964526\n",
      "  (4635, 124)\t0.12890397271228723\n",
      "  (4635, 237)\t0.19457521722410817\n",
      "  (4635, 141)\t0.16118684733035213\n",
      "  (4635, 151)\t0.10479199480925849\n",
      "  (4635, 29)\t0.16996670248591636\n",
      "  (4635, 950)\t0.19771679820334104\n",
      "  (4635, 791)\t0.21720599787346617\n",
      "  (4635, 804)\t0.22497061199608598\n",
      "  (4635, 384)\t0.24023480972807199\n",
      "  (4635, 559)\t0.20726110673920736\n",
      "  (4635, 292)\t0.22497061199608598\n",
      "  (4635, 486)\t0.19590099086126955\n",
      "  (4635, 145)\t0.42233037718651106\n",
      "  (4635, 789)\t0.234507023234452\n",
      "  (4635, 182)\t0.2091677349811819\n",
      "  (4635, 915)\t0.21380370624162828\n",
      "  (4635, 786)\t0.21380370624162828\n",
      "  (4635, 204)\t0.18754981335541976\n",
      "  (4635, 249)\t0.20326393139909452\n",
      "  (4635, 503)\t0.2423321766649523\n"
     ]
    }
   ],
   "execution_count": 12
  },
  {
   "metadata": {
    "ExecuteTime": {
     "end_time": "2024-06-25T18:12:08.250009Z",
     "start_time": "2024-06-25T18:12:08.248115Z"
    }
   },
   "cell_type": "code",
   "source": [
    "idf=vectorizer.idf_\n",
    "\n",
    "dd=dict(zip(vectorizer.get_feature_names_out(), idf))\n",
    "l=sorted(dd, key=(dd).get)\n",
    "# print(l)\n",
    "print(l[0],l[-1])"
   ],
   "id": "605561376b50ae37",
   "outputs": [
    {
     "name": "stdout",
     "output_type": "stream",
     "text": [
      "and court\n"
     ]
    }
   ],
   "execution_count": 13
  },
  {
   "metadata": {
    "ExecuteTime": {
     "end_time": "2024-06-25T18:12:08.348285Z",
     "start_time": "2024-06-25T18:12:08.250492Z"
    }
   },
   "cell_type": "code",
   "source": [
    "from sklearn.decomposition import TruncatedSVD\n",
    "lsa_model = TruncatedSVD(n_components=10, algorithm='randomized', n_iter=10, random_state=42)\n",
    "\n",
    "lsa_top=lsa_model.fit_transform(vect_text)"
   ],
   "id": "c3cc449d8b74496d",
   "outputs": [],
   "execution_count": 14
  },
  {
   "metadata": {
    "ExecuteTime": {
     "end_time": "2024-06-25T18:12:08.354952Z",
     "start_time": "2024-06-25T18:12:08.350420Z"
    }
   },
   "cell_type": "code",
   "source": [
    "print(lsa_top)\n",
    "print(lsa_top.shape)  # (no_of_doc*no_of_topics)"
   ],
   "id": "c592bc295ba31538",
   "outputs": [
    {
     "name": "stdout",
     "output_type": "stream",
     "text": [
      "[[ 0.24477686 -0.17494118  0.06497302 ...  0.11155636 -0.08822998\n",
      "  -0.04704494]\n",
      " [ 0.14675172 -0.11503872  0.02393884 ...  0.04916696 -0.05544951\n",
      "  -0.09161976]\n",
      " [ 0.02862852 -0.04897972  0.00819743 ...  0.26460487  0.68534019\n",
      "  -0.36478646]\n",
      " ...\n",
      " [ 0.2866655  -0.15987939 -0.04784074 ...  0.08136994 -0.19211121\n",
      "  -0.26812745]\n",
      " [ 0.32338402 -0.24546369 -0.04905014 ... -0.019561   -0.21457323\n",
      "  -0.30946369]\n",
      " [ 0.17706038 -0.1725195  -0.02544214 ... -0.05986437 -0.10815817\n",
      "  -0.16303164]]\n",
      "(4636, 10)\n"
     ]
    }
   ],
   "execution_count": 15
  },
  {
   "metadata": {
    "ExecuteTime": {
     "end_time": "2024-06-25T18:12:08.359893Z",
     "start_time": "2024-06-25T18:12:08.356271Z"
    }
   },
   "cell_type": "code",
   "source": [
    "l=lsa_top[0]\n",
    "print(\"Document 0 :\")\n",
    "for i,topic in enumerate(l):\n",
    "  print(\"Topic \",i,\" : \",topic*100)"
   ],
   "id": "c9349e81ac09b9e",
   "outputs": [
    {
     "name": "stdout",
     "output_type": "stream",
     "text": [
      "Document 0 :\n",
      "Topic  0  :  24.47768567733407\n",
      "Topic  1  :  -17.494117567114653\n",
      "Topic  2  :  6.497302178473769\n",
      "Topic  3  :  -1.086471929631208\n",
      "Topic  4  :  1.1065234474520078\n",
      "Topic  5  :  -15.72766253922503\n",
      "Topic  6  :  5.190381971689698\n",
      "Topic  7  :  11.155635528391981\n",
      "Topic  8  :  -8.822997739115975\n",
      "Topic  9  :  -4.704493552230189\n"
     ]
    }
   ],
   "execution_count": 16
  },
  {
   "metadata": {
    "ExecuteTime": {
     "end_time": "2024-06-25T18:12:08.367557Z",
     "start_time": "2024-06-25T18:12:08.361585Z"
    }
   },
   "cell_type": "code",
   "source": [
    "#most important words for each topic\n",
    "vocab = vectorizer.get_feature_names_out()\n",
    "\n",
    "for i, comp in enumerate(lsa_model.components_):\n",
    "    vocab_comp = zip(vocab, comp)\n",
    "    sorted_words = sorted(vocab_comp, key= lambda x:x[1], reverse=True)[:10]\n",
    "    print(\"Topic \"+str(i)+\": \")\n",
    "    for t in sorted_words:\n",
    "        print(t[0],end=\" \")\n",
    "    print(\"\\n\")"
   ],
   "id": "8b35552aaf632b16",
   "outputs": [
    {
     "name": "stdout",
     "output_type": "stream",
     "text": [
      "Topic 0: \n",
      "the and of sync id to we time in 00 \n",
      "\n",
      "Topic 1: \n",
      "sync id 00 time we you that so re it \n",
      "\n",
      "Topic 2: \n",
      "inc apple ceo cook director timothy senior maestri cfo luca \n",
      "\n",
      "Topic 3: \n",
      "research analyst division md cross llc senior co morgan huberty \n",
      "\n",
      "Topic 4: \n",
      "company the or sync id 00 could adversely may its \n",
      "\n",
      "Topic 5: \n",
      "we that you cook ceo it timothy so think director \n",
      "\n",
      "Topic 6: \n",
      "maestri cfo luca vp senior we inc that the apple \n",
      "\n",
      "Topic 7: \n",
      "notes we the september 2022 2021 due that billion as \n",
      "\n",
      "Topic 8: \n",
      "notes due products dated services we representing global and forms \n",
      "\n",
      "Topic 9: \n",
      "we and sales company net our products services billion 2021 \n",
      "\n"
     ]
    }
   ],
   "execution_count": 17
  },
  {
   "metadata": {
    "ExecuteTime": {
     "end_time": "2024-06-25T18:12:08.371738Z",
     "start_time": "2024-06-25T18:12:08.368824Z"
    }
   },
   "cell_type": "code",
   "source": [
    "from sklearn.decomposition import LatentDirichletAllocation\n",
    "lda_model=LatentDirichletAllocation(n_components=10,learning_method='online',random_state=42,max_iter=1) \n",
    "# n_components is the number of topics"
   ],
   "id": "e5e95f4f3ff5df5e",
   "outputs": [],
   "execution_count": 18
  },
  {
   "metadata": {
    "ExecuteTime": {
     "end_time": "2024-06-25T18:12:09.234907Z",
     "start_time": "2024-06-25T18:12:08.373526Z"
    }
   },
   "cell_type": "code",
   "source": "lda_top=lda_model.fit_transform(vect_text)",
   "id": "6280bd46eb7bc6bc",
   "outputs": [],
   "execution_count": 19
  },
  {
   "metadata": {
    "ExecuteTime": {
     "end_time": "2024-06-25T18:12:09.237592Z",
     "start_time": "2024-06-25T18:12:09.235428Z"
    }
   },
   "cell_type": "code",
   "source": [
    "print(lda_top.shape)  # (no_of_doc,no_of_topics)\n",
    "print(lda_top)"
   ],
   "id": "febbac30daf13cbf",
   "outputs": [
    {
     "name": "stdout",
     "output_type": "stream",
     "text": [
      "(4636, 10)\n",
      "[[0.01583442 0.01583599 0.85745865 ... 0.01583401 0.01583916 0.01583917]\n",
      " [0.01612982 0.01613297 0.01619947 ... 0.01613009 0.0161415  0.01622785]\n",
      " [0.03277379 0.03276937 0.70506177 ... 0.03276939 0.03277341 0.0327695 ]\n",
      " ...\n",
      " [0.01771924 0.01772111 0.0177195  ... 0.01772112 0.01771959 0.84051949]\n",
      " [0.01466458 0.01466606 0.01466505 ... 0.01466492 0.014666   0.79325414]\n",
      " [0.01763875 0.01763966 0.01764037 ... 0.01763878 0.0176396  0.64262856]]\n"
     ]
    }
   ],
   "execution_count": 20
  },
  {
   "metadata": {
    "ExecuteTime": {
     "end_time": "2024-06-25T18:12:09.240405Z",
     "start_time": "2024-06-25T18:12:09.238209Z"
    }
   },
   "cell_type": "code",
   "source": [
    "sum=0\n",
    "for i in lda_top[0]:\n",
    "  sum=sum+i\n",
    "print(sum)  "
   ],
   "id": "ee76b8b0d6841859",
   "outputs": [
    {
     "name": "stdout",
     "output_type": "stream",
     "text": [
      "1.0\n"
     ]
    }
   ],
   "execution_count": 21
  },
  {
   "metadata": {
    "ExecuteTime": {
     "end_time": "2024-06-25T18:12:09.244824Z",
     "start_time": "2024-06-25T18:12:09.241479Z"
    }
   },
   "cell_type": "code",
   "source": [
    "# composition of doc 0 for eg\n",
    "print(\"Document 0: \")\n",
    "for i,topic in enumerate(lda_top[0]):\n",
    "  print(\"Topic \",i,\": \",topic*100,\"%\")"
   ],
   "id": "90c21f6eb3f2dc9d",
   "outputs": [
    {
     "name": "stdout",
     "output_type": "stream",
     "text": [
      "Document 0: \n",
      "Topic  0 :  1.5834422425956598 %\n",
      "Topic  1 :  1.583598589776613 %\n",
      "Topic  2 :  85.74586516132702 %\n",
      "Topic  3 :  1.5836733341123066 %\n",
      "Topic  4 :  1.5836465122281156 %\n",
      "Topic  5 :  1.5839747422492638 %\n",
      "Topic  6 :  1.5845656740454253 %\n",
      "Topic  7 :  1.5834010566990055 %\n",
      "Topic  8 :  1.5839160266783134 %\n",
      "Topic  9 :  1.5839166602882957 %\n"
     ]
    }
   ],
   "execution_count": 22
  },
  {
   "metadata": {
    "ExecuteTime": {
     "end_time": "2024-06-25T18:12:09.247809Z",
     "start_time": "2024-06-25T18:12:09.245338Z"
    }
   },
   "cell_type": "code",
   "source": [
    "print(lda_model.components_)\n",
    "print(lda_model.components_.shape)  # (no_of_topics*no_of_words)"
   ],
   "id": "11f5d385de1e020",
   "outputs": [
    {
     "name": "stdout",
     "output_type": "stream",
     "text": [
      "[[ 0.12390176  0.90491988  0.11456306 ...  0.1168262   0.42328713\n",
      "   0.15194682]\n",
      " [ 0.13210231  0.11561148  0.11071067 ...  0.1147862   0.11535392\n",
      "   1.19208134]\n",
      " [ 1.79997983  2.97850778  0.13886929 ...  0.12225594  0.19102889\n",
      "   0.59537648]\n",
      " ...\n",
      " [ 0.24835651  0.11682448  0.11525987 ...  0.15590495  0.18871451\n",
      "   2.17997136]\n",
      " [ 1.55566247  0.18717668  0.11554971 ...  5.25880043 34.40735168\n",
      "   0.38171515]\n",
      " [ 0.17864907  0.1548663   0.11696476 ...  0.1267954   0.12024605\n",
      "   1.72134622]]\n",
      "(10, 1000)\n"
     ]
    }
   ],
   "execution_count": 23
  },
  {
   "metadata": {
    "ExecuteTime": {
     "end_time": "2024-06-25T18:12:09.254026Z",
     "start_time": "2024-06-25T18:12:09.248997Z"
    }
   },
   "cell_type": "code",
   "source": [
    "# most important words for each topic\n",
    "vocab = vectorizer.get_feature_names_out()\n",
    "\n",
    "for i, comp in enumerate(lda_model.components_):\n",
    "    vocab_comp = zip(vocab, comp)\n",
    "    sorted_words = sorted(vocab_comp, key= lambda x:x[1], reverse=True)[:10]\n",
    "    print(\"Topic \"+str(i)+\": \")\n",
    "    for t in sorted_words:\n",
    "        print(t[0],end=\" \")\n",
    "    print(\"\\n\")"
   ],
   "id": "1a884669096c3682",
   "outputs": [
    {
     "name": "stdout",
     "output_type": "stream",
     "text": [
      "Topic 0: \n",
      "china india card europe middle rest co commercial markets greater \n",
      "\n",
      "Topic 1: \n",
      "the company stated and materially upon risks or future of \n",
      "\n",
      "Topic 2: \n",
      "notes due of sales the states net united and total \n",
      "\n",
      "Topic 3: \n",
      "the that time and we to of in it is \n",
      "\n",
      "Topic 4: \n",
      "sync id 00 research you analyst division time we operator \n",
      "\n",
      "Topic 5: \n",
      "review cash of billion the shares 408 for share tax \n",
      "\n",
      "Topic 6: \n",
      "inc cook apple ceo director timothy maestri luca cfo vp \n",
      "\n",
      "Topic 7: \n",
      "business have follow could results condition the adversely operations company \n",
      "\n",
      "Topic 8: \n",
      "revenue qtr iphone in co year new growth apple ipad \n",
      "\n",
      "Topic 9: \n",
      "the any or company and applicable forward to of looking \n",
      "\n"
     ]
    }
   ],
   "execution_count": 24
  },
  {
   "metadata": {
    "ExecuteTime": {
     "end_time": "2024-06-25T18:12:10.585180Z",
     "start_time": "2024-06-25T18:12:09.255055Z"
    }
   },
   "cell_type": "code",
   "source": "%pip install wordcloud",
   "id": "6053119333ef7587",
   "outputs": [
    {
     "name": "stdout",
     "output_type": "stream",
     "text": [
      "Requirement already satisfied: wordcloud in /Library/Frameworks/Python.framework/Versions/3.12/lib/python3.12/site-packages (1.9.3)\r\n",
      "Requirement already satisfied: numpy>=1.6.1 in /Library/Frameworks/Python.framework/Versions/3.12/lib/python3.12/site-packages (from wordcloud) (1.26.4)\r\n",
      "Requirement already satisfied: pillow in /Library/Frameworks/Python.framework/Versions/3.12/lib/python3.12/site-packages (from wordcloud) (10.3.0)\r\n",
      "Requirement already satisfied: matplotlib in /Library/Frameworks/Python.framework/Versions/3.12/lib/python3.12/site-packages (from wordcloud) (3.9.0)\r\n",
      "Requirement already satisfied: contourpy>=1.0.1 in /Library/Frameworks/Python.framework/Versions/3.12/lib/python3.12/site-packages (from matplotlib->wordcloud) (1.2.1)\r\n",
      "Requirement already satisfied: cycler>=0.10 in /Library/Frameworks/Python.framework/Versions/3.12/lib/python3.12/site-packages (from matplotlib->wordcloud) (0.12.1)\r\n",
      "Requirement already satisfied: fonttools>=4.22.0 in /Library/Frameworks/Python.framework/Versions/3.12/lib/python3.12/site-packages (from matplotlib->wordcloud) (4.52.4)\r\n",
      "Requirement already satisfied: kiwisolver>=1.3.1 in /Library/Frameworks/Python.framework/Versions/3.12/lib/python3.12/site-packages (from matplotlib->wordcloud) (1.4.5)\r\n",
      "Requirement already satisfied: packaging>=20.0 in /Library/Frameworks/Python.framework/Versions/3.12/lib/python3.12/site-packages (from matplotlib->wordcloud) (23.2)\r\n",
      "Requirement already satisfied: pyparsing>=2.3.1 in /Library/Frameworks/Python.framework/Versions/3.12/lib/python3.12/site-packages (from matplotlib->wordcloud) (3.1.2)\r\n",
      "Requirement already satisfied: python-dateutil>=2.7 in /Library/Frameworks/Python.framework/Versions/3.12/lib/python3.12/site-packages (from matplotlib->wordcloud) (2.9.0.post0)\r\n",
      "Requirement already satisfied: six>=1.5 in /Library/Frameworks/Python.framework/Versions/3.12/lib/python3.12/site-packages (from python-dateutil>=2.7->matplotlib->wordcloud) (1.16.0)\r\n",
      "\r\n",
      "\u001B[1m[\u001B[0m\u001B[34;49mnotice\u001B[0m\u001B[1;39;49m]\u001B[0m\u001B[39;49m A new release of pip is available: \u001B[0m\u001B[31;49m24.0\u001B[0m\u001B[39;49m -> \u001B[0m\u001B[32;49m24.1\u001B[0m\r\n",
      "\u001B[1m[\u001B[0m\u001B[34;49mnotice\u001B[0m\u001B[1;39;49m]\u001B[0m\u001B[39;49m To update, run: \u001B[0m\u001B[32;49m/usr/local/bin/python3.12 -m pip install --upgrade pip\u001B[0m\r\n",
      "Note: you may need to restart the kernel to use updated packages.\n"
     ]
    }
   ],
   "execution_count": 25
  },
  {
   "metadata": {
    "ExecuteTime": {
     "end_time": "2024-06-25T18:12:19.549965Z",
     "start_time": "2024-06-25T18:12:19.546345Z"
    }
   },
   "cell_type": "code",
   "source": [
    "from wordcloud import WordCloud\n",
    "# Generate a word cloud image for given topic\n",
    "def draw_word_cloud(index):\n",
    "  imp_words_topic=\"\"\n",
    "  comp=lda_model.components_[index]\n",
    "  vocab_comp = zip(vocab, comp)\n",
    "  sorted_words = sorted(vocab_comp, key= lambda x:x[1], reverse=True)[:50]\n",
    "  for word in sorted_words:\n",
    "    imp_words_topic=imp_words_topic+\" \"+word[0]\n",
    "\n",
    "  wordcloud = WordCloud(width=600, height=400).generate(imp_words_topic)\n",
    "  plt.figure( figsize=(5,5))\n",
    "  plt.imshow(wordcloud)\n",
    "  plt.axis(\"off\")\n",
    "  plt.tight_layout()\n",
    "  plt.show()\n",
    " "
   ],
   "id": "8c0cd3178e7e82c1",
   "outputs": [],
   "execution_count": 27
  },
  {
   "metadata": {
    "ExecuteTime": {
     "end_time": "2024-06-25T18:12:43.819604Z",
     "start_time": "2024-06-25T18:12:43.623701Z"
    }
   },
   "cell_type": "code",
   "source": [
    "# topic 0\n",
    "draw_word_cloud(0)"
   ],
   "id": "7d186a3cee614479",
   "outputs": [
    {
     "data": {
      "text/plain": [
       "<Figure size 500x500 with 1 Axes>"
      ],
      "image/png": "[encoded data removed]"
     },
     "metadata": {},
     "output_type": "display_data"
    }
   ],
   "execution_count": 28
  },
  {
   "metadata": {},
   "cell_type": "code",
   "outputs": [],
   "execution_count": null,
   "source": "",
   "id": "8aa6c0249a665361"
  }
 ],
 "metadata": {
  "kernelspec": {
   "display_name": "Python 3",
   "language": "python",
   "name": "python3"
  },
  "language_info": {
   "codemirror_mode": {
    "name": "ipython",
    "version": 2
   },
   "file_extension": ".py",
   "mimetype": "text/x-python",
   "name": "python",
   "nbconvert_exporter": "python",
   "pygments_lexer": "ipython2",
   "version": "2.7.6"
  }
 },
 "nbformat": 4,
 "nbformat_minor": 5
}
