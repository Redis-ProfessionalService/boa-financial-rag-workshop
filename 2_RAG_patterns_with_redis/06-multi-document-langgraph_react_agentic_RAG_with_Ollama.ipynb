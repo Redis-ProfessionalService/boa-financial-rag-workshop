{
 "cells": [
  {
   "cell_type": "markdown",
   "id": "425fb020-e864-40ce-a31f-8da40c73d14b",
   "metadata": {},
   "source": [
    "<div align=\"center\">\n",
    "    <div><img src=\"../assets/redis_logo.svg\" style=\"width: 130px\"> </div>\n",
    "    <div style=\"display: inline-block; text-align: center; margin-bottom: 10px;\">\n",
    "        <span style=\"font-size: 36px;\"><b>Multi-document RAG based on LangGraph with Redis Retrieval Agent using Ollama and React agents</b></span>\n",
    "        <br />\n",
    "    </div>\n",
    "    <br />\n",
    "</div>\n",
    "\n",
    "# \n",
    "[Retrieval Agents](https://python.langchain.com/docs/use_cases/question_answering/conversational_retrieval_agents) are useful when we want to make decisions about whether to retrieve from an index. Here we construct the same single index of 10Ks with metadata that we tried in notebook 04.\n",
    "\n",
    "To implement a Redis retrieval agent, we simply need to give an LLM access to a Redis retriever tool.\n",
    "\n",
    "We can incorporate this into [LangGraph](https://python.langchain.com/docs/langgraph)."
   ]
  },
  {
   "metadata": {},
   "cell_type": "markdown",
   "source": "## Environment Setup",
   "id": "c54f1e55f5310c1b"
  },
  {
   "cell_type": "code",
   "id": "e4958a8c",
   "metadata": {
    "ExecuteTime": {
     "end_time": "2024-06-11T16:28:17.365059Z",
     "start_time": "2024-06-11T16:28:17.358220Z"
    }
   },
   "source": [
    "import os\n",
    "import warnings\n",
    "import dotenv\n",
    "# mute warnings\n",
    "warnings.filterwarnings('ignore')\n",
    "# load env vars from .env file\n",
    "dotenv.load_dotenv()\n",
    "dir_path = os.getcwd()\n",
    "parent_directory = os.path.dirname(dir_path)\n",
    "os.environ[\"ROOT_DIR\"] = parent_directory\n",
    "REDIS_URL = os.getenv(\"REDIS_URL\")\n",
    "print(dir_path)\n",
    "print(parent_directory)"
   ],
   "outputs": [
    {
     "name": "stdout",
     "output_type": "stream",
     "text": [
      "/Users/rouzbeh.farahmand/PycharmProjects/boa-financial-rag-workshop/2_RAG_patterns_with_redis\n",
      "/Users/rouzbeh.farahmand/PycharmProjects/boa-financial-rag-workshop\n"
     ]
    }
   ],
   "execution_count": 1
  },
  {
   "metadata": {},
   "cell_type": "markdown",
   "source": "### Install Python Dependencies",
   "id": "2c22327a44dd1c4d"
  },
  {
   "metadata": {
    "ExecuteTime": {
     "end_time": "2024-06-11T16:28:19.743568Z",
     "start_time": "2024-06-11T16:28:17.365794Z"
    }
   },
   "cell_type": "code",
   "source": "%pip install -r $ROOT_DIR/requirements.txt",
   "id": "fe27d19af62e7bc5",
   "outputs": [
    {
     "name": "stdout",
     "output_type": "stream",
     "text": [
      "Requirement already satisfied: python-dotenv in /Library/Frameworks/Python.framework/Versions/3.12/lib/python3.12/site-packages (from -r /Users/rouzbeh.farahmand/PycharmProjects/boa-financial-rag-workshop/requirements.txt (line 1)) (1.0.1)\r\n",
      "Requirement already satisfied: tiktoken in /Library/Frameworks/Python.framework/Versions/3.12/lib/python3.12/site-packages (from -r /Users/rouzbeh.farahmand/PycharmProjects/boa-financial-rag-workshop/requirements.txt (line 2)) (0.7.0)\r\n",
      "Requirement already satisfied: langchain in /Library/Frameworks/Python.framework/Versions/3.12/lib/python3.12/site-packages (from -r /Users/rouzbeh.farahmand/PycharmProjects/boa-financial-rag-workshop/requirements.txt (line 3)) (0.2.1)\r\n",
      "Requirement already satisfied: langchain-community in /Library/Frameworks/Python.framework/Versions/3.12/lib/python3.12/site-packages (from -r /Users/rouzbeh.farahmand/PycharmProjects/boa-financial-rag-workshop/requirements.txt (line 4)) (0.2.1)\r\n",
      "Requirement already satisfied: sentence-transformers in /Library/Frameworks/Python.framework/Versions/3.12/lib/python3.12/site-packages (from -r /Users/rouzbeh.farahmand/PycharmProjects/boa-financial-rag-workshop/requirements.txt (line 6)) (2.7.0)\r\n",
      "Requirement already satisfied: pandas in /Library/Frameworks/Python.framework/Versions/3.12/lib/python3.12/site-packages (from -r /Users/rouzbeh.farahmand/PycharmProjects/boa-financial-rag-workshop/requirements.txt (line 7)) (2.2.2)\r\n",
      "Requirement already satisfied: pdf2image in /Library/Frameworks/Python.framework/Versions/3.12/lib/python3.12/site-packages (from -r /Users/rouzbeh.farahmand/PycharmProjects/boa-financial-rag-workshop/requirements.txt (line 8)) (1.17.0)\r\n",
      "Requirement already satisfied: spacy in /Library/Frameworks/Python.framework/Versions/3.12/lib/python3.12/site-packages (from -r /Users/rouzbeh.farahmand/PycharmProjects/boa-financial-rag-workshop/requirements.txt (line 9)) (3.7.4)\r\n",
      "Requirement already satisfied: langgraph in /Library/Frameworks/Python.framework/Versions/3.12/lib/python3.12/site-packages (from -r /Users/rouzbeh.farahmand/PycharmProjects/boa-financial-rag-workshop/requirements.txt (line 10)) (0.0.59)\r\n",
      "Requirement already satisfied: redis in /Library/Frameworks/Python.framework/Versions/3.12/lib/python3.12/site-packages (from -r /Users/rouzbeh.farahmand/PycharmProjects/boa-financial-rag-workshop/requirements.txt (line 11)) (5.0.3)\r\n",
      "Requirement already satisfied: redisvl in /Library/Frameworks/Python.framework/Versions/3.12/lib/python3.12/site-packages (from -r /Users/rouzbeh.farahmand/PycharmProjects/boa-financial-rag-workshop/requirements.txt (line 12)) (0.1.3)\r\n",
      "Requirement already satisfied: langchain-openai in /Library/Frameworks/Python.framework/Versions/3.12/lib/python3.12/site-packages (from -r /Users/rouzbeh.farahmand/PycharmProjects/boa-financial-rag-workshop/requirements.txt (line 13)) (0.1.8)\r\n",
      "Requirement already satisfied: openai in /Library/Frameworks/Python.framework/Versions/3.12/lib/python3.12/site-packages (from -r /Users/rouzbeh.farahmand/PycharmProjects/boa-financial-rag-workshop/requirements.txt (line 14)) (1.30.5)\r\n",
      "Requirement already satisfied: unstructured[pdf] in /Library/Frameworks/Python.framework/Versions/3.12/lib/python3.12/site-packages (from -r /Users/rouzbeh.farahmand/PycharmProjects/boa-financial-rag-workshop/requirements.txt (line 5)) (0.14.3)\r\n",
      "Requirement already satisfied: regex>=2022.1.18 in /Library/Frameworks/Python.framework/Versions/3.12/lib/python3.12/site-packages (from tiktoken->-r /Users/rouzbeh.farahmand/PycharmProjects/boa-financial-rag-workshop/requirements.txt (line 2)) (2024.4.16)\r\n",
      "Requirement already satisfied: requests>=2.26.0 in /Library/Frameworks/Python.framework/Versions/3.12/lib/python3.12/site-packages (from tiktoken->-r /Users/rouzbeh.farahmand/PycharmProjects/boa-financial-rag-workshop/requirements.txt (line 2)) (2.31.0)\r\n",
      "Requirement already satisfied: PyYAML>=5.3 in /Library/Frameworks/Python.framework/Versions/3.12/lib/python3.12/site-packages (from langchain->-r /Users/rouzbeh.farahmand/PycharmProjects/boa-financial-rag-workshop/requirements.txt (line 3)) (6.0.1)\r\n",
      "Requirement already satisfied: SQLAlchemy<3,>=1.4 in /Library/Frameworks/Python.framework/Versions/3.12/lib/python3.12/site-packages (from langchain->-r /Users/rouzbeh.farahmand/PycharmProjects/boa-financial-rag-workshop/requirements.txt (line 3)) (2.0.30)\r\n",
      "Requirement already satisfied: aiohttp<4.0.0,>=3.8.3 in /Library/Frameworks/Python.framework/Versions/3.12/lib/python3.12/site-packages (from langchain->-r /Users/rouzbeh.farahmand/PycharmProjects/boa-financial-rag-workshop/requirements.txt (line 3)) (3.9.5)\r\n",
      "Requirement already satisfied: langchain-core<0.3.0,>=0.2.0 in /Library/Frameworks/Python.framework/Versions/3.12/lib/python3.12/site-packages (from langchain->-r /Users/rouzbeh.farahmand/PycharmProjects/boa-financial-rag-workshop/requirements.txt (line 3)) (0.2.2)\r\n",
      "Requirement already satisfied: langchain-text-splitters<0.3.0,>=0.2.0 in /Library/Frameworks/Python.framework/Versions/3.12/lib/python3.12/site-packages (from langchain->-r /Users/rouzbeh.farahmand/PycharmProjects/boa-financial-rag-workshop/requirements.txt (line 3)) (0.2.0)\r\n",
      "Requirement already satisfied: langsmith<0.2.0,>=0.1.17 in /Library/Frameworks/Python.framework/Versions/3.12/lib/python3.12/site-packages (from langchain->-r /Users/rouzbeh.farahmand/PycharmProjects/boa-financial-rag-workshop/requirements.txt (line 3)) (0.1.65)\r\n",
      "Requirement already satisfied: numpy<2,>=1 in /Library/Frameworks/Python.framework/Versions/3.12/lib/python3.12/site-packages (from langchain->-r /Users/rouzbeh.farahmand/PycharmProjects/boa-financial-rag-workshop/requirements.txt (line 3)) (1.26.4)\r\n",
      "Requirement already satisfied: pydantic<3,>=1 in /Library/Frameworks/Python.framework/Versions/3.12/lib/python3.12/site-packages (from langchain->-r /Users/rouzbeh.farahmand/PycharmProjects/boa-financial-rag-workshop/requirements.txt (line 3)) (2.7.0)\r\n",
      "Requirement already satisfied: tenacity<9.0.0,>=8.1.0 in /Library/Frameworks/Python.framework/Versions/3.12/lib/python3.12/site-packages (from langchain->-r /Users/rouzbeh.farahmand/PycharmProjects/boa-financial-rag-workshop/requirements.txt (line 3)) (8.2.3)\r\n",
      "Requirement already satisfied: dataclasses-json<0.7,>=0.5.7 in /Library/Frameworks/Python.framework/Versions/3.12/lib/python3.12/site-packages (from langchain-community->-r /Users/rouzbeh.farahmand/PycharmProjects/boa-financial-rag-workshop/requirements.txt (line 4)) (0.6.6)\r\n",
      "Requirement already satisfied: chardet in /Library/Frameworks/Python.framework/Versions/3.12/lib/python3.12/site-packages (from unstructured[pdf]->-r /Users/rouzbeh.farahmand/PycharmProjects/boa-financial-rag-workshop/requirements.txt (line 5)) (5.2.0)\r\n",
      "Requirement already satisfied: filetype in /Library/Frameworks/Python.framework/Versions/3.12/lib/python3.12/site-packages (from unstructured[pdf]->-r /Users/rouzbeh.farahmand/PycharmProjects/boa-financial-rag-workshop/requirements.txt (line 5)) (1.2.0)\r\n",
      "Requirement already satisfied: python-magic in /Library/Frameworks/Python.framework/Versions/3.12/lib/python3.12/site-packages (from unstructured[pdf]->-r /Users/rouzbeh.farahmand/PycharmProjects/boa-financial-rag-workshop/requirements.txt (line 5)) (0.4.27)\r\n",
      "Requirement already satisfied: lxml in /Library/Frameworks/Python.framework/Versions/3.12/lib/python3.12/site-packages (from unstructured[pdf]->-r /Users/rouzbeh.farahmand/PycharmProjects/boa-financial-rag-workshop/requirements.txt (line 5)) (5.2.2)\r\n",
      "Requirement already satisfied: nltk in /Library/Frameworks/Python.framework/Versions/3.12/lib/python3.12/site-packages (from unstructured[pdf]->-r /Users/rouzbeh.farahmand/PycharmProjects/boa-financial-rag-workshop/requirements.txt (line 5)) (3.8.1)\r\n",
      "Requirement already satisfied: tabulate in /Library/Frameworks/Python.framework/Versions/3.12/lib/python3.12/site-packages (from unstructured[pdf]->-r /Users/rouzbeh.farahmand/PycharmProjects/boa-financial-rag-workshop/requirements.txt (line 5)) (0.9.0)\r\n",
      "Requirement already satisfied: beautifulsoup4 in /Library/Frameworks/Python.framework/Versions/3.12/lib/python3.12/site-packages (from unstructured[pdf]->-r /Users/rouzbeh.farahmand/PycharmProjects/boa-financial-rag-workshop/requirements.txt (line 5)) (4.12.3)\r\n",
      "Requirement already satisfied: emoji in /Library/Frameworks/Python.framework/Versions/3.12/lib/python3.12/site-packages (from unstructured[pdf]->-r /Users/rouzbeh.farahmand/PycharmProjects/boa-financial-rag-workshop/requirements.txt (line 5)) (2.12.1)\r\n",
      "Requirement already satisfied: python-iso639 in /Library/Frameworks/Python.framework/Versions/3.12/lib/python3.12/site-packages (from unstructured[pdf]->-r /Users/rouzbeh.farahmand/PycharmProjects/boa-financial-rag-workshop/requirements.txt (line 5)) (2024.4.27)\r\n",
      "Requirement already satisfied: langdetect in /Library/Frameworks/Python.framework/Versions/3.12/lib/python3.12/site-packages (from unstructured[pdf]->-r /Users/rouzbeh.farahmand/PycharmProjects/boa-financial-rag-workshop/requirements.txt (line 5)) (1.0.9)\r\n",
      "Requirement already satisfied: rapidfuzz in /Library/Frameworks/Python.framework/Versions/3.12/lib/python3.12/site-packages (from unstructured[pdf]->-r /Users/rouzbeh.farahmand/PycharmProjects/boa-financial-rag-workshop/requirements.txt (line 5)) (3.9.2)\r\n",
      "Requirement already satisfied: backoff in /Library/Frameworks/Python.framework/Versions/3.12/lib/python3.12/site-packages (from unstructured[pdf]->-r /Users/rouzbeh.farahmand/PycharmProjects/boa-financial-rag-workshop/requirements.txt (line 5)) (2.2.1)\r\n",
      "Requirement already satisfied: typing-extensions in /Library/Frameworks/Python.framework/Versions/3.12/lib/python3.12/site-packages (from unstructured[pdf]->-r /Users/rouzbeh.farahmand/PycharmProjects/boa-financial-rag-workshop/requirements.txt (line 5)) (4.11.0)\r\n",
      "Requirement already satisfied: unstructured-client in /Library/Frameworks/Python.framework/Versions/3.12/lib/python3.12/site-packages (from unstructured[pdf]->-r /Users/rouzbeh.farahmand/PycharmProjects/boa-financial-rag-workshop/requirements.txt (line 5)) (0.22.0)\r\n",
      "Requirement already satisfied: wrapt in /Library/Frameworks/Python.framework/Versions/3.12/lib/python3.12/site-packages (from unstructured[pdf]->-r /Users/rouzbeh.farahmand/PycharmProjects/boa-financial-rag-workshop/requirements.txt (line 5)) (1.16.0)\r\n",
      "Requirement already satisfied: onnx in /Library/Frameworks/Python.framework/Versions/3.12/lib/python3.12/site-packages (from unstructured[pdf]->-r /Users/rouzbeh.farahmand/PycharmProjects/boa-financial-rag-workshop/requirements.txt (line 5)) (1.16.1)\r\n",
      "Requirement already satisfied: pdfminer.six in /Library/Frameworks/Python.framework/Versions/3.12/lib/python3.12/site-packages (from unstructured[pdf]->-r /Users/rouzbeh.farahmand/PycharmProjects/boa-financial-rag-workshop/requirements.txt (line 5)) (20231228)\r\n",
      "Requirement already satisfied: pikepdf in /Library/Frameworks/Python.framework/Versions/3.12/lib/python3.12/site-packages (from unstructured[pdf]->-r /Users/rouzbeh.farahmand/PycharmProjects/boa-financial-rag-workshop/requirements.txt (line 5)) (8.15.1)\r\n",
      "Requirement already satisfied: pillow-heif in /Library/Frameworks/Python.framework/Versions/3.12/lib/python3.12/site-packages (from unstructured[pdf]->-r /Users/rouzbeh.farahmand/PycharmProjects/boa-financial-rag-workshop/requirements.txt (line 5)) (0.16.0)\r\n",
      "Requirement already satisfied: pypdf in /Library/Frameworks/Python.framework/Versions/3.12/lib/python3.12/site-packages (from unstructured[pdf]->-r /Users/rouzbeh.farahmand/PycharmProjects/boa-financial-rag-workshop/requirements.txt (line 5)) (4.2.0)\r\n",
      "Requirement already satisfied: pytesseract in /Library/Frameworks/Python.framework/Versions/3.12/lib/python3.12/site-packages (from unstructured[pdf]->-r /Users/rouzbeh.farahmand/PycharmProjects/boa-financial-rag-workshop/requirements.txt (line 5)) (0.3.10)\r\n",
      "Requirement already satisfied: google-cloud-vision in /Library/Frameworks/Python.framework/Versions/3.12/lib/python3.12/site-packages (from unstructured[pdf]->-r /Users/rouzbeh.farahmand/PycharmProjects/boa-financial-rag-workshop/requirements.txt (line 5)) (3.7.2)\r\n",
      "Requirement already satisfied: effdet in /Library/Frameworks/Python.framework/Versions/3.12/lib/python3.12/site-packages (from unstructured[pdf]->-r /Users/rouzbeh.farahmand/PycharmProjects/boa-financial-rag-workshop/requirements.txt (line 5)) (0.4.1)\r\n",
      "Requirement already satisfied: unstructured-inference==0.7.33 in /Library/Frameworks/Python.framework/Versions/3.12/lib/python3.12/site-packages (from unstructured[pdf]->-r /Users/rouzbeh.farahmand/PycharmProjects/boa-financial-rag-workshop/requirements.txt (line 5)) (0.7.33)\r\n",
      "Requirement already satisfied: unstructured.pytesseract>=0.3.12 in /Library/Frameworks/Python.framework/Versions/3.12/lib/python3.12/site-packages (from unstructured[pdf]->-r /Users/rouzbeh.farahmand/PycharmProjects/boa-financial-rag-workshop/requirements.txt (line 5)) (0.3.12)\r\n",
      "Requirement already satisfied: layoutparser in /Library/Frameworks/Python.framework/Versions/3.12/lib/python3.12/site-packages (from unstructured-inference==0.7.33->unstructured[pdf]->-r /Users/rouzbeh.farahmand/PycharmProjects/boa-financial-rag-workshop/requirements.txt (line 5)) (0.3.4)\r\n",
      "Requirement already satisfied: python-multipart in /Library/Frameworks/Python.framework/Versions/3.12/lib/python3.12/site-packages (from unstructured-inference==0.7.33->unstructured[pdf]->-r /Users/rouzbeh.farahmand/PycharmProjects/boa-financial-rag-workshop/requirements.txt (line 5)) (0.0.9)\r\n",
      "Requirement already satisfied: huggingface-hub in /Library/Frameworks/Python.framework/Versions/3.12/lib/python3.12/site-packages (from unstructured-inference==0.7.33->unstructured[pdf]->-r /Users/rouzbeh.farahmand/PycharmProjects/boa-financial-rag-workshop/requirements.txt (line 5)) (0.22.2)\r\n",
      "Requirement already satisfied: opencv-python!=4.7.0.68 in /Library/Frameworks/Python.framework/Versions/3.12/lib/python3.12/site-packages (from unstructured-inference==0.7.33->unstructured[pdf]->-r /Users/rouzbeh.farahmand/PycharmProjects/boa-financial-rag-workshop/requirements.txt (line 5)) (4.9.0.80)\r\n",
      "Requirement already satisfied: onnxruntime>=1.17.0 in /Library/Frameworks/Python.framework/Versions/3.12/lib/python3.12/site-packages (from unstructured-inference==0.7.33->unstructured[pdf]->-r /Users/rouzbeh.farahmand/PycharmProjects/boa-financial-rag-workshop/requirements.txt (line 5)) (1.18.0)\r\n",
      "Requirement already satisfied: matplotlib in /Library/Frameworks/Python.framework/Versions/3.12/lib/python3.12/site-packages (from unstructured-inference==0.7.33->unstructured[pdf]->-r /Users/rouzbeh.farahmand/PycharmProjects/boa-financial-rag-workshop/requirements.txt (line 5)) (3.9.0)\r\n",
      "Requirement already satisfied: torch in /Library/Frameworks/Python.framework/Versions/3.12/lib/python3.12/site-packages (from unstructured-inference==0.7.33->unstructured[pdf]->-r /Users/rouzbeh.farahmand/PycharmProjects/boa-financial-rag-workshop/requirements.txt (line 5)) (2.3.0)\r\n",
      "Requirement already satisfied: timm in /Library/Frameworks/Python.framework/Versions/3.12/lib/python3.12/site-packages (from unstructured-inference==0.7.33->unstructured[pdf]->-r /Users/rouzbeh.farahmand/PycharmProjects/boa-financial-rag-workshop/requirements.txt (line 5)) (1.0.3)\r\n",
      "Requirement already satisfied: transformers>=4.25.1 in /Library/Frameworks/Python.framework/Versions/3.12/lib/python3.12/site-packages (from unstructured-inference==0.7.33->unstructured[pdf]->-r /Users/rouzbeh.farahmand/PycharmProjects/boa-financial-rag-workshop/requirements.txt (line 5)) (4.40.0)\r\n",
      "Requirement already satisfied: tqdm in /Library/Frameworks/Python.framework/Versions/3.12/lib/python3.12/site-packages (from sentence-transformers->-r /Users/rouzbeh.farahmand/PycharmProjects/boa-financial-rag-workshop/requirements.txt (line 6)) (4.66.2)\r\n",
      "Requirement already satisfied: scikit-learn in /Library/Frameworks/Python.framework/Versions/3.12/lib/python3.12/site-packages (from sentence-transformers->-r /Users/rouzbeh.farahmand/PycharmProjects/boa-financial-rag-workshop/requirements.txt (line 6)) (1.4.2)\r\n",
      "Requirement already satisfied: scipy in /Library/Frameworks/Python.framework/Versions/3.12/lib/python3.12/site-packages (from sentence-transformers->-r /Users/rouzbeh.farahmand/PycharmProjects/boa-financial-rag-workshop/requirements.txt (line 6)) (1.13.0)\r\n",
      "Requirement already satisfied: Pillow in /Library/Frameworks/Python.framework/Versions/3.12/lib/python3.12/site-packages (from sentence-transformers->-r /Users/rouzbeh.farahmand/PycharmProjects/boa-financial-rag-workshop/requirements.txt (line 6)) (10.3.0)\r\n",
      "Requirement already satisfied: python-dateutil>=2.8.2 in /Library/Frameworks/Python.framework/Versions/3.12/lib/python3.12/site-packages (from pandas->-r /Users/rouzbeh.farahmand/PycharmProjects/boa-financial-rag-workshop/requirements.txt (line 7)) (2.9.0.post0)\r\n",
      "Requirement already satisfied: pytz>=2020.1 in /Library/Frameworks/Python.framework/Versions/3.12/lib/python3.12/site-packages (from pandas->-r /Users/rouzbeh.farahmand/PycharmProjects/boa-financial-rag-workshop/requirements.txt (line 7)) (2024.1)\r\n",
      "Requirement already satisfied: tzdata>=2022.7 in /Library/Frameworks/Python.framework/Versions/3.12/lib/python3.12/site-packages (from pandas->-r /Users/rouzbeh.farahmand/PycharmProjects/boa-financial-rag-workshop/requirements.txt (line 7)) (2024.1)\r\n",
      "Requirement already satisfied: spacy-legacy<3.1.0,>=3.0.11 in /Library/Frameworks/Python.framework/Versions/3.12/lib/python3.12/site-packages (from spacy->-r /Users/rouzbeh.farahmand/PycharmProjects/boa-financial-rag-workshop/requirements.txt (line 9)) (3.0.12)\r\n",
      "Requirement already satisfied: spacy-loggers<2.0.0,>=1.0.0 in /Library/Frameworks/Python.framework/Versions/3.12/lib/python3.12/site-packages (from spacy->-r /Users/rouzbeh.farahmand/PycharmProjects/boa-financial-rag-workshop/requirements.txt (line 9)) (1.0.5)\r\n",
      "Requirement already satisfied: murmurhash<1.1.0,>=0.28.0 in /Library/Frameworks/Python.framework/Versions/3.12/lib/python3.12/site-packages (from spacy->-r /Users/rouzbeh.farahmand/PycharmProjects/boa-financial-rag-workshop/requirements.txt (line 9)) (1.0.10)\r\n",
      "Requirement already satisfied: cymem<2.1.0,>=2.0.2 in /Library/Frameworks/Python.framework/Versions/3.12/lib/python3.12/site-packages (from spacy->-r /Users/rouzbeh.farahmand/PycharmProjects/boa-financial-rag-workshop/requirements.txt (line 9)) (2.0.8)\r\n",
      "Requirement already satisfied: preshed<3.1.0,>=3.0.2 in /Library/Frameworks/Python.framework/Versions/3.12/lib/python3.12/site-packages (from spacy->-r /Users/rouzbeh.farahmand/PycharmProjects/boa-financial-rag-workshop/requirements.txt (line 9)) (3.0.9)\r\n",
      "Requirement already satisfied: thinc<8.3.0,>=8.2.2 in /Library/Frameworks/Python.framework/Versions/3.12/lib/python3.12/site-packages (from spacy->-r /Users/rouzbeh.farahmand/PycharmProjects/boa-financial-rag-workshop/requirements.txt (line 9)) (8.2.3)\r\n",
      "Requirement already satisfied: wasabi<1.2.0,>=0.9.1 in /Library/Frameworks/Python.framework/Versions/3.12/lib/python3.12/site-packages (from spacy->-r /Users/rouzbeh.farahmand/PycharmProjects/boa-financial-rag-workshop/requirements.txt (line 9)) (1.1.2)\r\n",
      "Requirement already satisfied: srsly<3.0.0,>=2.4.3 in /Library/Frameworks/Python.framework/Versions/3.12/lib/python3.12/site-packages (from spacy->-r /Users/rouzbeh.farahmand/PycharmProjects/boa-financial-rag-workshop/requirements.txt (line 9)) (2.4.8)\r\n",
      "Requirement already satisfied: catalogue<2.1.0,>=2.0.6 in /Library/Frameworks/Python.framework/Versions/3.12/lib/python3.12/site-packages (from spacy->-r /Users/rouzbeh.farahmand/PycharmProjects/boa-financial-rag-workshop/requirements.txt (line 9)) (2.0.10)\r\n",
      "Requirement already satisfied: weasel<0.4.0,>=0.1.0 in /Library/Frameworks/Python.framework/Versions/3.12/lib/python3.12/site-packages (from spacy->-r /Users/rouzbeh.farahmand/PycharmProjects/boa-financial-rag-workshop/requirements.txt (line 9)) (0.3.4)\r\n",
      "Requirement already satisfied: typer<0.10.0,>=0.3.0 in /Library/Frameworks/Python.framework/Versions/3.12/lib/python3.12/site-packages (from spacy->-r /Users/rouzbeh.farahmand/PycharmProjects/boa-financial-rag-workshop/requirements.txt (line 9)) (0.9.4)\r\n",
      "Requirement already satisfied: smart-open<7.0.0,>=5.2.1 in /Library/Frameworks/Python.framework/Versions/3.12/lib/python3.12/site-packages (from spacy->-r /Users/rouzbeh.farahmand/PycharmProjects/boa-financial-rag-workshop/requirements.txt (line 9)) (6.4.0)\r\n",
      "Requirement already satisfied: jinja2 in /Library/Frameworks/Python.framework/Versions/3.12/lib/python3.12/site-packages (from spacy->-r /Users/rouzbeh.farahmand/PycharmProjects/boa-financial-rag-workshop/requirements.txt (line 9)) (3.1.3)\r\n",
      "Requirement already satisfied: setuptools in /Library/Frameworks/Python.framework/Versions/3.12/lib/python3.12/site-packages (from spacy->-r /Users/rouzbeh.farahmand/PycharmProjects/boa-financial-rag-workshop/requirements.txt (line 9)) (70.0.0)\r\n",
      "Requirement already satisfied: packaging>=20.0 in /Library/Frameworks/Python.framework/Versions/3.12/lib/python3.12/site-packages (from spacy->-r /Users/rouzbeh.farahmand/PycharmProjects/boa-financial-rag-workshop/requirements.txt (line 9)) (23.2)\r\n",
      "Requirement already satisfied: langcodes<4.0.0,>=3.2.0 in /Library/Frameworks/Python.framework/Versions/3.12/lib/python3.12/site-packages (from spacy->-r /Users/rouzbeh.farahmand/PycharmProjects/boa-financial-rag-workshop/requirements.txt (line 9)) (3.4.0)\r\n",
      "Requirement already satisfied: coloredlogs in /Library/Frameworks/Python.framework/Versions/3.12/lib/python3.12/site-packages (from redisvl->-r /Users/rouzbeh.farahmand/PycharmProjects/boa-financial-rag-workshop/requirements.txt (line 12)) (15.0.1)\r\n",
      "Requirement already satisfied: anyio<5,>=3.5.0 in /Library/Frameworks/Python.framework/Versions/3.12/lib/python3.12/site-packages (from openai->-r /Users/rouzbeh.farahmand/PycharmProjects/boa-financial-rag-workshop/requirements.txt (line 14)) (4.3.0)\r\n",
      "Requirement already satisfied: distro<2,>=1.7.0 in /Library/Frameworks/Python.framework/Versions/3.12/lib/python3.12/site-packages (from openai->-r /Users/rouzbeh.farahmand/PycharmProjects/boa-financial-rag-workshop/requirements.txt (line 14)) (1.9.0)\r\n",
      "Requirement already satisfied: httpx<1,>=0.23.0 in /Library/Frameworks/Python.framework/Versions/3.12/lib/python3.12/site-packages (from openai->-r /Users/rouzbeh.farahmand/PycharmProjects/boa-financial-rag-workshop/requirements.txt (line 14)) (0.27.0)\r\n",
      "Requirement already satisfied: sniffio in /Library/Frameworks/Python.framework/Versions/3.12/lib/python3.12/site-packages (from openai->-r /Users/rouzbeh.farahmand/PycharmProjects/boa-financial-rag-workshop/requirements.txt (line 14)) (1.3.1)\r\n",
      "Requirement already satisfied: aiosignal>=1.1.2 in /Library/Frameworks/Python.framework/Versions/3.12/lib/python3.12/site-packages (from aiohttp<4.0.0,>=3.8.3->langchain->-r /Users/rouzbeh.farahmand/PycharmProjects/boa-financial-rag-workshop/requirements.txt (line 3)) (1.3.1)\r\n",
      "Requirement already satisfied: attrs>=17.3.0 in /Library/Frameworks/Python.framework/Versions/3.12/lib/python3.12/site-packages (from aiohttp<4.0.0,>=3.8.3->langchain->-r /Users/rouzbeh.farahmand/PycharmProjects/boa-financial-rag-workshop/requirements.txt (line 3)) (23.2.0)\r\n",
      "Requirement already satisfied: frozenlist>=1.1.1 in /Library/Frameworks/Python.framework/Versions/3.12/lib/python3.12/site-packages (from aiohttp<4.0.0,>=3.8.3->langchain->-r /Users/rouzbeh.farahmand/PycharmProjects/boa-financial-rag-workshop/requirements.txt (line 3)) (1.4.1)\r\n",
      "Requirement already satisfied: multidict<7.0,>=4.5 in /Library/Frameworks/Python.framework/Versions/3.12/lib/python3.12/site-packages (from aiohttp<4.0.0,>=3.8.3->langchain->-r /Users/rouzbeh.farahmand/PycharmProjects/boa-financial-rag-workshop/requirements.txt (line 3)) (6.0.5)\r\n",
      "Requirement already satisfied: yarl<2.0,>=1.0 in /Library/Frameworks/Python.framework/Versions/3.12/lib/python3.12/site-packages (from aiohttp<4.0.0,>=3.8.3->langchain->-r /Users/rouzbeh.farahmand/PycharmProjects/boa-financial-rag-workshop/requirements.txt (line 3)) (1.9.4)\r\n",
      "Requirement already satisfied: idna>=2.8 in /Library/Frameworks/Python.framework/Versions/3.12/lib/python3.12/site-packages (from anyio<5,>=3.5.0->openai->-r /Users/rouzbeh.farahmand/PycharmProjects/boa-financial-rag-workshop/requirements.txt (line 14)) (3.7)\r\n",
      "Requirement already satisfied: marshmallow<4.0.0,>=3.18.0 in /Library/Frameworks/Python.framework/Versions/3.12/lib/python3.12/site-packages (from dataclasses-json<0.7,>=0.5.7->langchain-community->-r /Users/rouzbeh.farahmand/PycharmProjects/boa-financial-rag-workshop/requirements.txt (line 4)) (3.21.2)\r\n",
      "Requirement already satisfied: typing-inspect<1,>=0.4.0 in /Library/Frameworks/Python.framework/Versions/3.12/lib/python3.12/site-packages (from dataclasses-json<0.7,>=0.5.7->langchain-community->-r /Users/rouzbeh.farahmand/PycharmProjects/boa-financial-rag-workshop/requirements.txt (line 4)) (0.9.0)\r\n",
      "Requirement already satisfied: certifi in /Library/Frameworks/Python.framework/Versions/3.12/lib/python3.12/site-packages (from httpx<1,>=0.23.0->openai->-r /Users/rouzbeh.farahmand/PycharmProjects/boa-financial-rag-workshop/requirements.txt (line 14)) (2024.2.2)\r\n",
      "Requirement already satisfied: httpcore==1.* in /Library/Frameworks/Python.framework/Versions/3.12/lib/python3.12/site-packages (from httpx<1,>=0.23.0->openai->-r /Users/rouzbeh.farahmand/PycharmProjects/boa-financial-rag-workshop/requirements.txt (line 14)) (1.0.5)\r\n",
      "Requirement already satisfied: h11<0.15,>=0.13 in /Library/Frameworks/Python.framework/Versions/3.12/lib/python3.12/site-packages (from httpcore==1.*->httpx<1,>=0.23.0->openai->-r /Users/rouzbeh.farahmand/PycharmProjects/boa-financial-rag-workshop/requirements.txt (line 14)) (0.14.0)\r\n",
      "Requirement already satisfied: filelock in /Library/Frameworks/Python.framework/Versions/3.12/lib/python3.12/site-packages (from huggingface-hub->unstructured-inference==0.7.33->unstructured[pdf]->-r /Users/rouzbeh.farahmand/PycharmProjects/boa-financial-rag-workshop/requirements.txt (line 5)) (3.13.4)\r\n",
      "Requirement already satisfied: fsspec>=2023.5.0 in /Library/Frameworks/Python.framework/Versions/3.12/lib/python3.12/site-packages (from huggingface-hub->unstructured-inference==0.7.33->unstructured[pdf]->-r /Users/rouzbeh.farahmand/PycharmProjects/boa-financial-rag-workshop/requirements.txt (line 5)) (2024.3.1)\r\n",
      "Requirement already satisfied: jsonpatch<2.0,>=1.33 in /Library/Frameworks/Python.framework/Versions/3.12/lib/python3.12/site-packages (from langchain-core<0.3.0,>=0.2.0->langchain->-r /Users/rouzbeh.farahmand/PycharmProjects/boa-financial-rag-workshop/requirements.txt (line 3)) (1.33)\r\n",
      "Requirement already satisfied: language-data>=1.2 in /Library/Frameworks/Python.framework/Versions/3.12/lib/python3.12/site-packages (from langcodes<4.0.0,>=3.2.0->spacy->-r /Users/rouzbeh.farahmand/PycharmProjects/boa-financial-rag-workshop/requirements.txt (line 9)) (1.2.0)\r\n",
      "Requirement already satisfied: orjson<4.0.0,>=3.9.14 in /Library/Frameworks/Python.framework/Versions/3.12/lib/python3.12/site-packages (from langsmith<0.2.0,>=0.1.17->langchain->-r /Users/rouzbeh.farahmand/PycharmProjects/boa-financial-rag-workshop/requirements.txt (line 3)) (3.10.3)\r\n",
      "Requirement already satisfied: annotated-types>=0.4.0 in /Library/Frameworks/Python.framework/Versions/3.12/lib/python3.12/site-packages (from pydantic<3,>=1->langchain->-r /Users/rouzbeh.farahmand/PycharmProjects/boa-financial-rag-workshop/requirements.txt (line 3)) (0.6.0)\r\n",
      "Requirement already satisfied: pydantic-core==2.18.1 in /Library/Frameworks/Python.framework/Versions/3.12/lib/python3.12/site-packages (from pydantic<3,>=1->langchain->-r /Users/rouzbeh.farahmand/PycharmProjects/boa-financial-rag-workshop/requirements.txt (line 3)) (2.18.1)\r\n",
      "Requirement already satisfied: six>=1.5 in /Library/Frameworks/Python.framework/Versions/3.12/lib/python3.12/site-packages (from python-dateutil>=2.8.2->pandas->-r /Users/rouzbeh.farahmand/PycharmProjects/boa-financial-rag-workshop/requirements.txt (line 7)) (1.16.0)\r\n",
      "Requirement already satisfied: charset-normalizer<4,>=2 in /Library/Frameworks/Python.framework/Versions/3.12/lib/python3.12/site-packages (from requests>=2.26.0->tiktoken->-r /Users/rouzbeh.farahmand/PycharmProjects/boa-financial-rag-workshop/requirements.txt (line 2)) (3.3.2)\r\n",
      "Requirement already satisfied: urllib3<3,>=1.21.1 in /Library/Frameworks/Python.framework/Versions/3.12/lib/python3.12/site-packages (from requests>=2.26.0->tiktoken->-r /Users/rouzbeh.farahmand/PycharmProjects/boa-financial-rag-workshop/requirements.txt (line 2)) (2.2.1)\r\n",
      "Requirement already satisfied: blis<0.8.0,>=0.7.8 in /Library/Frameworks/Python.framework/Versions/3.12/lib/python3.12/site-packages (from thinc<8.3.0,>=8.2.2->spacy->-r /Users/rouzbeh.farahmand/PycharmProjects/boa-financial-rag-workshop/requirements.txt (line 9)) (0.7.11)\r\n",
      "Requirement already satisfied: confection<1.0.0,>=0.0.1 in /Library/Frameworks/Python.framework/Versions/3.12/lib/python3.12/site-packages (from thinc<8.3.0,>=8.2.2->spacy->-r /Users/rouzbeh.farahmand/PycharmProjects/boa-financial-rag-workshop/requirements.txt (line 9)) (0.1.4)\r\n",
      "Requirement already satisfied: sympy in /Library/Frameworks/Python.framework/Versions/3.12/lib/python3.12/site-packages (from torch->unstructured-inference==0.7.33->unstructured[pdf]->-r /Users/rouzbeh.farahmand/PycharmProjects/boa-financial-rag-workshop/requirements.txt (line 5)) (1.12)\r\n",
      "Requirement already satisfied: networkx in /Library/Frameworks/Python.framework/Versions/3.12/lib/python3.12/site-packages (from torch->unstructured-inference==0.7.33->unstructured[pdf]->-r /Users/rouzbeh.farahmand/PycharmProjects/boa-financial-rag-workshop/requirements.txt (line 5)) (3.3)\r\n",
      "Requirement already satisfied: tokenizers<0.20,>=0.19 in /Library/Frameworks/Python.framework/Versions/3.12/lib/python3.12/site-packages (from transformers>=4.25.1->unstructured-inference==0.7.33->unstructured[pdf]->-r /Users/rouzbeh.farahmand/PycharmProjects/boa-financial-rag-workshop/requirements.txt (line 5)) (0.19.1)\r\n",
      "Requirement already satisfied: safetensors>=0.4.1 in /Library/Frameworks/Python.framework/Versions/3.12/lib/python3.12/site-packages (from transformers>=4.25.1->unstructured-inference==0.7.33->unstructured[pdf]->-r /Users/rouzbeh.farahmand/PycharmProjects/boa-financial-rag-workshop/requirements.txt (line 5)) (0.4.3)\r\n",
      "Requirement already satisfied: click<9.0.0,>=7.1.1 in /Library/Frameworks/Python.framework/Versions/3.12/lib/python3.12/site-packages (from typer<0.10.0,>=0.3.0->spacy->-r /Users/rouzbeh.farahmand/PycharmProjects/boa-financial-rag-workshop/requirements.txt (line 9)) (8.1.7)\r\n",
      "Requirement already satisfied: cloudpathlib<0.17.0,>=0.7.0 in /Library/Frameworks/Python.framework/Versions/3.12/lib/python3.12/site-packages (from weasel<0.4.0,>=0.1.0->spacy->-r /Users/rouzbeh.farahmand/PycharmProjects/boa-financial-rag-workshop/requirements.txt (line 9)) (0.16.0)\r\n",
      "Requirement already satisfied: soupsieve>1.2 in /Library/Frameworks/Python.framework/Versions/3.12/lib/python3.12/site-packages (from beautifulsoup4->unstructured[pdf]->-r /Users/rouzbeh.farahmand/PycharmProjects/boa-financial-rag-workshop/requirements.txt (line 5)) (2.5)\r\n",
      "Requirement already satisfied: humanfriendly>=9.1 in /Library/Frameworks/Python.framework/Versions/3.12/lib/python3.12/site-packages (from coloredlogs->redisvl->-r /Users/rouzbeh.farahmand/PycharmProjects/boa-financial-rag-workshop/requirements.txt (line 12)) (10.0)\r\n",
      "Requirement already satisfied: torchvision in /Library/Frameworks/Python.framework/Versions/3.12/lib/python3.12/site-packages (from effdet->unstructured[pdf]->-r /Users/rouzbeh.farahmand/PycharmProjects/boa-financial-rag-workshop/requirements.txt (line 5)) (0.18.0)\r\n",
      "Requirement already satisfied: pycocotools>=2.0.2 in /Library/Frameworks/Python.framework/Versions/3.12/lib/python3.12/site-packages (from effdet->unstructured[pdf]->-r /Users/rouzbeh.farahmand/PycharmProjects/boa-financial-rag-workshop/requirements.txt (line 5)) (2.0.7)\r\n",
      "Requirement already satisfied: omegaconf>=2.0 in /Library/Frameworks/Python.framework/Versions/3.12/lib/python3.12/site-packages (from effdet->unstructured[pdf]->-r /Users/rouzbeh.farahmand/PycharmProjects/boa-financial-rag-workshop/requirements.txt (line 5)) (2.3.0)\r\n",
      "Requirement already satisfied: google-api-core!=2.0.*,!=2.1.*,!=2.10.*,!=2.2.*,!=2.3.*,!=2.4.*,!=2.5.*,!=2.6.*,!=2.7.*,!=2.8.*,!=2.9.*,<3.0.0dev,>=1.34.1 in /Library/Frameworks/Python.framework/Versions/3.12/lib/python3.12/site-packages (from google-api-core[grpc]!=2.0.*,!=2.1.*,!=2.10.*,!=2.2.*,!=2.3.*,!=2.4.*,!=2.5.*,!=2.6.*,!=2.7.*,!=2.8.*,!=2.9.*,<3.0.0dev,>=1.34.1->google-cloud-vision->unstructured[pdf]->-r /Users/rouzbeh.farahmand/PycharmProjects/boa-financial-rag-workshop/requirements.txt (line 5)) (2.19.0)\r\n",
      "Requirement already satisfied: google-auth!=2.24.0,!=2.25.0,<3.0.0dev,>=2.14.1 in /Library/Frameworks/Python.framework/Versions/3.12/lib/python3.12/site-packages (from google-cloud-vision->unstructured[pdf]->-r /Users/rouzbeh.farahmand/PycharmProjects/boa-financial-rag-workshop/requirements.txt (line 5)) (2.29.0)\r\n",
      "Requirement already satisfied: proto-plus<2.0.0dev,>=1.22.3 in /Library/Frameworks/Python.framework/Versions/3.12/lib/python3.12/site-packages (from google-cloud-vision->unstructured[pdf]->-r /Users/rouzbeh.farahmand/PycharmProjects/boa-financial-rag-workshop/requirements.txt (line 5)) (1.23.0)\r\n",
      "Requirement already satisfied: protobuf!=3.20.0,!=3.20.1,!=4.21.0,!=4.21.1,!=4.21.2,!=4.21.3,!=4.21.4,!=4.21.5,<5.0.0dev,>=3.19.5 in /Library/Frameworks/Python.framework/Versions/3.12/lib/python3.12/site-packages (from google-cloud-vision->unstructured[pdf]->-r /Users/rouzbeh.farahmand/PycharmProjects/boa-financial-rag-workshop/requirements.txt (line 5)) (4.25.3)\r\n",
      "Requirement already satisfied: MarkupSafe>=2.0 in /Library/Frameworks/Python.framework/Versions/3.12/lib/python3.12/site-packages (from jinja2->spacy->-r /Users/rouzbeh.farahmand/PycharmProjects/boa-financial-rag-workshop/requirements.txt (line 9)) (2.1.5)\r\n",
      "Requirement already satisfied: joblib in /Library/Frameworks/Python.framework/Versions/3.12/lib/python3.12/site-packages (from nltk->unstructured[pdf]->-r /Users/rouzbeh.farahmand/PycharmProjects/boa-financial-rag-workshop/requirements.txt (line 5)) (1.4.0)\r\n",
      "Requirement already satisfied: cryptography>=36.0.0 in /Library/Frameworks/Python.framework/Versions/3.12/lib/python3.12/site-packages (from pdfminer.six->unstructured[pdf]->-r /Users/rouzbeh.farahmand/PycharmProjects/boa-financial-rag-workshop/requirements.txt (line 5)) (42.0.7)\r\n",
      "Requirement already satisfied: Deprecated in /Library/Frameworks/Python.framework/Versions/3.12/lib/python3.12/site-packages (from pikepdf->unstructured[pdf]->-r /Users/rouzbeh.farahmand/PycharmProjects/boa-financial-rag-workshop/requirements.txt (line 5)) (1.2.14)\r\n",
      "Requirement already satisfied: threadpoolctl>=2.0.0 in /Library/Frameworks/Python.framework/Versions/3.12/lib/python3.12/site-packages (from scikit-learn->sentence-transformers->-r /Users/rouzbeh.farahmand/PycharmProjects/boa-financial-rag-workshop/requirements.txt (line 6)) (3.4.0)\r\n",
      "Requirement already satisfied: deepdiff>=6.0 in /Library/Frameworks/Python.framework/Versions/3.12/lib/python3.12/site-packages (from unstructured-client->unstructured[pdf]->-r /Users/rouzbeh.farahmand/PycharmProjects/boa-financial-rag-workshop/requirements.txt (line 5)) (7.0.1)\r\n",
      "Requirement already satisfied: jsonpath-python>=1.0.6 in /Library/Frameworks/Python.framework/Versions/3.12/lib/python3.12/site-packages (from unstructured-client->unstructured[pdf]->-r /Users/rouzbeh.farahmand/PycharmProjects/boa-financial-rag-workshop/requirements.txt (line 5)) (1.0.6)\r\n",
      "Requirement already satisfied: mypy-extensions>=1.0.0 in /Library/Frameworks/Python.framework/Versions/3.12/lib/python3.12/site-packages (from unstructured-client->unstructured[pdf]->-r /Users/rouzbeh.farahmand/PycharmProjects/boa-financial-rag-workshop/requirements.txt (line 5)) (1.0.0)\r\n",
      "Requirement already satisfied: cffi>=1.12 in /Library/Frameworks/Python.framework/Versions/3.12/lib/python3.12/site-packages (from cryptography>=36.0.0->pdfminer.six->unstructured[pdf]->-r /Users/rouzbeh.farahmand/PycharmProjects/boa-financial-rag-workshop/requirements.txt (line 5)) (1.16.0)\r\n",
      "Requirement already satisfied: ordered-set<4.2.0,>=4.1.0 in /Library/Frameworks/Python.framework/Versions/3.12/lib/python3.12/site-packages (from deepdiff>=6.0->unstructured-client->unstructured[pdf]->-r /Users/rouzbeh.farahmand/PycharmProjects/boa-financial-rag-workshop/requirements.txt (line 5)) (4.1.0)\r\n",
      "Requirement already satisfied: googleapis-common-protos<2.0.dev0,>=1.56.2 in /Library/Frameworks/Python.framework/Versions/3.12/lib/python3.12/site-packages (from google-api-core!=2.0.*,!=2.1.*,!=2.10.*,!=2.2.*,!=2.3.*,!=2.4.*,!=2.5.*,!=2.6.*,!=2.7.*,!=2.8.*,!=2.9.*,<3.0.0dev,>=1.34.1->google-api-core[grpc]!=2.0.*,!=2.1.*,!=2.10.*,!=2.2.*,!=2.3.*,!=2.4.*,!=2.5.*,!=2.6.*,!=2.7.*,!=2.8.*,!=2.9.*,<3.0.0dev,>=1.34.1->google-cloud-vision->unstructured[pdf]->-r /Users/rouzbeh.farahmand/PycharmProjects/boa-financial-rag-workshop/requirements.txt (line 5)) (1.63.0)\r\n",
      "Requirement already satisfied: grpcio<2.0dev,>=1.33.2 in /Library/Frameworks/Python.framework/Versions/3.12/lib/python3.12/site-packages (from google-api-core[grpc]!=2.0.*,!=2.1.*,!=2.10.*,!=2.2.*,!=2.3.*,!=2.4.*,!=2.5.*,!=2.6.*,!=2.7.*,!=2.8.*,!=2.9.*,<3.0.0dev,>=1.34.1->google-cloud-vision->unstructured[pdf]->-r /Users/rouzbeh.farahmand/PycharmProjects/boa-financial-rag-workshop/requirements.txt (line 5)) (1.64.0)\r\n",
      "Requirement already satisfied: grpcio-status<2.0.dev0,>=1.33.2 in /Library/Frameworks/Python.framework/Versions/3.12/lib/python3.12/site-packages (from google-api-core[grpc]!=2.0.*,!=2.1.*,!=2.10.*,!=2.2.*,!=2.3.*,!=2.4.*,!=2.5.*,!=2.6.*,!=2.7.*,!=2.8.*,!=2.9.*,<3.0.0dev,>=1.34.1->google-cloud-vision->unstructured[pdf]->-r /Users/rouzbeh.farahmand/PycharmProjects/boa-financial-rag-workshop/requirements.txt (line 5)) (1.62.2)\r\n",
      "Requirement already satisfied: cachetools<6.0,>=2.0.0 in /Library/Frameworks/Python.framework/Versions/3.12/lib/python3.12/site-packages (from google-auth!=2.24.0,!=2.25.0,<3.0.0dev,>=2.14.1->google-cloud-vision->unstructured[pdf]->-r /Users/rouzbeh.farahmand/PycharmProjects/boa-financial-rag-workshop/requirements.txt (line 5)) (5.3.3)\r\n",
      "Requirement already satisfied: pyasn1-modules>=0.2.1 in /Library/Frameworks/Python.framework/Versions/3.12/lib/python3.12/site-packages (from google-auth!=2.24.0,!=2.25.0,<3.0.0dev,>=2.14.1->google-cloud-vision->unstructured[pdf]->-r /Users/rouzbeh.farahmand/PycharmProjects/boa-financial-rag-workshop/requirements.txt (line 5)) (0.4.0)\r\n",
      "Requirement already satisfied: rsa<5,>=3.1.4 in /Library/Frameworks/Python.framework/Versions/3.12/lib/python3.12/site-packages (from google-auth!=2.24.0,!=2.25.0,<3.0.0dev,>=2.14.1->google-cloud-vision->unstructured[pdf]->-r /Users/rouzbeh.farahmand/PycharmProjects/boa-financial-rag-workshop/requirements.txt (line 5)) (4.9)\r\n",
      "Requirement already satisfied: jsonpointer>=1.9 in /Library/Frameworks/Python.framework/Versions/3.12/lib/python3.12/site-packages (from jsonpatch<2.0,>=1.33->langchain-core<0.3.0,>=0.2.0->langchain->-r /Users/rouzbeh.farahmand/PycharmProjects/boa-financial-rag-workshop/requirements.txt (line 3)) (2.4)\r\n",
      "Requirement already satisfied: marisa-trie>=0.7.7 in /Library/Frameworks/Python.framework/Versions/3.12/lib/python3.12/site-packages (from language-data>=1.2->langcodes<4.0.0,>=3.2.0->spacy->-r /Users/rouzbeh.farahmand/PycharmProjects/boa-financial-rag-workshop/requirements.txt (line 9)) (1.1.1)\r\n",
      "Requirement already satisfied: antlr4-python3-runtime==4.9.* in /Library/Frameworks/Python.framework/Versions/3.12/lib/python3.12/site-packages (from omegaconf>=2.0->effdet->unstructured[pdf]->-r /Users/rouzbeh.farahmand/PycharmProjects/boa-financial-rag-workshop/requirements.txt (line 5)) (4.9.3)\r\n",
      "Requirement already satisfied: flatbuffers in /Library/Frameworks/Python.framework/Versions/3.12/lib/python3.12/site-packages (from onnxruntime>=1.17.0->unstructured-inference==0.7.33->unstructured[pdf]->-r /Users/rouzbeh.farahmand/PycharmProjects/boa-financial-rag-workshop/requirements.txt (line 5)) (24.3.25)\r\n",
      "Requirement already satisfied: contourpy>=1.0.1 in /Library/Frameworks/Python.framework/Versions/3.12/lib/python3.12/site-packages (from matplotlib->unstructured-inference==0.7.33->unstructured[pdf]->-r /Users/rouzbeh.farahmand/PycharmProjects/boa-financial-rag-workshop/requirements.txt (line 5)) (1.2.1)\r\n",
      "Requirement already satisfied: cycler>=0.10 in /Library/Frameworks/Python.framework/Versions/3.12/lib/python3.12/site-packages (from matplotlib->unstructured-inference==0.7.33->unstructured[pdf]->-r /Users/rouzbeh.farahmand/PycharmProjects/boa-financial-rag-workshop/requirements.txt (line 5)) (0.12.1)\r\n",
      "Requirement already satisfied: fonttools>=4.22.0 in /Library/Frameworks/Python.framework/Versions/3.12/lib/python3.12/site-packages (from matplotlib->unstructured-inference==0.7.33->unstructured[pdf]->-r /Users/rouzbeh.farahmand/PycharmProjects/boa-financial-rag-workshop/requirements.txt (line 5)) (4.52.4)\r\n",
      "Requirement already satisfied: kiwisolver>=1.3.1 in /Library/Frameworks/Python.framework/Versions/3.12/lib/python3.12/site-packages (from matplotlib->unstructured-inference==0.7.33->unstructured[pdf]->-r /Users/rouzbeh.farahmand/PycharmProjects/boa-financial-rag-workshop/requirements.txt (line 5)) (1.4.5)\r\n",
      "Requirement already satisfied: pyparsing>=2.3.1 in /Library/Frameworks/Python.framework/Versions/3.12/lib/python3.12/site-packages (from matplotlib->unstructured-inference==0.7.33->unstructured[pdf]->-r /Users/rouzbeh.farahmand/PycharmProjects/boa-financial-rag-workshop/requirements.txt (line 5)) (3.1.2)\r\n",
      "Requirement already satisfied: iopath in /Library/Frameworks/Python.framework/Versions/3.12/lib/python3.12/site-packages (from layoutparser->unstructured-inference==0.7.33->unstructured[pdf]->-r /Users/rouzbeh.farahmand/PycharmProjects/boa-financial-rag-workshop/requirements.txt (line 5)) (0.1.10)\r\n",
      "Requirement already satisfied: pdfplumber in /Library/Frameworks/Python.framework/Versions/3.12/lib/python3.12/site-packages (from layoutparser->unstructured-inference==0.7.33->unstructured[pdf]->-r /Users/rouzbeh.farahmand/PycharmProjects/boa-financial-rag-workshop/requirements.txt (line 5)) (0.11.0)\r\n",
      "Requirement already satisfied: mpmath>=0.19 in /Library/Frameworks/Python.framework/Versions/3.12/lib/python3.12/site-packages (from sympy->torch->unstructured-inference==0.7.33->unstructured[pdf]->-r /Users/rouzbeh.farahmand/PycharmProjects/boa-financial-rag-workshop/requirements.txt (line 5)) (1.3.0)\r\n",
      "Requirement already satisfied: pycparser in /Library/Frameworks/Python.framework/Versions/3.12/lib/python3.12/site-packages (from cffi>=1.12->cryptography>=36.0.0->pdfminer.six->unstructured[pdf]->-r /Users/rouzbeh.farahmand/PycharmProjects/boa-financial-rag-workshop/requirements.txt (line 5)) (2.22)\r\n",
      "Requirement already satisfied: pyasn1<0.7.0,>=0.4.6 in /Library/Frameworks/Python.framework/Versions/3.12/lib/python3.12/site-packages (from pyasn1-modules>=0.2.1->google-auth!=2.24.0,!=2.25.0,<3.0.0dev,>=2.14.1->google-cloud-vision->unstructured[pdf]->-r /Users/rouzbeh.farahmand/PycharmProjects/boa-financial-rag-workshop/requirements.txt (line 5)) (0.6.0)\r\n",
      "Requirement already satisfied: portalocker in /Library/Frameworks/Python.framework/Versions/3.12/lib/python3.12/site-packages (from iopath->layoutparser->unstructured-inference==0.7.33->unstructured[pdf]->-r /Users/rouzbeh.farahmand/PycharmProjects/boa-financial-rag-workshop/requirements.txt (line 5)) (2.8.2)\r\n",
      "Requirement already satisfied: pypdfium2>=4.18.0 in /Library/Frameworks/Python.framework/Versions/3.12/lib/python3.12/site-packages (from pdfplumber->layoutparser->unstructured-inference==0.7.33->unstructured[pdf]->-r /Users/rouzbeh.farahmand/PycharmProjects/boa-financial-rag-workshop/requirements.txt (line 5)) (4.30.0)\r\n",
      "Note: you may need to restart the kernel to use updated packages.\n"
     ]
    }
   ],
   "execution_count": 2
  },
  {
   "metadata": {},
   "cell_type": "markdown",
   "source": [
    "### SentenceTransformerEmbeddings Models Cache folder\n",
    "We are using `SentenceTransformerEmbeddings` in this demo and here we specify the cache folder. If you already downloaded the models in a local file system, set this folder here, otherwise the library tries to download the models in this folder if not available locally.\n",
    "\n",
    "In particular, this models will be downloaded if not present in the cache folder:\n",
    "\n",
    "models/models--sentence-transformers--all-MiniLM-L6-v2"
   ],
   "id": "9ba8eaf10e92f692"
  },
  {
   "metadata": {
    "ExecuteTime": {
     "end_time": "2024-06-11T16:28:19.746217Z",
     "start_time": "2024-06-11T16:28:19.744400Z"
    }
   },
   "cell_type": "code",
   "source": [
    "#setting the local downloaded sentence transformer models f\n",
    "os.environ[\"TRANSFORMERS_CACHE\"] = f\"{parent_directory}/models\""
   ],
   "id": "c405bdf9381db835",
   "outputs": [],
   "execution_count": 3
  },
  {
   "metadata": {
    "ExecuteTime": {
     "end_time": "2024-06-11T16:28:22.180981Z",
     "start_time": "2024-06-11T16:28:19.746673Z"
    }
   },
   "cell_type": "code",
   "source": [
    "from langchain.embeddings.sentence_transformer import SentenceTransformerEmbeddings\n",
    "\n",
    "embeddings = SentenceTransformerEmbeddings(model_name=\"sentence-transformers/all-MiniLM-L6-v2\",\n",
    "                                           cache_folder=os.getenv(\"TRANSFORMERS_CACHE\", f\"{parent_directory}/models\"))"
   ],
   "id": "11190e3ee0b4ab1d",
   "outputs": [],
   "execution_count": 4
  },
  {
   "metadata": {},
   "cell_type": "markdown",
   "source": [
    "### Build your Redis index \n",
    "Skip this section if you have already built your index in previous notebook.\n"
   ],
   "id": "30bd69c8360baaa0"
  },
  {
   "metadata": {
    "ExecuteTime": {
     "end_time": "2024-06-11T16:28:22.293276Z",
     "start_time": "2024-06-11T16:28:22.187249Z"
    }
   },
   "cell_type": "code",
   "source": [
    "from redisvl.index import SearchIndex\n",
    "from redisvl.schema import IndexSchema\n",
    "from redis import Redis\n",
    "index_name = 'langchain'\n",
    "prefix = 'chunk'\n",
    "schema = IndexSchema.from_yaml('sec_index.yaml')\n",
    "client = Redis.from_url(REDIS_URL)\n",
    "# create an index from schema and the client\n",
    "index = SearchIndex(schema, client)\n",
    "index.create(overwrite=True, drop=True)"
   ],
   "id": "78bbc21dd49fb15f",
   "outputs": [
    {
     "name": "stdout",
     "output_type": "stream",
     "text": [
      "12:28:22 redisvl.index.index INFO   Index already exists, overwriting.\n"
     ]
    }
   ],
   "execution_count": 5
  },
  {
   "metadata": {
    "ExecuteTime": {
     "end_time": "2024-06-11T16:28:23.308312Z",
     "start_time": "2024-06-11T16:28:22.293815Z"
    }
   },
   "cell_type": "code",
   "source": [
    "# Skip if you have already done populated your index.\n",
    "from ingestion import get_sec_data\n",
    "from ingestion import redis_bulk_upload\n",
    "\n",
    "sec_data = get_sec_data()"
   ],
   "id": "c1ab8cbe7cdea875",
   "outputs": [
    {
     "name": "stdout",
     "output_type": "stream",
     "text": [
      " ✅ Loaded doc info for  110 tickers...\n"
     ]
    }
   ],
   "execution_count": 6
  },
  {
   "metadata": {
    "ExecuteTime": {
     "end_time": "2024-06-11T16:28:43.954970Z",
     "start_time": "2024-06-11T16:28:23.308972Z"
    }
   },
   "cell_type": "code",
   "source": "redis_bulk_upload(sec_data, index, embeddings, tickers=['AAPL'])",
   "id": "5b87b9c94d496bc5",
   "outputs": [
    {
     "name": "stdout",
     "output_type": "stream",
     "text": [
      "✅ Loaded 108 10K chunks for ticker=AAPL from AAPL-2021-10K.pdf\n",
      "✅ Loaded 94 10K chunks for ticker=AAPL from AAPL-2023-10K.pdf\n",
      "✅ Loaded 103 10K chunks for ticker=AAPL from AAPL-2022-10K.pdf\n",
      "✅ Loaded 27 earning_call chunks for ticker=AAPL from 2018-May-01-AAPL.txt\n",
      "✅ Loaded 31 earning_call chunks for ticker=AAPL from 2019-Oct-30-AAPL.txt\n",
      "✅ Loaded 30 earning_call chunks for ticker=AAPL from 2016-Jan-26-AAPL.txt\n",
      "✅ Loaded 31 earning_call chunks for ticker=AAPL from 2020-Jul-30-AAPL.txt\n",
      "✅ Loaded 30 earning_call chunks for ticker=AAPL from 2017-Aug-01-AAPL.txt\n",
      "✅ Loaded 29 earning_call chunks for ticker=AAPL from 2020-Jan-28-AAPL.txt\n",
      "✅ Loaded 34 earning_call chunks for ticker=AAPL from 2016-Apr-26-AAPL.txt\n",
      "✅ Loaded 29 earning_call chunks for ticker=AAPL from 2017-Jan-31-AAPL.txt\n",
      "✅ Loaded 28 earning_call chunks for ticker=AAPL from 2019-Apr-30-AAPL.txt\n",
      "✅ Loaded 26 earning_call chunks for ticker=AAPL from 2017-Nov-02-AAPL.txt\n",
      "✅ Loaded 31 earning_call chunks for ticker=AAPL from 2016-Oct-25-AAPL.txt\n",
      "✅ Loaded 30 earning_call chunks for ticker=AAPL from 2016-Jul-26-AAPL.txt\n",
      "✅ Loaded 27 earning_call chunks for ticker=AAPL from 2017-May-02-AAPL.txt\n",
      "✅ Loaded 32 earning_call chunks for ticker=AAPL from 2019-Jul-30-AAPL.txt\n",
      "✅ Loaded 31 earning_call chunks for ticker=AAPL from 2019-Jan-29-AAPL.txt\n",
      "✅ Loaded 30 earning_call chunks for ticker=AAPL from 2018-Jul-31-AAPL.txt\n",
      "✅ Loaded 30 earning_call chunks for ticker=AAPL from 2018-Feb-01-AAPL.txt\n",
      "✅ Loaded 33 earning_call chunks for ticker=AAPL from 2018-Nov-01-AAPL.txt\n",
      "✅ Loaded 30 earning_call chunks for ticker=AAPL from 2020-Apr-30-AAPL.txt\n",
      "✅✅✅Loaded a total of 874 chunks from 3 10Ks and 19 earning calls for 1 tickers.\n"
     ]
    }
   ],
   "execution_count": 7
  },
  {
   "cell_type": "markdown",
   "id": "c74e4532",
   "metadata": {},
   "source": "## Redis as a Langchain Retriever\n"
  },
  {
   "cell_type": "code",
   "id": "e50c9efe-4abe-42fa-b35a-05eeeede9ec6",
   "metadata": {
    "ExecuteTime": {
     "end_time": "2024-06-11T16:28:43.976719Z",
     "start_time": "2024-06-11T16:28:43.955527Z"
    }
   },
   "source": [
    "from langchain_community.vectorstores import Redis as LangChainRedis\n",
    "from utils import create_langchain_schemas_from_redis_schema\n",
    "\n",
    "index_name = 'langchain'\n",
    "\n",
    "vec_schema , main_schema = create_langchain_schemas_from_redis_schema('sec_index.yaml')\n",
    "\n",
    "rds = LangChainRedis.from_existing_index( embedding = embeddings, \n",
    "                                          index_name = index_name, \n",
    "                                          schema = main_schema)\n",
    "redis_retriever = rds.as_retriever()\n"
   ],
   "outputs": [],
   "execution_count": 8
  },
  {
   "metadata": {},
   "cell_type": "markdown",
   "source": "Test if the Redis index is working and returning relevant document.",
   "id": "fcc76c0d6a83a135"
  },
  {
   "metadata": {
    "ExecuteTime": {
     "end_time": "2024-06-11T16:28:44.039572Z",
     "start_time": "2024-06-11T16:28:43.977321Z"
    }
   },
   "cell_type": "code",
   "source": "rds.similarity_search(query=\"Apple in 2022\", k=4, distance_threshold=0.8)",
   "id": "39b95a9507cbf6a4",
   "outputs": [
    {
     "data": {
      "text/plain": [
       "[Document(page_content='The Company’s global operations are subject to complex and changing laws and regulations on subjects, including antitrust; privacy, data security and data localization; consumer protection; advertising, sales, billing and e-commerce; financial services and technology; product liability; intellectual property ownership and infringement; digital platforms; internet, telecommunications, and mobile communications; media, television, film and digital content; availability of third-party software applications and services; labor and employment; anticorruption; import, export and trade; foreign exchange controls and cash repatriation restrictions; anti–money laundering; foreign ownership and investment; tax; and environmental, health and safety, including electronic waste, recycling, and climate change.\\n\\nApple Inc. | 2022 Form 10-K | 13', metadata={'id': 'chunk:AAPL-2022-10K.pdf-d567ec4c-1b05-44e6-8927-b583ef5ebd95', 'chunk_id': 'AAPL-2022-10K.pdf-d567ec4c-1b05-44e6-8927-b583ef5ebd95', 'source_doc': 'AAPL-2022-10K.pdf', 'doc_type': '10K', 'ticker': 'AAPL', 'company_name': 'APPLE INC', 'sector': 'Information Technology', 'asset_class': 'Equity', 'location': 'United States', 'exchange': 'NASDAQ', 'currency': 'USD', 'market_value': '559365151.11', 'weight': '5.16', 'notional_value': '559365151.11', 'shares': '4305127', 'price': '129.93'}),\n",
       " Document(page_content='The following discussion should be read in conjunction with the consolidated financial statements and accompanying notes included in Part II, Item 8 of this Form 10-K. This section of this Form 10-K generally discusses 2022 and 2021 items and year-to-year comparisons between 2022 and 2021. Discussions of 2020 items and year-to-year comparisons between 2021 and 2020 are not included in this Form 10-K, and can be found in “Management’s Discussion and Analysis of Financial Condition and Results of Operations” in Part II, Item 7 of the Company’s Annual Report on Form 10-K for the fiscal year ended September 25, 2021.\\n\\nFiscal Year Highlights\\n\\nFiscal 2022 Highlights\\n\\nTotal net sales increased 8% or $28.5 billion during 2022 compared to 2021, driven primarily by higher net sales of iPhone, Services and Mac. The weakness in foreign currencies relative to the U.S. dollar had an unfavorable year-over-year impact on all Products and Services net sales during 2022.\\n\\nThe Company announces new product, service and software offerings at various times during the year. Significant announcements during fiscal 2022 included the following:\\n\\nFirst Quarter 2022:\\n\\n•\\n\\nUpdated MacBook Pro 14” and MacBook Pro 16”, powered by the Apple M1 Pro or M1 Max chip; and Third generation of AirPods.\\n\\nSecond Quarter 2022:\\n\\n• • •\\n\\nUpdated iPhone SE with 5G technology; All-new Mac Studio, powered by the Apple M1 Max or M1 Ultra chip; All-new Studio Display™; and Updated iPad Air with 5G technology, powered by the Apple M1 chip.\\n\\nThird Quarter 2022:\\n\\n• •\\n\\nUpdated MacBook Air and MacBook Pro 13”, both powered by the Apple M2 chip; iOS 16, macOS Ventura, iPadOS 16 and watchOS 9, updates to the Company’s operating systems; and Apple Pay Later, a buy now, pay later service.\\n\\nFourth Quarter 2022:\\n\\n• •\\n\\niPhone 14, iPhone 14 Plus, iPhone 14 Pro and iPhone 14 Pro Max; Second generation of AirPods Pro; and Apple Watch Series 8, updated Apple Watch SE and all-new Apple Watch Ultra.\\n\\nIn April 2022, the Company announced an increase to its Program authorization from $315 billion to $405 billion and raised its quarterly dividend from $0.22 to $0.23 per share beginning in May 2022. During 2022, the Company repurchased $90.2 billion of its common stock and paid dividends and dividend equivalents of $14.8 billion.\\n\\nCOVID-19', metadata={'id': 'chunk:AAPL-2022-10K.pdf-717c0a3f-1d9f-4893-b764-ed8e47cf783d', 'chunk_id': 'AAPL-2022-10K.pdf-717c0a3f-1d9f-4893-b764-ed8e47cf783d', 'source_doc': 'AAPL-2022-10K.pdf', 'doc_type': '10K', 'ticker': 'AAPL', 'company_name': 'APPLE INC', 'sector': 'Information Technology', 'asset_class': 'Equity', 'location': 'United States', 'exchange': 'NASDAQ', 'currency': 'USD', 'market_value': '559365151.11', 'weight': '5.16', 'notional_value': '559365151.11', 'shares': '4305127', 'price': '129.93'}),\n",
       " Document(page_content='In May 2023, the Company announced a new share repurchase program of up to $90 billion and raised its quarterly dividend from $0.23 to $0.24 per share beginning in May 2023. During 2023, the Company repurchased $76.6 billion of its common stock and paid dividends and dividend equivalents of $15.0 billion.\\n\\nMacroeconomic Conditions\\n\\nMacroeconomic conditions, including inﬂation, changes in interest rates, and currency ﬂuctuations, have directly and indirectly impacted, and could in the future materially impact, the Company’s results of operations and ﬁnancial condition.\\n\\nApple Inc. | 2023 Form 10-K | 20\\n\\nSegment Operating Performance\\n\\nThe following table shows net sales by reportable segment for 2023, 2022 and 2021 (dollars in millions):\\n\\n2023\\n\\nChange\\n\\n2022\\n\\nChange\\n\\nNet sales by reportable segment:\\n\\nAmericas Europe Greater China Japan Rest of Asia Paciﬁc\\n\\nTotal net sales\\n\\n$\\n\\n$\\n\\n162,560 94,294 72,559 24,257 29,615 383,285\\n\\n(4)% $ (1)% (2)% (7)% 1 % (3)% $\\n\\n169,658 95,118 74,200 25,977 29,375 394,328\\n\\n11 % $ 7 % 9 % (9)% 11 %\\n\\n8 % $\\n\\nAmericas\\n\\nAmericas net sales decreased 4% or $7.1 billion during 2023 compared to 2022 due to lower net sales of iPhone and Mac, partially oﬀset by higher net sales of Services.\\n\\nEurope\\n\\nEurope net sales decreased 1% or $824 million during 2023 compared to 2022. The weakness in foreign currencies relative to the U.S. dollar accounted for more than the entire year-over-year decrease in Europe net sales, which consisted primarily of lower net sales of Mac and Wearables, Home and Accessories, partially oﬀset by higher net sales of iPhone and Services.\\n\\nGreater China\\n\\nGreater China net sales decreased 2% or $1.6 billion during 2023 compared to 2022. The weakness in the renminbi relative to the U.S. dollar accounted for more than the entire year-over-year decrease in Greater China net sales, which consisted primarily of lower net sales of Mac and iPhone.\\n\\nJapan\\n\\nJapan net sales decreased 7% or $1.7 billion during 2023 compared to 2022. The weakness in the yen relative to the U.S. dollar accounted for more than the entire year-over-year decrease in Japan net sales, which consisted primarily of lower net sales of iPhone, Wearables, Home and Accessories and Mac.\\n\\nRest of Asia Paciﬁc', metadata={'id': 'chunk:AAPL-2023-10K.pdf-68cf6dbd-7fd0-40c0-8e8a-6b074e11a14c', 'chunk_id': 'AAPL-2023-10K.pdf-68cf6dbd-7fd0-40c0-8e8a-6b074e11a14c', 'source_doc': 'AAPL-2023-10K.pdf', 'doc_type': '10K', 'ticker': 'AAPL', 'company_name': 'APPLE INC', 'sector': 'Information Technology', 'asset_class': 'Equity', 'location': 'United States', 'exchange': 'NASDAQ', 'currency': 'USD', 'market_value': '559365151.11', 'weight': '5.16', 'notional_value': '559365151.11', 'shares': '4305127', 'price': '129.93'}),\n",
       " Document(page_content=\"Coming this fall, Apple TV+ will be new home for world's most creative story tellers, featuring exclusive: 1. Original shows. 2. Movies. 3. Documentaries. 4. Several Major Product Introductions: 1. iMac: 1. Launched new more powerful iMac with dramatic increases in compute and graphics performance, making it great update for consumers and pros alike. 2. For Mac business overall, faced some processor constraints, leading to 5% revenue decline vs. last year. 1. Believes that Mac revenue would have been up vs. last year without those constraints. 2. Does not believe this challenge will have significant impact on 3Q results. 2. iPad: 1. Returned to growth in Greater China. 1. Generated strong double-digit growth in each of Co.'s other geographic segments. 2. Great iPad results were driven primarily by strong customer response to iPad Pro. 3. Late in qtr., launched all-new iPad Air with ultra-thin design, Apple Pencil support and high-end performance powered by A12 Bionic chip. 4. Introduced new iPad Mini, major upgrade for iPad fans who love ultra-portable design. 1. Like new iPad Air, it delivers power of A12 Bionic and support for Apple Pencil. 3. AirPods: 1. Last month, introduced new AirPods. 1. Second generation of world's most popular wireless headphones. 2. Demand has been incredible. 2. With new Co.-designed H1 chip, new AirPods deliver faster connect times, more talk time and convenience of hands-free Hey Siri. 4.\", metadata={'id': 'chunk:2019-Apr-30-AAPL.txt-a1312f44-2751-4228-9849-a2b5edb7e4ef', 'chunk_id': '2019-Apr-30-AAPL.txt-a1312f44-2751-4228-9849-a2b5edb7e4ef', 'source_doc': '2019-Apr-30-AAPL.txt', 'doc_type': 'earning_call', 'ticker': 'AAPL', 'company_name': 'APPLE INC', 'sector': 'Information Technology', 'asset_class': 'Equity', 'location': 'United States', 'exchange': 'NASDAQ', 'currency': 'USD', 'market_value': '559365151.11', 'weight': '5.16', 'notional_value': '559365151.11', 'shares': '4305127', 'price': '129.93'})]"
      ]
     },
     "execution_count": 9,
     "metadata": {},
     "output_type": "execute_result"
    }
   ],
   "execution_count": 9
  },
  {
   "cell_type": "markdown",
   "id": "225d2277-45b2-4ae8-a7d6-62b07fb4a002",
   "metadata": {},
   "source": "Now we create a Redis retriever tool."
  },
  {
   "metadata": {
    "ExecuteTime": {
     "end_time": "2024-06-11T16:28:44.387871Z",
     "start_time": "2024-06-11T16:28:44.040127Z"
    }
   },
   "cell_type": "code",
   "source": [
    "from langchain_core.prompts import PromptTemplate\n",
    "from langgraph.graph.message import add_messages\n",
    "import operator\n",
    "from typing import Annotated, TypedDict, Union, Sequence, List\n",
    "from langchain.agents import create_react_agent\n",
    "from langchain_community.chat_models import ChatOllama\n",
    "from langchain_core.agents import AgentAction, AgentFinish\n",
    "from langchain_core.messages import BaseMessage\n",
    "from langchain_core.tools import tool\n",
    "from langgraph.prebuilt import ToolExecutor, ToolInvocation\n",
    "\n",
    "@tool\n",
    "def get_relevant_docs_from_redis(input: str):\n",
    "    \"\"\"\n",
    "    Get the relevant docs from a redis query.\n",
    "    \"\"\"\n",
    "    \n",
    "    print(f\"RFD-DEBUG: ======= REDIS TOOL RESPONSE for {input} ===============\")\n",
    "    redis_response = rds.similarity_search(query=input, k=4, distance_threshold=0.8)\n",
    "    \n",
    "    \n",
    "    print(redis_response)\n",
    "    print(f\"RFD-DEBUG: =======REDIS TOOL RESPONSE = got {len(redis_response)} docs ===============\")\n",
    "    return redis_response\n",
    "\n",
    "\n",
    "@tool\n",
    "def response_to_irrelevant_questions(input: str):\n",
    "    \"\"\"\n",
    "    In case of getting questions that are not relevant to finance prepare a response.\n",
    "    \"\"\"\n",
    "    \n",
    "    default_response = [f\"Your question does not seem to be relevant to finance. Please only ask questions that are relevant to financials of companies that are usually reported in 10K or earning calls.>\"]\n",
    "    \n",
    "    return default_response\n",
    "\n",
    "\n",
    "tools = [get_relevant_docs_from_redis, response_to_irrelevant_questions]\n",
    "tool_executor = ToolExecutor(tools)\n",
    "tool_names = list(tool_executor.tool_map.keys())\n",
    "\n",
    "class AgentState(TypedDict):\n",
    "    input: str\n",
    "    chat_history: list[BaseMessage]\n",
    "    agent_outcome: Union[AgentAction, AgentFinish, None]\n",
    "    intermediate_steps: Annotated[list[tuple[AgentAction, str]], operator.add]\n",
    "    messages: Annotated[Sequence[BaseMessage], add_messages]\n",
    "    filters : str\n",
    "    question_relevancy: str\n",
    "    generation: str\n",
    "    documents: List[str]\n",
    "\n",
    "\n",
    "agent_model = ChatOllama(model=\"llama3\")\n",
    "agent_local_prompt = PromptTemplate(\n",
    "        template=\"\"\"\n",
    "            You are an assistant for question-answering tasks about financial documents. If you don't think the question is relevant to financial documents, then tell the user you don't have relevant tools to answer them. And do not execute any tools. If you think the question is relevant to financial documents, then, use the tools provided to you to answer them:\n",
    "\n",
    "            {tools}\n",
    "            Question: the input question you must answer.\n",
    "            Thought: you should always think about what to do. \n",
    "            Action: the action to take, should be one of [{tool_names}] or the end of conversation with a response you get from using a tool called `response_to_irrelevant_questions`. \n",
    "            Action Input: the input to the action\n",
    "            Observation: the result of the action is a snippet of financial information related to a company\n",
    "            ... (this Thought/Action/Action Input/Observation can repeat N times)\n",
    "            Action Input: Other agents will resolve the answer to the question so don't try to answer the question yourself. Just run the tools and retrieve the related documents. \n",
    "            \n",
    "            Question: {input}\n",
    "            Thought:{agent_scratchpad}\n",
    "            \"\"\",\n",
    "        input_variables=[\"tools\",\"tool_names\", \"input\",\"agent_scratchpad\"],\n",
    "    )\n",
    "\n",
    "\n",
    "agent_runnable = create_react_agent(agent_model, tools, agent_local_prompt)\n"
   ],
   "id": "8f03f9e92f8596f6",
   "outputs": [],
   "execution_count": 10
  },
  {
   "metadata": {
    "ExecuteTime": {
     "end_time": "2024-06-11T16:28:44.390289Z",
     "start_time": "2024-06-11T16:28:44.388511Z"
    }
   },
   "cell_type": "code",
   "source": "tool_names",
   "id": "53c512351150f08",
   "outputs": [
    {
     "data": {
      "text/plain": [
       "['get_relevant_docs_from_redis', 'response_to_irrelevant_questions']"
      ]
     },
     "execution_count": 11,
     "metadata": {},
     "output_type": "execute_result"
    }
   ],
   "execution_count": 11
  },
  {
   "metadata": {
    "jupyter": {
     "is_executing": true
    },
    "ExecuteTime": {
     "start_time": "2024-06-11T16:28:44.390740Z"
    }
   },
   "cell_type": "code",
   "source": [
    "### Retrieval Grader\n",
    "\n",
    "from langchain.prompts import PromptTemplate\n",
    "from langchain_community.chat_models import ChatOllama\n",
    "from langchain_core.output_parsers import JsonOutputParser\n",
    "\n",
    "llm = ChatOllama(model='llama3', format=\"json\", temperature=0)\n",
    "\n",
    "prompt = PromptTemplate(\n",
    "    template=\"\"\"You are a grader assessing relevance of a retrieved document to a user question. \\n \n",
    "    Here is the retrieved document: \\n\\n {document} \\n\\n\n",
    "    Here is the user question: {input} \\n\n",
    "    If the document contains keywords related to the user question, grade it as relevant. \\n\n",
    "    It does not need to be a stringent test. The goal is to filter out erroneous retrievals. \\n\n",
    "    Give a binary score 'yes' or 'no' score to indicate whether the document is relevant to the question. \\n\n",
    "    Provide the binary score as a JSON with a single key 'score' and no preamable or explanation.\"\"\",\n",
    "    input_variables=[\"input\", \"document\"],\n",
    ")\n",
    "\n",
    "retrieval_grader = prompt | llm | JsonOutputParser()\n",
    "question = \"apple revenue in 2022\"\n",
    "docs = redis_retriever.get_relevant_documents(question)\n",
    "doc_txt = docs[1].page_content\n",
    "print(retrieval_grader.invoke({\"input\": question, \"document\": doc_txt}))"
   ],
   "id": "6d636fcc416e5b53",
   "outputs": [
    {
     "name": "stderr",
     "output_type": "stream",
     "text": [
      "score_threshold is deprecated. Use distance_threshold instead.score_threshold should only be used in similarity_search_with_relevance_scores.score_threshold will be removed in a future release.\n"
     ]
    }
   ],
   "execution_count": null
  },
  {
   "metadata": {
    "jupyter": {
     "is_executing": true
    }
   },
   "cell_type": "code",
   "source": [
    "from langchain_core.output_parsers import StrOutputParser\n",
    "from langchain_core.prompts import ChatPromptTemplate, HumanMessagePromptTemplate,PromptTemplate\n",
    "\n",
    "# Prompt\n",
    "#prompt = hub.pull(\"rlm/rag-prompt\")\n",
    "gen_local_prompt = PromptTemplate(input_variables=['context', 'question'], template=\"You are an assistant for question-answering tasks. Use the following pieces of retrieved context to answer the question. If you don't know the answer, just say that you don't know. Use three sentences maximum and keep the answer concise.\\nQuestion: {question} \\nContext: {context} \\nAnswer:\")\n",
    "\n",
    "# LLM\n",
    "gen_llm = ChatOllama(model=\"llama3\")\n",
    "\n",
    "# Post-processing\n",
    "def format_docs(docs):\n",
    "    return \"\\n\\n\".join(doc.page_content for doc in docs)\n",
    "\n",
    "# Chain\n",
    "gen_rag_chain = gen_local_prompt | gen_llm | StrOutputParser()\n",
    "\n",
    "q=\"what is the deferred apple revenue in 2022?\"\n",
    "context = \"\"\"As of September 24, 2022 and September 25, 2021, \n",
    "            the Company had total deferred revenue of $12.4 \n",
    "            billion and $11.9 billion, respectively. As of \n",
    "            September 24, 2022, the Company expects 64% of \n",
    "            total deferred revenue to be realized in less \"\"\"\n",
    "\n",
    "    # Run Gen LLM\n",
    "response = gen_rag_chain.invoke({\"context\": context, \"question\": q})\n",
    "print(response)"
   ],
   "id": "ae6b410735d14731",
   "outputs": [],
   "execution_count": null
  },
  {
   "metadata": {
    "jupyter": {
     "is_executing": true
    }
   },
   "cell_type": "code",
   "source": [
    "### Question topic detection\n",
    "\n",
    "# LLM\n",
    "topic_llm = ChatOllama(model=\"llama3\")\n",
    "\n",
    "# Prompt\n",
    "topic_prompt = PromptTemplate(\n",
    "    template=\"\"\"Your task is to assign a topic for a given financial question and formulate a new question related to the topic that you found. Only return a valid JSON as your results. You have to determine if the answer for the question is can be found in \"earning_calls\" or \"10K\" financial filings. So choose either \"earning_calls\" or \"10K\" as the assigned topic. If you are unsure assign `None`. Give a topic 'earning_call' or '10K' as a JSON with a single key 'topic'. Also add a new key called 'new_question' and try to rewrite the given question based on the topic you detected. If the detected topic is None or your could find a relevance of the questions to those topics return 'None' as the new question. Only return a valid JSON objects as your response. If you have new information or Notes, add a new field in the JSON called `note` and add your explanation in that `note` field. the output should be only an JSON: \\n\\n {question}.  \\n \"\"\",\n",
    "    input_variables=[\"question\"],\n",
    ")\n",
    "\n",
    "topic_finder = topic_prompt | topic_llm | JsonOutputParser()\n",
    "topic_finder.invoke({\"question\": \"what is the aapl revenue in 2022?\"})"
   ],
   "id": "5762c816db4168eb",
   "outputs": [],
   "execution_count": null
  },
  {
   "metadata": {
    "jupyter": {
     "is_executing": true
    }
   },
   "cell_type": "code",
   "source": "topic_finder.invoke({\"question\": \"Why colorless green ideas are sleep furiously?\"})",
   "id": "fbb7f12ecd289a63",
   "outputs": [],
   "execution_count": null
  },
  {
   "metadata": {
    "jupyter": {
     "is_executing": true
    }
   },
   "cell_type": "code",
   "source": [
    "from langchain_core.documents import Document\n",
    "from typing import Literal\n",
    "from custom_ners import get_redis_filters\n",
    "from utils import *\n",
    "# Plugin any new or existing query analysis/ query understanding/translation to your DSL here.\n",
    "# you can have your own LTR/ query topic detection/ intent detection pipelines here.\n",
    "def query_analysis(q):\n",
    "    filters = get_redis_filters(q)\n",
    "    print(f\"inferred filters: {filters}\")\n",
    "    return filters\n",
    "\n",
    "### Edges\n",
    "def check_relevancy(state) -> Literal[\"generate\", \"rewrite\"]:\n",
    "    \"\"\"\n",
    "    Determines whether the asked question is relevant to our domain and if retrieved documents are relevant to the question.\n",
    "\n",
    "    Args:\n",
    "        state (messages): The current state\n",
    "\n",
    "    Returns:\n",
    "        str: A decision for whether the documents are relevant or not\n",
    "    \"\"\"\n",
    "\n",
    "    print(f\"---CHECK DOCUMENT RELEVANCE TO QUESTION---\")\n",
    "    print(f\"state={state}\")\n",
    "    print(f\"===========================================\")\n",
    "    \n",
    "    input = state[\"input\"]\n",
    "    documents = state[\"documents\"]\n",
    "    question_relevancy = state[\"question_relevancy\"]\n",
    "    \n",
    "    if question_relevancy == 'not_relevant':\n",
    "        print(f\"---DECISION: We have a question that is not RELEVANT to our docs- setting to generate ---\")\n",
    "        return \"generate\"\n",
    "    \n",
    "    # Score each doc\n",
    "    filtered_docs = []\n",
    "    for d in documents:\n",
    "        score = retrieval_grader.invoke({\"input\": input, \"document\": d})\n",
    "        grade = score[\"score\"]\n",
    "        if grade == \"yes\":\n",
    "            print(\"---GRADE: DOCUMENT RELEVANT---\")\n",
    "            filtered_docs.append(d)\n",
    "        else:\n",
    "            print(\"---GRADE: DOCUMENT NOT RELEVANT---\")\n",
    "            continue\n",
    "    \n",
    "    if len(filtered_docs) != len(documents) :\n",
    "        print(f\"---DECISION: We have {len(filtered_docs)} RELEVANT docs- setting to generate---\")\n",
    "        state[\"documents\"] = filtered_docs\n",
    "        return \"generate\"\n",
    "    else:\n",
    "        print(\"---DECISION: NO DOCS are RELEVANT, try gain by rewriting the query---\")\n",
    "        return \"rewrite\"\n",
    "\n",
    "### Nodes\n",
    "\n",
    "def execute_tools(state):\n",
    "    \n",
    "\n",
    "    print(\"RFD-DEBUG: ======== Called `execute_tools`========\")\n",
    "    \n",
    "    if state.get(\"agent_outcome\"):\n",
    "        messages = [state[\"agent_outcome\"]]\n",
    "        last_message = messages[-1]\n",
    "        if last_message.tool is not None:\n",
    "            tool_name = last_message.tool\n",
    "            tool_input = last_message.tool_input\n",
    "            print(f\"Calling tool: {tool_name}\")\n",
    "        \n",
    "            #That means we have an irrelevant question\n",
    "            if tool_name == 'response_to_irrelevant_questions':\n",
    "                action = ToolInvocation(\n",
    "                tool=tool_name,\n",
    "                tool_input=tool_input,\n",
    "                )\n",
    "                base_response = tool_executor.invoke(action)\n",
    "                cleaned_response = str(base_response) \n",
    "                return {\n",
    "                    \"intermediate_steps\": [(state[\"agent_outcome\"], cleaned_response)],\n",
    "                    \"messages\": [cleaned_response],\n",
    "                    \"documents\" : [],\n",
    "                    \"question_relevancy\" :'not_relevant'\n",
    "                }\n",
    "            else:\n",
    "                action = ToolInvocation(\n",
    "                    tool=tool_name,\n",
    "                    tool_input=tool_input,\n",
    "                    )\n",
    "                documents = tool_executor.invoke(action)\n",
    "                cleaned_response = concat_docs(documents)\n",
    "                print(f\"====RFD DEBUG: ======== response from tool_executor= {len(documents)} ========\")\n",
    "                return {\n",
    "                    \"intermediate_steps\": [(state[\"agent_outcome\"], cleaned_response)],\n",
    "                    \"documents\" : format_docs(documents),\n",
    "                    \"question_relevancy\" :'relevant'\n",
    "                    \n",
    "                }\n",
    "        else:\n",
    "            cleaned_response = str(last_message.log)\n",
    "            return {\n",
    "                \"intermediate_steps\": [(state[\"agent_outcome\"], cleaned_response)],\n",
    "                \"documents\" : []\n",
    "            }\n",
    "    else:\n",
    "        return {\n",
    "                \"messages\" : [state],\n",
    "                \"documents\" : []\n",
    "            }\n",
    "        \n",
    "            \n",
    "\n",
    "\n",
    "def agent(state):\n",
    "    print(f\"RFD-DEBUG:AGENT==========\")\n",
    "    print(f\"RFD-DEBUG AGENT stare={str(state)}\")\n",
    "    print(f\"RFD-DEBUG:============\")\n",
    "    try:\n",
    "        agent_outcome = agent_runnable.invoke(state)\n",
    "    except Exception as e:\n",
    "        print(f\"RFD-DEBUG AGENT ERROR: {str(e)}\")\n",
    "        return {\"messages\": [str(e)]}\n",
    "    \n",
    "    \n",
    "    print(f\"RFD-DEBUG:agent_outcome = {str(agent_outcome)}\")\n",
    "    return {\"agent_outcome\": agent_outcome}\n",
    "\n",
    "def rewrite(state):\n",
    "    \"\"\"\n",
    "    Transform the query to produce a better question.\n",
    "\n",
    "    Args:\n",
    "        state (messages): The current state\n",
    "\n",
    "    Returns:\n",
    "        dict: The updated state with re-phrased question\n",
    "    \"\"\"\n",
    "\n",
    "    print(\"--- QUERY rewrite ---\")\n",
    "    def combine_filters(inferred_filters, doc_type_filter=\"10K\", filter_strategy=\"AND\"):\n",
    "        if inferred_filters is None:\n",
    "            return \"@doc_type:{\"+f\"{doc_type_filter}\"+\"}\"\n",
    "        else:\n",
    "            return \"@doc_type:{\"+f\"{doc_type_filter}\"+\"} \" + filter_strategy +f\" ({inferred_filters})\"\n",
    "            \n",
    "        \n",
    "    question = state[\"input\"]\n",
    "    documents = state[\"documents\"]\n",
    "    q_filters = query_analysis(question)\n",
    "    topic = topic_finder.invoke({\"question\": question})\n",
    "    print(f\"---QUERY rewrite---topic_finder={topic}\")\n",
    "    detected_topic = topic[\"topic\"]\n",
    "    \n",
    "    \n",
    "    if detected_topic != \"None\":\n",
    "        print(f\"---TOPIC: Question is Related to {detected_topic}---\")\n",
    "        q_filters = query_analysis(question)\n",
    "        applied_filters = combine_filters(q_filters, doc_type_filter=detected_topic)\n",
    "    else:\n",
    "        applied_filters = combine_filters(q_filters)\n",
    "        \n",
    "    new_question = topic[\"new_question\"]   \n",
    "    if new_question != \"None\":\n",
    "        print(f\"---TOPIC: new_question is {new_question}---\")\n",
    "        rewrite_question = new_question\n",
    "    else:\n",
    "        rewrite_question = question\n",
    "        \n",
    "    print(f\"---QUERY rewrite for QUESTION={question} with filters={applied_filters}---\")\n",
    "    \n",
    "    return {\"documents\": documents, \"input\": rewrite_question, \"filters\": applied_filters}\n",
    "\n",
    "\n",
    "def generate(state):\n",
    "    \"\"\"\n",
    "    Generate answer\n",
    "\n",
    "    Args:\n",
    "        state (messages): The current state\n",
    "\n",
    "    Returns:\n",
    "         dict: The updated state with re-phrased question\n",
    "    \"\"\"\n",
    "    print(\"---GENERATE---\")\n",
    "    final_docs = state[\"documents\"]\n",
    "    final_question = state[\"input\"]\n",
    "    question_relevancy = state[\"question_relevancy\"]\n",
    "    messages = state[\"messages\"]\n",
    "    if question_relevancy == \"not_relevant\" and len(messages) > 0:\n",
    "        final_context = messages\n",
    "        print(f\"RFD-DEBUG:GENERATE BASE RESPONSE ==========\")\n",
    "        print(f\"RFD-DEBUG:GENERATE === question={final_question}\")\n",
    "        print(f\"RFD-DEBUG:GENERATE === context={final_context}\")\n",
    "    if final_docs is not None and len(final_docs) > 0:\n",
    "        final_context = str(\"\\n\".join(final_docs))\n",
    "        print(f\"RFD-DEBUG:GENERATE RESPONSE based on Docs ==========\")\n",
    "        print(f\"RFD-DEBUG:GENERATE === question={final_question}\")\n",
    "        print(f\"RFD-DEBUG:GENERATE === context={final_context}\")\n",
    "    \n",
    "    # Run Gen LLM\n",
    "    generated_answer = gen_rag_chain.invoke({\"context\": final_context, \"question\": final_question})\n",
    "    \n",
    "    print(f\"RFD-DEBUG:GENERATE=== generation={generated_answer}\")\n",
    "    return {\"messages\": [generated_answer], \"generation\": generated_answer}"
   ],
   "id": "993ba7ced09fdc22",
   "outputs": [],
   "execution_count": null
  },
  {
   "metadata": {
    "jupyter": {
     "is_executing": true
    }
   },
   "cell_type": "code",
   "source": [
    "from langgraph.graph import END, StateGraph\n",
    "\n",
    "# Define a new graph\n",
    "workflow = StateGraph(AgentState)\n",
    "\n",
    "\n",
    "# Define the nodes we will cycle between\n",
    "workflow.add_node(\"agent_node\", agent)  # agent\n",
    "workflow.add_node(\"redis_retrieve_node\", execute_tools)\n",
    "workflow.add_edge(\"agent_node\", 'redis_retrieve_node')\n",
    "workflow.add_node(\"rewrite_node\", rewrite)\n",
    "workflow.add_edge(\"rewrite_node\", \"agent_node\")\n",
    "# Decide whether to retrieve\n",
    "workflow.add_conditional_edges(\n",
    "    \"redis_retrieve_node\",\n",
    "    check_relevancy,\n",
    "    {\n",
    "        # Translate the condition outputs to nodes in our graph\n",
    "        \"rewrite\": \"rewrite_node\",\n",
    "        \"generate\": \"generate_node\",\n",
    "    },\n",
    ")\n",
    "\n",
    "workflow.add_node(\"generate_node\", generate)\n",
    "workflow.add_edge(\"generate_node\", END)\n",
    "\n",
    "workflow.set_entry_point(\"agent_node\")\n",
    "\n",
    "# Compile\n",
    "graphapp = workflow.compile()\n",
    "\n",
    "from IPython.display import Image, display\n",
    "\n",
    "try:\n",
    "    display(Image(graphapp.get_graph(xray=True).draw_mermaid_png()))\n",
    "except:\n",
    "    # This requires some extra dependencies and is optional\n",
    "    pass\n"
   ],
   "id": "b2acd602638ce906",
   "outputs": [],
   "execution_count": null
  },
  {
   "metadata": {
    "jupyter": {
     "is_executing": true
    }
   },
   "cell_type": "code",
   "source": [
    "import pprint\n",
    "\n",
    "inputs = {\n",
    "    \"input\":\"What was the deferred revenue of aapl in 2022?\",\n",
    "    \"messages\": [\n",
    "        (\"user\", \"What was the performance of aapl revenue in 2022?\"),\n",
    "    ]\n",
    "}\n",
    "for output in graphapp.stream(inputs):\n",
    "    for key, value in output.items():\n",
    "        pprint.pprint(f\"Output from node '{key}':\")\n",
    "        pprint.pprint(\"---\")\n",
    "        pprint.pprint(value, indent=2, width=80, depth=None)\n",
    "    pprint.pprint(\"\\n---\\n\")"
   ],
   "id": "7823529303b98dfd",
   "outputs": [],
   "execution_count": null
  },
  {
   "metadata": {
    "jupyter": {
     "is_executing": true
    }
   },
   "cell_type": "code",
   "source": [
    "import pprint\n",
    "\n",
    "inputs2 = {\n",
    "    \"input\":\"Why colorless green ideas are furiously sleeping?\",\n",
    "    \"messages\": [\n",
    "        (\"user\", \"Why colorless green ideas are furiously sleeping?\"),\n",
    "    ]\n",
    "}\n",
    "\n",
    "for output2 in graphapp.stream(inputs2):\n",
    "    for key2, value2 in output2.items():\n",
    "        pprint.pprint(f\"Output from node '{key2}':\")\n",
    "        pprint.pprint(\"---\")\n",
    "        pprint.pprint(value2, indent=2, width=80, depth=None)\n",
    "    pprint.pprint(\"\\n---\\n\")"
   ],
   "id": "34f4fb3c09949739",
   "outputs": [],
   "execution_count": null
  },
  {
   "metadata": {
    "jupyter": {
     "is_executing": true
    }
   },
   "cell_type": "code",
   "source": "",
   "id": "d0f4af78d14385a2",
   "outputs": [],
   "execution_count": null
  }
 ],
 "metadata": {
  "kernelspec": {
   "display_name": "Python 3 (ipykernel)",
   "language": "python",
   "name": "python3"
  },
  "language_info": {
   "codemirror_mode": {
    "name": "ipython",
    "version": 3
   },
   "file_extension": ".py",
   "mimetype": "text/x-python",
   "name": "python",
   "nbconvert_exporter": "python",
   "pygments_lexer": "ipython3",
   "version": "3.11.2"
  }
 },
 "nbformat": 4,
 "nbformat_minor": 5
}
