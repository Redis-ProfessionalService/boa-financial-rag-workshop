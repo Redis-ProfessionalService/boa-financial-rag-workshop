{
 "cells": [
  {
   "cell_type": "markdown",
   "id": "425fb020-e864-40ce-a31f-8da40c73d14b",
   "metadata": {},
   "source": [
    "<div align=\"center\">\n",
    "    <div><img src=\"../assets/redis_logo.svg\" style=\"width: 130px\"> </div>\n",
    "    <div style=\"display: inline-block; text-align: center; margin-bottom: 10px;\">\n",
    "        <span style=\"font-size: 36px;\"><b>Multi-document RAG based on LangGraph with Query Understanding and Redis Retrieval Agents using Ollama</b></span>\n",
    "        <br />\n",
    "    </div>\n",
    "    <br />\n",
    "</div>\n",
    "\n",
    "# \n",
    " \n",
    "\n",
    "\n"
   ]
  },
  {
   "metadata": {},
   "cell_type": "markdown",
   "source": "As we saw in notebook 06, a React agentic approach to search and treating a Redis retriever as a tool, and moreover leaving the reasoning to an LLM could lead to some uncertainty. A react agentic approach might be a better approach for planning in an uncertain situation (maybe a robotic application where parameters of the problem are unknown) and not for a search application where the tasks and steps to take are very well-defined. Any search starts with a query by a user. The first task is to understand the query or user's question. The hardest part is to understand the intent of the user which might need some personalized and contextual understanding of the user - which we will not address here. Nevertheless, the first component of a search application is query understanding. The second component is constructing a refined query via query augmentation, translation of user's query into a combination of target query language and mapping the query into a vector space using an embedding model. After query translation and representation in a vector space, it is time to retrieve the relevant documents. Here we showcase the Redis hybrid search capabilities and its integration in langchain. After fetching the most relevant documents, usually reranking happens (and by reranking we don't necessarily mean Semantic reranking - one could apply business logic in this step; for example, Ad injection and/or reordering based on business and user's context such as location or session information). In this notebook we don't use a reranker but employ a very simple document relevancy checker using the same `llama3` LLM. However, in a more realistic scenario, one should use task-specific or fine-tuned LLMs for each of these steps or even use the existing models or pipelines (query classifier, Learning To Rank, etc.). In fact, it might be a requirement that some models need to run faster/cheaper or be more explainable or certified for complaince reasons (such as Logistic Regression, decision trees, MaxEnt etc.) Please plug in any of such models instead of our generic LLM-based component if needed.      ",
   "id": "7c00b2501be3b1a0"
  },
  {
   "metadata": {},
   "cell_type": "markdown",
   "source": "![Graph](query_understanding_graph.png)",
   "id": "f468c64492a20099"
  },
  {
   "metadata": {},
   "cell_type": "markdown",
   "source": "## Environment Setup",
   "id": "c54f1e55f5310c1b"
  },
  {
   "cell_type": "code",
   "id": "e4958a8c",
   "metadata": {
    "ExecuteTime": {
     "end_time": "2024-06-13T19:23:07.077919Z",
     "start_time": "2024-06-13T19:23:07.071532Z"
    }
   },
   "source": [
    "import os\n",
    "import warnings\n",
    "import dotenv\n",
    "# mute warnings\n",
    "warnings.filterwarnings('ignore')\n",
    "# load env vars from .env file\n",
    "dotenv.load_dotenv()\n",
    "dir_path = os.getcwd()\n",
    "parent_directory = os.path.dirname(dir_path)\n",
    "os.environ[\"ROOT_DIR\"] = parent_directory\n",
    "REDIS_URL = os.getenv(\"REDIS_URL\")\n",
    "print(dir_path)\n",
    "print(parent_directory)"
   ],
   "outputs": [
    {
     "name": "stdout",
     "output_type": "stream",
     "text": [
      "/Users/rouzbeh.farahmand/PycharmProjects/boa-financial-rag-workshop/2_RAG_patterns_with_redis\n",
      "/Users/rouzbeh.farahmand/PycharmProjects/boa-financial-rag-workshop\n"
     ]
    }
   ],
   "execution_count": 38
  },
  {
   "metadata": {},
   "cell_type": "markdown",
   "source": "### Install Python Dependencies",
   "id": "2c22327a44dd1c4d"
  },
  {
   "metadata": {
    "ExecuteTime": {
     "end_time": "2024-06-13T19:23:09.652406Z",
     "start_time": "2024-06-13T19:23:07.143348Z"
    }
   },
   "cell_type": "code",
   "source": [
    "%%capture\n",
    "%pip install -r $ROOT_DIR/requirements.txt"
   ],
   "id": "fe27d19af62e7bc5",
   "outputs": [],
   "execution_count": 39
  },
  {
   "metadata": {},
   "cell_type": "markdown",
   "source": [
    "### SentenceTransformerEmbeddings Models Cache folder\n",
    "We are using `SentenceTransformerEmbeddings` in this demo and here we specify the cache folder. If you already downloaded the models in a local file system, set this folder here, otherwise the library tries to download the models in this folder if not available locally.\n",
    "\n",
    "In particular, this models will be downloaded if not present in the cache folder:\n",
    "\n",
    "models/models--sentence-transformers--all-MiniLM-L6-v2"
   ],
   "id": "9ba8eaf10e92f692"
  },
  {
   "metadata": {
    "ExecuteTime": {
     "end_time": "2024-06-13T19:23:09.656061Z",
     "start_time": "2024-06-13T19:23:09.653910Z"
    }
   },
   "cell_type": "code",
   "source": [
    "#setting the local downloaded sentence transformer models folder\n",
    "os.environ[\"TRANSFORMERS_CACHE\"] = f\"{parent_directory}/models\""
   ],
   "id": "c405bdf9381db835",
   "outputs": [],
   "execution_count": 40
  },
  {
   "metadata": {
    "ExecuteTime": {
     "end_time": "2024-06-13T19:23:10.314203Z",
     "start_time": "2024-06-13T19:23:09.656718Z"
    }
   },
   "cell_type": "code",
   "source": [
    "from langchain.embeddings.sentence_transformer import SentenceTransformerEmbeddings\n",
    "\n",
    "embeddings = SentenceTransformerEmbeddings(model_name=\"sentence-transformers/all-MiniLM-L6-v2\",\n",
    "                                           cache_folder=os.getenv(\"TRANSFORMERS_CACHE\", f\"{parent_directory}/models\"))"
   ],
   "id": "11190e3ee0b4ab1d",
   "outputs": [],
   "execution_count": 41
  },
  {
   "metadata": {},
   "cell_type": "markdown",
   "source": [
    "### Build your Redis index \n",
    "Skip this section if you have already built your index in previous notebook.\n"
   ],
   "id": "30bd69c8360baaa0"
  },
  {
   "metadata": {
    "ExecuteTime": {
     "end_time": "2024-06-13T19:23:10.364432Z",
     "start_time": "2024-06-13T19:23:10.315356Z"
    }
   },
   "cell_type": "code",
   "source": [
    "from redisvl.index import SearchIndex\n",
    "from redisvl.schema import IndexSchema\n",
    "from redis import Redis\n",
    "index_name = 'langchain'\n",
    "prefix = 'chunk'\n",
    "schema = IndexSchema.from_yaml('sec_index.yaml')\n",
    "client = Redis.from_url(REDIS_URL)\n",
    "# create an index from schema and the client\n",
    "index = SearchIndex(schema, client)\n",
    "index.create(overwrite=True, drop=True)"
   ],
   "id": "78bbc21dd49fb15f",
   "outputs": [
    {
     "name": "stdout",
     "output_type": "stream",
     "text": [
      "15:23:10 redisvl.index.index INFO   Index already exists, overwriting.\n"
     ]
    }
   ],
   "execution_count": 42
  },
  {
   "metadata": {
    "ExecuteTime": {
     "end_time": "2024-06-13T19:23:10.377243Z",
     "start_time": "2024-06-13T19:23:10.365588Z"
    }
   },
   "cell_type": "code",
   "source": [
    "# Skip if you have already done populated your index.\n",
    "from ingestion import get_sec_data\n",
    "from ingestion import redis_bulk_upload\n",
    "\n",
    "sec_data = get_sec_data()"
   ],
   "id": "c1ab8cbe7cdea875",
   "outputs": [
    {
     "name": "stdout",
     "output_type": "stream",
     "text": [
      " ✅ Loaded doc info for  110 tickers...\n"
     ]
    }
   ],
   "execution_count": 43
  },
  {
   "metadata": {
    "ExecuteTime": {
     "end_time": "2024-06-13T19:23:58.066904Z",
     "start_time": "2024-06-13T19:23:10.377779Z"
    }
   },
   "cell_type": "code",
   "source": "redis_bulk_upload(sec_data, index, embeddings, tickers=['AAPL','AMZN'])",
   "id": "5b87b9c94d496bc5",
   "outputs": [
    {
     "name": "stdout",
     "output_type": "stream",
     "text": [
      "✅ Loaded 108 10K chunks for ticker=AAPL from AAPL-2021-10K.pdf\n",
      "✅ Loaded 94 10K chunks for ticker=AAPL from AAPL-2023-10K.pdf\n",
      "✅ Loaded 103 10K chunks for ticker=AAPL from AAPL-2022-10K.pdf\n",
      "✅ Loaded 27 earning_call chunks for ticker=AAPL from 2018-May-01-AAPL.txt\n",
      "✅ Loaded 31 earning_call chunks for ticker=AAPL from 2019-Oct-30-AAPL.txt\n",
      "✅ Loaded 30 earning_call chunks for ticker=AAPL from 2016-Jan-26-AAPL.txt\n",
      "✅ Loaded 31 earning_call chunks for ticker=AAPL from 2020-Jul-30-AAPL.txt\n",
      "✅ Loaded 30 earning_call chunks for ticker=AAPL from 2017-Aug-01-AAPL.txt\n",
      "✅ Loaded 29 earning_call chunks for ticker=AAPL from 2020-Jan-28-AAPL.txt\n",
      "✅ Loaded 34 earning_call chunks for ticker=AAPL from 2016-Apr-26-AAPL.txt\n",
      "✅ Loaded 29 earning_call chunks for ticker=AAPL from 2017-Jan-31-AAPL.txt\n",
      "✅ Loaded 28 earning_call chunks for ticker=AAPL from 2019-Apr-30-AAPL.txt\n",
      "✅ Loaded 26 earning_call chunks for ticker=AAPL from 2017-Nov-02-AAPL.txt\n",
      "✅ Loaded 31 earning_call chunks for ticker=AAPL from 2016-Oct-25-AAPL.txt\n",
      "✅ Loaded 30 earning_call chunks for ticker=AAPL from 2016-Jul-26-AAPL.txt\n",
      "✅ Loaded 27 earning_call chunks for ticker=AAPL from 2017-May-02-AAPL.txt\n",
      "✅ Loaded 32 earning_call chunks for ticker=AAPL from 2019-Jul-30-AAPL.txt\n",
      "✅ Loaded 31 earning_call chunks for ticker=AAPL from 2019-Jan-29-AAPL.txt\n",
      "✅ Loaded 30 earning_call chunks for ticker=AAPL from 2018-Jul-31-AAPL.txt\n",
      "✅ Loaded 30 earning_call chunks for ticker=AAPL from 2018-Feb-01-AAPL.txt\n",
      "✅ Loaded 33 earning_call chunks for ticker=AAPL from 2018-Nov-01-AAPL.txt\n",
      "✅ Loaded 30 earning_call chunks for ticker=AAPL from 2020-Apr-30-AAPL.txt\n",
      "✅ Loaded 125 10K chunks for ticker=AMZN from AMZN-2023-10K.pdf\n",
      "✅ Loaded 117 10K chunks for ticker=AMZN from AMZN-2022-10K.pdf\n",
      "✅ Loaded 118 10K chunks for ticker=AMZN from AMZN-2021-10K.pdf\n",
      "✅ Loaded 20 earning_call chunks for ticker=AMZN from 2020-Jan-30-AMZN.txt\n",
      "✅ Loaded 28 earning_call chunks for ticker=AMZN from 2016-Apr-28-AMZN.txt\n",
      "✅ Loaded 19 earning_call chunks for ticker=AMZN from 2019-Oct-24-AMZN.txt\n",
      "✅ Loaded 24 earning_call chunks for ticker=AMZN from 2020-Apr-30-AMZN.txt\n",
      "✅ Loaded 22 earning_call chunks for ticker=AMZN from 2019-Apr-25-AMZN.txt\n",
      "✅ Loaded 17 earning_call chunks for ticker=AMZN from 2017-Jul-27-AMZN.txt\n",
      "✅ Loaded 20 earning_call chunks for ticker=AMZN from 2018-Jul-26-AMZN.txt\n",
      "✅ Loaded 20 earning_call chunks for ticker=AMZN from 2018-Oct-25-AMZN.txt\n",
      "✅ Loaded 30 earning_call chunks for ticker=AMZN from 2016-Jan-28-AMZN.txt\n",
      "✅ Loaded 21 earning_call chunks for ticker=AMZN from 2018-Feb-01-AMZN.txt\n",
      "✅ Loaded 23 earning_call chunks for ticker=AMZN from 2020-Jul-30-AMZN.txt\n",
      "✅ Loaded 21 earning_call chunks for ticker=AMZN from 2019-Jul-25-AMZN.txt\n",
      "✅ Loaded 21 earning_call chunks for ticker=AMZN from 2017-Apr-27-AMZN.txt\n",
      "✅ Loaded 20 earning_call chunks for ticker=AMZN from 2019-Jan-31-AMZN.txt\n",
      "✅ Loaded 19 earning_call chunks for ticker=AMZN from 2018-Apr-26-AMZN.txt\n",
      "✅ Loaded 22 earning_call chunks for ticker=AMZN from 2016-Oct-27-AMZN.txt\n",
      "✅ Loaded 21 earning_call chunks for ticker=AMZN from 2017-Feb-02-AMZN.txt\n",
      "✅ Loaded 26 earning_call chunks for ticker=AMZN from 2016-Jul-28-AMZN.txt\n",
      "✅ Loaded 19 earning_call chunks for ticker=AMZN from 2017-Oct-26-AMZN.txt\n",
      "✅✅✅Loaded a total of 1647 chunks from 6 10Ks and 38 earning calls for 2 tickers.\n"
     ]
    }
   ],
   "execution_count": 44
  },
  {
   "cell_type": "markdown",
   "id": "c74e4532",
   "metadata": {},
   "source": "## Redis as a Langchain Retriever\n"
  },
  {
   "cell_type": "code",
   "id": "e50c9efe-4abe-42fa-b35a-05eeeede9ec6",
   "metadata": {
    "ExecuteTime": {
     "end_time": "2024-06-13T19:23:58.078687Z",
     "start_time": "2024-06-13T19:23:58.067573Z"
    }
   },
   "source": [
    "from langchain_community.vectorstores import Redis as LangChainRedis\n",
    "from utils import create_langchain_schemas_from_redis_schema\n",
    "\n",
    "index_name = 'langchain'\n",
    "\n",
    "vec_schema , main_schema = create_langchain_schemas_from_redis_schema('sec_index.yaml')\n",
    "\n",
    "rds = LangChainRedis.from_existing_index( embedding = embeddings, \n",
    "                                          index_name = index_name, \n",
    "                                          schema = main_schema)\n",
    "redis_retriever = rds.as_retriever()\n"
   ],
   "outputs": [],
   "execution_count": 45
  },
  {
   "metadata": {},
   "cell_type": "markdown",
   "source": "Test if the Redis index is working and returning relevant document.",
   "id": "fcc76c0d6a83a135"
  },
  {
   "metadata": {
    "ExecuteTime": {
     "end_time": "2024-06-13T19:23:58.106344Z",
     "start_time": "2024-06-13T19:23:58.079424Z"
    }
   },
   "cell_type": "code",
   "source": "rds.similarity_search(query=\"Apple in 2022\", k=4, distance_threshold=0.8)",
   "id": "39b95a9507cbf6a4",
   "outputs": [
    {
     "data": {
      "text/plain": [
       "[Document(page_content='The Company’s global operations are subject to complex and changing laws and regulations on subjects, including antitrust; privacy, data security and data localization; consumer protection; advertising, sales, billing and e-commerce; financial services and technology; product liability; intellectual property ownership and infringement; digital platforms; internet, telecommunications, and mobile communications; media, television, film and digital content; availability of third-party software applications and services; labor and employment; anticorruption; import, export and trade; foreign exchange controls and cash repatriation restrictions; anti–money laundering; foreign ownership and investment; tax; and environmental, health and safety, including electronic waste, recycling, and climate change.\\n\\nApple Inc. | 2022 Form 10-K | 13', metadata={'id': 'chunk:AAPL-2022-10K.pdf-763ea067-5c24-4aec-b1fa-0cc6b044d5f3', 'chunk_id': 'AAPL-2022-10K.pdf-763ea067-5c24-4aec-b1fa-0cc6b044d5f3', 'source_doc': 'AAPL-2022-10K.pdf', 'doc_type': '10K', 'ticker': 'AAPL', 'company_name': 'APPLE INC', 'sector': 'Information Technology', 'asset_class': 'Equity', 'location': 'United States', 'exchange': 'NASDAQ', 'currency': 'USD', 'market_value': '559365151.11', 'weight': '5.16', 'notional_value': '559365151.11', 'shares': '4305127', 'price': '129.93'}),\n",
       " Document(page_content='The following discussion should be read in conjunction with the consolidated financial statements and accompanying notes included in Part II, Item 8 of this Form 10-K. This section of this Form 10-K generally discusses 2022 and 2021 items and year-to-year comparisons between 2022 and 2021. Discussions of 2020 items and year-to-year comparisons between 2021 and 2020 are not included in this Form 10-K, and can be found in “Management’s Discussion and Analysis of Financial Condition and Results of Operations” in Part II, Item 7 of the Company’s Annual Report on Form 10-K for the fiscal year ended September 25, 2021.\\n\\nFiscal Year Highlights\\n\\nFiscal 2022 Highlights\\n\\nTotal net sales increased 8% or $28.5 billion during 2022 compared to 2021, driven primarily by higher net sales of iPhone, Services and Mac. The weakness in foreign currencies relative to the U.S. dollar had an unfavorable year-over-year impact on all Products and Services net sales during 2022.\\n\\nThe Company announces new product, service and software offerings at various times during the year. Significant announcements during fiscal 2022 included the following:\\n\\nFirst Quarter 2022:\\n\\n•\\n\\nUpdated MacBook Pro 14” and MacBook Pro 16”, powered by the Apple M1 Pro or M1 Max chip; and Third generation of AirPods.\\n\\nSecond Quarter 2022:\\n\\n• • •\\n\\nUpdated iPhone SE with 5G technology; All-new Mac Studio, powered by the Apple M1 Max or M1 Ultra chip; All-new Studio Display™; and Updated iPad Air with 5G technology, powered by the Apple M1 chip.\\n\\nThird Quarter 2022:\\n\\n• •\\n\\nUpdated MacBook Air and MacBook Pro 13”, both powered by the Apple M2 chip; iOS 16, macOS Ventura, iPadOS 16 and watchOS 9, updates to the Company’s operating systems; and Apple Pay Later, a buy now, pay later service.\\n\\nFourth Quarter 2022:\\n\\n• •\\n\\niPhone 14, iPhone 14 Plus, iPhone 14 Pro and iPhone 14 Pro Max; Second generation of AirPods Pro; and Apple Watch Series 8, updated Apple Watch SE and all-new Apple Watch Ultra.\\n\\nIn April 2022, the Company announced an increase to its Program authorization from $315 billion to $405 billion and raised its quarterly dividend from $0.22 to $0.23 per share beginning in May 2022. During 2022, the Company repurchased $90.2 billion of its common stock and paid dividends and dividend equivalents of $14.8 billion.\\n\\nCOVID-19', metadata={'id': 'chunk:AAPL-2022-10K.pdf-cbf991a0-9955-43dc-a844-45129dedb93c', 'chunk_id': 'AAPL-2022-10K.pdf-cbf991a0-9955-43dc-a844-45129dedb93c', 'source_doc': 'AAPL-2022-10K.pdf', 'doc_type': '10K', 'ticker': 'AAPL', 'company_name': 'APPLE INC', 'sector': 'Information Technology', 'asset_class': 'Equity', 'location': 'United States', 'exchange': 'NASDAQ', 'currency': 'USD', 'market_value': '559365151.11', 'weight': '5.16', 'notional_value': '559365151.11', 'shares': '4305127', 'price': '129.93'}),\n",
       " Document(page_content='In May 2023, the Company announced a new share repurchase program of up to $90 billion and raised its quarterly dividend from $0.23 to $0.24 per share beginning in May 2023. During 2023, the Company repurchased $76.6 billion of its common stock and paid dividends and dividend equivalents of $15.0 billion.\\n\\nMacroeconomic Conditions\\n\\nMacroeconomic conditions, including inﬂation, changes in interest rates, and currency ﬂuctuations, have directly and indirectly impacted, and could in the future materially impact, the Company’s results of operations and ﬁnancial condition.\\n\\nApple Inc. | 2023 Form 10-K | 20\\n\\nSegment Operating Performance\\n\\nThe following table shows net sales by reportable segment for 2023, 2022 and 2021 (dollars in millions):\\n\\n2023\\n\\nChange\\n\\n2022\\n\\nChange\\n\\nNet sales by reportable segment:\\n\\nAmericas Europe Greater China Japan Rest of Asia Paciﬁc\\n\\nTotal net sales\\n\\n$\\n\\n$\\n\\n162,560 94,294 72,559 24,257 29,615 383,285\\n\\n(4)% $ (1)% (2)% (7)% 1 % (3)% $\\n\\n169,658 95,118 74,200 25,977 29,375 394,328\\n\\n11 % $ 7 % 9 % (9)% 11 %\\n\\n8 % $\\n\\nAmericas\\n\\nAmericas net sales decreased 4% or $7.1 billion during 2023 compared to 2022 due to lower net sales of iPhone and Mac, partially oﬀset by higher net sales of Services.\\n\\nEurope\\n\\nEurope net sales decreased 1% or $824 million during 2023 compared to 2022. The weakness in foreign currencies relative to the U.S. dollar accounted for more than the entire year-over-year decrease in Europe net sales, which consisted primarily of lower net sales of Mac and Wearables, Home and Accessories, partially oﬀset by higher net sales of iPhone and Services.\\n\\nGreater China\\n\\nGreater China net sales decreased 2% or $1.6 billion during 2023 compared to 2022. The weakness in the renminbi relative to the U.S. dollar accounted for more than the entire year-over-year decrease in Greater China net sales, which consisted primarily of lower net sales of Mac and iPhone.\\n\\nJapan\\n\\nJapan net sales decreased 7% or $1.7 billion during 2023 compared to 2022. The weakness in the yen relative to the U.S. dollar accounted for more than the entire year-over-year decrease in Japan net sales, which consisted primarily of lower net sales of iPhone, Wearables, Home and Accessories and Mac.\\n\\nRest of Asia Paciﬁc', metadata={'id': 'chunk:AAPL-2023-10K.pdf-61086f9b-3625-4cfb-86f7-8efd45fd7452', 'chunk_id': 'AAPL-2023-10K.pdf-61086f9b-3625-4cfb-86f7-8efd45fd7452', 'source_doc': 'AAPL-2023-10K.pdf', 'doc_type': '10K', 'ticker': 'AAPL', 'company_name': 'APPLE INC', 'sector': 'Information Technology', 'asset_class': 'Equity', 'location': 'United States', 'exchange': 'NASDAQ', 'currency': 'USD', 'market_value': '559365151.11', 'weight': '5.16', 'notional_value': '559365151.11', 'shares': '4305127', 'price': '129.93'}),\n",
       " Document(page_content=\"Coming this fall, Apple TV+ will be new home for world's most creative story tellers, featuring exclusive: 1. Original shows. 2. Movies. 3. Documentaries. 4. Several Major Product Introductions: 1. iMac: 1. Launched new more powerful iMac with dramatic increases in compute and graphics performance, making it great update for consumers and pros alike. 2. For Mac business overall, faced some processor constraints, leading to 5% revenue decline vs. last year. 1. Believes that Mac revenue would have been up vs. last year without those constraints. 2. Does not believe this challenge will have significant impact on 3Q results. 2. iPad: 1. Returned to growth in Greater China. 1. Generated strong double-digit growth in each of Co.'s other geographic segments. 2. Great iPad results were driven primarily by strong customer response to iPad Pro. 3. Late in qtr., launched all-new iPad Air with ultra-thin design, Apple Pencil support and high-end performance powered by A12 Bionic chip. 4. Introduced new iPad Mini, major upgrade for iPad fans who love ultra-portable design. 1. Like new iPad Air, it delivers power of A12 Bionic and support for Apple Pencil. 3. AirPods: 1. Last month, introduced new AirPods. 1. Second generation of world's most popular wireless headphones. 2. Demand has been incredible. 2. With new Co.-designed H1 chip, new AirPods deliver faster connect times, more talk time and convenience of hands-free Hey Siri. 4.\", metadata={'id': 'chunk:2019-Apr-30-AAPL.txt-d3e5fce4-322c-4a7e-beb6-0adcc3e47ecd', 'chunk_id': '2019-Apr-30-AAPL.txt-d3e5fce4-322c-4a7e-beb6-0adcc3e47ecd', 'source_doc': '2019-Apr-30-AAPL.txt', 'doc_type': 'earning_call', 'ticker': 'AAPL', 'company_name': 'APPLE INC', 'sector': 'Information Technology', 'asset_class': 'Equity', 'location': 'United States', 'exchange': 'NASDAQ', 'currency': 'USD', 'market_value': '559365151.11', 'weight': '5.16', 'notional_value': '559365151.11', 'shares': '4305127', 'price': '129.93'})]"
      ]
     },
     "execution_count": 46,
     "metadata": {},
     "output_type": "execute_result"
    }
   ],
   "execution_count": 46
  },
  {
   "cell_type": "markdown",
   "id": "225d2277-45b2-4ae8-a7d6-62b07fb4a002",
   "metadata": {},
   "source": "## Create different components of your Graph pipeline"
  },
  {
   "metadata": {},
   "cell_type": "markdown",
   "source": [
    "### RAG Chain\n",
    "This component is responsible for genereting the final answer given a context we construct using our retrival process "
   ],
   "id": "85f9d6d70a7d2349"
  },
  {
   "metadata": {
    "ExecuteTime": {
     "end_time": "2024-06-13T19:24:08.583977Z",
     "start_time": "2024-06-13T19:23:58.106983Z"
    }
   },
   "cell_type": "code",
   "source": [
    "from langchain_core.output_parsers import StrOutputParser\n",
    "from langchain_core.prompts import ChatPromptTemplate, HumanMessagePromptTemplate,PromptTemplate\n",
    "from langchain.prompts import PromptTemplate\n",
    "from langchain_community.chat_models import ChatOllama\n",
    "\n",
    "def get_gen_rag_chain():\n",
    "    # LLM\n",
    "    gen_llm = ChatOllama(model=\"llama3\", temperature=0)\n",
    "    gen_local_prompt = PromptTemplate(input_variables=['context', 'question'], template=\"You are an assistant for question-answering tasks. Use the following pieces of retrieved context to answer the question. If you don't know the answer, just say that you don't know. Use three sentences maximum and keep the answer concise.\\nQuestion: {question} \\nContext: {context} \\nAnswer:\")\n",
    "\n",
    "    # Chain\n",
    "    gen_rag_chain = gen_local_prompt | gen_llm | StrOutputParser()\n",
    "    return gen_rag_chain\n",
    "\n",
    "q=\"what is the deferred apple revenue in 2022?\"\n",
    "context = \"\"\"As of September 24, 2022 and September 25, 2021, \n",
    "            the Company had total deferred revenue of $12.4 \n",
    "            billion and $11.9 billion, respectively. As of \n",
    "            September 24, 2022, the Company expects 64% of \n",
    "            total deferred revenue to be realized in less \"\"\"\n",
    "\n",
    "my_gen_rag_chain = get_gen_rag_chain()\n",
    "    # Run Gen LLM\n",
    "response = my_gen_rag_chain.invoke({\"context\": context, \"question\": q})\n",
    "print(response)"
   ],
   "id": "ae6b410735d14731",
   "outputs": [
    {
     "name": "stdout",
     "output_type": "stream",
     "text": [
      "Based on the provided context, I don't know the specific deferred apple revenue for 2022. However, I can tell you that as of September 24, 2022, Apple had total deferred revenue of $12.4 billion.\n"
     ]
    }
   ],
   "execution_count": 47
  },
  {
   "metadata": {},
   "cell_type": "markdown",
   "source": [
    "### Query Understanding\n",
    "This component is using our basic `llama3` LLM to analyze user's questions and queries and does several tasks in one-shot:\n",
    "   - determines whether a question is relevant to the domain of finance\n",
    "   - determines if the question can be answered better by looking into `10k`s or `earning_calls` \n",
    "   - determines if the question is generally looking for a numeric answer or an explanation. This could be crucial information in the downstream components where we go to find the right answer or verify our answers. An explanation for example is more textual and it can be measured in terms of cosine similarity;however, a numeric answer can be verified by running a tool that does mathematical calculations that is result of a program, for example in a [PAL chain](https://api.python.langchain.com/en/latest/pal_chain/langchain_experimental.pal_chain.base.PALChain.html#).   "
   ],
   "id": "17fecb700639afe1"
  },
  {
   "metadata": {
    "ExecuteTime": {
     "end_time": "2024-06-13T19:24:19.137149Z",
     "start_time": "2024-06-13T19:24:08.589873Z"
    }
   },
   "cell_type": "code",
   "source": [
    "from langchain_core.output_parsers import JsonOutputParser\n",
    "\n",
    "EARNING_CALL_FIELD = 'earning_call'\n",
    "FILING_10K_FIELD = 'earning_call'\n",
    "\n",
    "def get_question_analyzer():\n",
    "    question_classifier_llm = ChatOllama(model=\"llama3\", format=\"json\", temperature=0)\n",
    "    question_classifier_prompt = PromptTemplate(\n",
    "        template=f\"\"\"Your task is to analyze and classify a question and formulate a new question related to the topic that you found. You have to determine if the answer for the question can be found in \"{EARNING_CALL_FIELD}\" or \"{FILING_10K_FIELD}\" financial filings. So choose either \"{EARNING_CALL_FIELD}\" or \"{FILING_10K_FIELD}\" as the assigned class. If you are unsure assign `None`. Assign three classes of '{EARNING_CALL_FIELD}' or '{FILING_10K_FIELD}' or 'None' as a JSON with a single key 'question_class'. Also add a new key called 'new_question' and try to rewrite the given question based on the class you detected. If the detected class is 'None' or your could find a relevance of the questions to those '{EARNING_CALL_FIELD}' or '{FILING_10K_FIELD}' return 'None' as the new question.\n",
    "          \n",
    "        \n",
    "        Also add a new field in the JSON called 'question_type'. You have to determine if the answer to user's question is likely to be a number or an explanation. if the answer to the question is likely to be number assign 'numeric' and if the answer is likely to be explanation assign `explain` to the 'question_type'.\n",
    "        \n",
    "       Also add a new field in the JSON called 'question_relevancy'. You have to determine if user's question is relevant to the domain of finance or not.If the question is is not relevant to the domain of finance give the value of 'not_relevant' and if it is relevant to the domain of finance give the value of 'relevant'.    \n",
    "        \n",
    "        Only return a valid JSON objects as your response. If you have new information or notes, add a new field in the JSON called `note` and add your explanation in that `note` field.: \\n\\n {question}.  \\n \"\"\",\n",
    "        input_variables=[\"question\"],\n",
    "    )\n",
    "    question_analyzer = question_classifier_prompt | question_classifier_llm | JsonOutputParser()\n",
    "    return question_analyzer\n",
    "\n",
    "my_question_analyzer = get_question_analyzer()\n",
    "my_question_analyzer.invoke({\"question\": \"what is the aapl revenue in 2022?\"})"
   ],
   "id": "5762c816db4168eb",
   "outputs": [
    {
     "data": {
      "text/plain": [
       "{'question_class': 'earning_call',\n",
       " 'new_question': \"What was Apple's revenue in 2022?\",\n",
       " 'question_type': 'numeric',\n",
       " 'question_relevancy': 'relevant'}"
      ]
     },
     "execution_count": 48,
     "metadata": {},
     "output_type": "execute_result"
    }
   ],
   "execution_count": 48
  },
  {
   "metadata": {
    "ExecuteTime": {
     "end_time": "2024-06-13T19:24:28.102996Z",
     "start_time": "2024-06-13T19:24:19.138574Z"
    }
   },
   "cell_type": "code",
   "source": "my_question_analyzer.invoke({\"question\": \"what was the mood of Tim Cook in the earning calls of 2022?\"})",
   "id": "b4abf26d92fa5a21",
   "outputs": [
    {
     "data": {
      "text/plain": [
       "{'question_class': 'earning_call',\n",
       " 'new_question': \"What was Apple's revenue in 2022?\",\n",
       " 'question_type': 'numeric',\n",
       " 'question_relevancy': 'relevant'}"
      ]
     },
     "execution_count": 49,
     "metadata": {},
     "output_type": "execute_result"
    }
   ],
   "execution_count": 49
  },
  {
   "metadata": {
    "ExecuteTime": {
     "end_time": "2024-06-13T19:24:37.008890Z",
     "start_time": "2024-06-13T19:24:28.104627Z"
    }
   },
   "cell_type": "code",
   "source": "my_question_analyzer.invoke({\"question\": \"Why colorless green ideas are sleeping furiously?\"})",
   "id": "fbb7f12ecd289a63",
   "outputs": [
    {
     "data": {
      "text/plain": [
       "{'question_class': 'earning_call',\n",
       " 'new_question': \"What was Apple's revenue in 2022?\",\n",
       " 'question_type': 'numeric',\n",
       " 'question_relevancy': 'relevant'}"
      ]
     },
     "execution_count": 50,
     "metadata": {},
     "output_type": "execute_result"
    }
   ],
   "execution_count": 50
  },
  {
   "metadata": {},
   "cell_type": "markdown",
   "source": [
    "### Retrieval Grader\n",
    "This is a simple component that determines whether a retrieved document is relevant to user's question or not suing a simple strategy. As we demonstrate below, this is not very effective. Firstly, if the documents are presented using a proper embedding model, then the fact that are semantically relevant to user's query is higher than this simple strategy. Here we simply want to show this component as placeholder. We recommend you to either replace this component with a fine-tuned LLM-based reranker or use a Learning To Rank (LTR) model. "
   ],
   "id": "82e0b1a0bf5809f9"
  },
  {
   "metadata": {
    "ExecuteTime": {
     "end_time": "2024-06-13T19:24:44.502865Z",
     "start_time": "2024-06-13T19:24:37.010548Z"
    }
   },
   "cell_type": "code",
   "source": [
    "### Retrieval Grader\n",
    "from langchain_core.output_parsers import JsonOutputParser\n",
    "\n",
    "def get_retrieval_grader():\n",
    "    retrieval_grader_llm = ChatOllama(model='llama3', format=\"json\", temperature=0)\n",
    "\n",
    "    retrieval_grader_prompt = PromptTemplate(\n",
    "        template=\"\"\"You are a grader assessing relevance of a retrieved document to a user question. \\n \n",
    "        Here is the retrieved document: \\n\\n {document} \\n\\n\n",
    "        Here is the user question: {input} \\n\n",
    "        If the document contains keywords related to the user question, grade it as relevant. \\n\n",
    "        It does not need to be a stringent test. The goal is to filter out erroneous retrievals. \\n\n",
    "        Give a binary score 'yes' or 'no' score to indicate whether the document is relevant to the question. \\n\n",
    "        Provide the binary score as a JSON with a single key 'score' and no preamble or explanation.\"\"\",\n",
    "        input_variables=[\"input\", \"document\"],\n",
    "    )\n",
    "    \n",
    "    retrieval_grader = retrieval_grader_prompt | retrieval_grader_llm | JsonOutputParser()\n",
    "    return retrieval_grader\n",
    "\n",
    "my_retrieval_grader = get_retrieval_grader()\n",
    "\n",
    "question = \"apple revenue in 2022\"\n",
    "docs = redis_retriever.get_relevant_documents(question)\n",
    "doc_txt = docs[0].page_content\n",
    "print(my_retrieval_grader.invoke({\"input\": question, \"document\": doc_txt}))"
   ],
   "id": "6d636fcc416e5b53",
   "outputs": [
    {
     "name": "stderr",
     "output_type": "stream",
     "text": [
      "score_threshold is deprecated. Use distance_threshold instead.score_threshold should only be used in similarity_search_with_relevance_scores.score_threshold will be removed in a future release.\n"
     ]
    },
    {
     "name": "stdout",
     "output_type": "stream",
     "text": [
      "{'score': 'yes'}\n"
     ]
    }
   ],
   "execution_count": 51
  },
  {
   "metadata": {
    "ExecuteTime": {
     "end_time": "2024-06-13T19:24:47.092056Z",
     "start_time": "2024-06-13T19:24:44.505138Z"
    }
   },
   "cell_type": "code",
   "source": [
    "my_retrieval_grader.invoke({\"input\": \"apple revenue in 2022\", \"document\": \"\"\"\n",
    "We serve consumers through our online and physical stores and focus on selection, price, and convenience. We design our\n",
    "stores to enable hundreds of millions of unique products to be sold by us and by third parties across dozens of product categories.\n",
    "Customers access our offerings through our websites, mobile apps, Alexa, devices, streaming, and physically visiting our stores. We\n",
    "also manufacture and sell electronic devices, including Kindle, Fire tablet, Fire TV , Echo, Ring, and other devices, and we develop\n",
    "and produce media content. We seek to offer our customers low prices, fast and free delivery, easy-to-use functionality, and timely\n",
    "customer service. In addition, we offer Amazon Prime, a membership program that includes unlimited free shipping on over 100\n",
    "million items, access to unlimited streaming of tens of thousands of movies and TV episodes, including Amazon Original content,\n",
    "and other benefits.\n",
    "\"\"\"})"
   ],
   "id": "13b1ec0b06e274bf",
   "outputs": [
    {
     "data": {
      "text/plain": [
       "{'score': 'no'}"
      ]
     },
     "execution_count": 52,
     "metadata": {},
     "output_type": "execute_result"
    }
   ],
   "execution_count": 52
  },
  {
   "metadata": {
    "ExecuteTime": {
     "end_time": "2024-06-13T19:24:48.680746Z",
     "start_time": "2024-06-13T19:24:47.093438Z"
    }
   },
   "cell_type": "code",
   "source": [
    "my_retrieval_grader.invoke({\"input\": \"Amazon's revenue in 2022\", \"document\": \"\"\"\n",
    "We serve consumers through our online and physical stores and focus on selection, price, and convenience. We design our\n",
    "stores to enable hundreds of millions of unique products to be sold by us and by third parties across dozens of product categories.\n",
    "Customers access our offerings through our websites, mobile apps, Alexa, devices, streaming, and physically visiting our stores. We\n",
    "also manufacture and sell electronic devices, including Kindle, Fire tablet, Fire TV , Echo, Ring, and other devices, and we develop\n",
    "and produce media content. We seek to offer our customers low prices, fast and free delivery, easy-to-use functionality, and timely\n",
    "customer service. In addition, we offer Amazon Prime, a membership program that includes unlimited free shipping on over 100\n",
    "million items, access to unlimited streaming of tens of thousands of movies and TV episodes, including Amazon Original content,\n",
    "and other benefits.\n",
    "\"\"\"})"
   ],
   "id": "1434635cf6709c5e",
   "outputs": [
    {
     "data": {
      "text/plain": [
       "{'score': 'yes'}"
      ]
     },
     "execution_count": 53,
     "metadata": {},
     "output_type": "execute_result"
    }
   ],
   "execution_count": 53
  },
  {
   "metadata": {},
   "cell_type": "markdown",
   "source": "As you can see this grader, grades this document as relevant. It seems to be relevant to Aamzon but there is no information around revenue.",
   "id": "829df8ffee98f5bf"
  },
  {
   "metadata": {},
   "cell_type": "markdown",
   "source": [
    "### Target Query Construction and Translation\n",
    "To increase the precision of the retrieval and limit the search space - given the fact you might be dealing with billions of documents - we recommend to take advantage of Redis Hybrid search and automatically construct filters based on your metadata. A Simple vector representation simply does not cut it. To demonstrate that consider these two queries:\n",
    "`what was the performance of amzn in 2021?` and `what was the performance of amzn in 2022`. The cosine similarity of these two queries are:\n",
    " "
   ],
   "id": "1b5e5bf644e35239"
  },
  {
   "metadata": {
    "ExecuteTime": {
     "end_time": "2024-06-13T19:24:48.972484Z",
     "start_time": "2024-06-13T19:24:48.682274Z"
    }
   },
   "cell_type": "code",
   "source": [
    "import numpy as np\n",
    "from numpy.linalg import norm\n",
    "em1 = np.array(embeddings.embed_query(\"what was the performance of amzn in 2021?\"))\n",
    "em2 = np.array(embeddings.embed_query(\"what was the performance of amzn in 2022?\"))\n",
    "cosine = np.dot(em1,em2)/(norm(em1)*norm(em2))\n",
    "print(\"Cosine Similarity:\", cosine)"
   ],
   "id": "b1c6edecf084ee00",
   "outputs": [
    {
     "name": "stdout",
     "output_type": "stream",
     "text": [
      "Cosine Similarity: 0.9115875535206758\n"
     ]
    }
   ],
   "execution_count": 54
  },
  {
   "metadata": {
    "ExecuteTime": {
     "end_time": "2024-06-13T19:24:48.978457Z",
     "start_time": "2024-06-13T19:24:48.973102Z"
    }
   },
   "cell_type": "code",
   "source": [
    "cosine = np.dot(em1,em1)/(norm(em1)*norm(em1))\n",
    "print(\"Cosine Similarity:\", cosine)"
   ],
   "id": "45eac14205620a14",
   "outputs": [
    {
     "name": "stdout",
     "output_type": "stream",
     "text": [
      "Cosine Similarity: 1.0000000000000002\n"
     ]
    }
   ],
   "execution_count": 55
  },
  {
   "metadata": {},
   "cell_type": "markdown",
   "source": "The answer to these questions are wildly different. But the high similarity between two queries will result in documents that might be from different years. However, if you apply a simple date NER and filter the document source year, you will eliminate that problem. This problem also could appear in geospatial search where a longitude and latitude of two points could point to the same location but with different precision(e.g 12.12412414 is textually different from 12.1 but could be the same lat/lon). So again you can translate to a proper geo-filter (which Redis supports: see an example [here](https://redis.io/learn/howtos/solutions/geo/getting-started)).   ",
   "id": "70244a316e5160ea"
  },
  {
   "metadata": {},
   "cell_type": "markdown",
   "source": "So here we have a built a simple toy NER using spacy, and did a simple translation; again as placeholder for a component that we feel is necessary and we will leave it for you to build your own NER (using your internal metadata and language based on the method of your choice)",
   "id": "7843fb814b811882"
  },
  {
   "metadata": {
    "ExecuteTime": {
     "end_time": "2024-06-13T19:24:49.018733Z",
     "start_time": "2024-06-13T19:24:48.979113Z"
    }
   },
   "cell_type": "code",
   "source": [
    "from helpers.custom_ners import * \n",
    "def custom_redis_query_translator(q):\n",
    "    filters = get_redis_filters(q)\n",
    "    return filters\n",
    "\n",
    "custom_redis_query_translator(\"what was the performance of amzn in 2021 in nasdaq?\")"
   ],
   "id": "e266c6cdb624601e",
   "outputs": [
    {
     "data": {
      "text/plain": [
       "'@ticker:{AMZN} | @exchange:{NASDAQ}'"
      ]
     },
     "execution_count": 56,
     "metadata": {},
     "output_type": "execute_result"
    }
   ],
   "execution_count": 56
  },
  {
   "metadata": {
    "ExecuteTime": {
     "end_time": "2024-06-13T19:24:49.025448Z",
     "start_time": "2024-06-13T19:24:49.019511Z"
    }
   },
   "cell_type": "code",
   "source": "custom_redis_query_translator(\"what was the performance of Apple Inc in 2021?\")",
   "id": "b91bce77c915d3b6",
   "outputs": [
    {
     "data": {
      "text/plain": [
       "'@company_name:{APPLE INC}'"
      ]
     },
     "execution_count": 57,
     "metadata": {},
     "output_type": "execute_result"
    }
   ],
   "execution_count": 57
  },
  {
   "metadata": {},
   "cell_type": "markdown",
   "source": [
    "## Putting it all together:  build your RAG logic inside a Graph\n",
    "Now that we have all the components for our RAG logic we will connect them through a graph."
   ],
   "id": "89c2fc571ea60f6c"
  },
  {
   "metadata": {
    "ExecuteTime": {
     "end_time": "2024-06-13T19:24:49.031380Z",
     "start_time": "2024-06-13T19:24:49.026087Z"
    }
   },
   "cell_type": "code",
   "source": [
    "from langchain_core.prompts import PromptTemplate\n",
    "from typing import Annotated, TypedDict, Union, Sequence, List\n",
    "from langchain.agents import create_react_agent\n",
    "from langchain_community.chat_models import ChatOllama\n",
    "\n",
    "class AgentState(TypedDict):\n",
    "    input: str\n",
    "    filters : str\n",
    "    question_relevancy: str\n",
    "    question_class: str\n",
    "    question_type: str\n",
    "    alternate_question: str\n",
    "    question_note: str\n",
    "    rewrite_num: int\n",
    "    generation: str\n",
    "    documents: List[str]\n"
   ],
   "id": "8f03f9e92f8596f6",
   "outputs": [],
   "execution_count": 58
  },
  {
   "metadata": {
    "ExecuteTime": {
     "end_time": "2024-06-13T19:24:49.042244Z",
     "start_time": "2024-06-13T19:24:49.032092Z"
    }
   },
   "cell_type": "code",
   "source": [
    "from langchain_core.documents import Document\n",
    "from typing import Literal\n",
    "from custom_ners import get_redis_filters\n",
    "from utils import *\n",
    "\n",
    "MAX_RETRY_COUNT = 2\n",
    "MAX_TOKEN_LIMIT = 1000 #char\n",
    "TOP_DOC_LIMIT = 2 \n",
    "\n",
    "\n",
    "### Edges\n",
    "def check_retrieval_relevancy(state) -> Literal[\"generate\", \"rewrite\"]:\n",
    "    \"\"\"\n",
    "    Determines whether the retrieved documents are relevant to the question or not.\n",
    "\n",
    "    Args:\n",
    "        state (messages): The current state\n",
    "\n",
    "    Returns:\n",
    "        str: A decision for whether the documents are relevant or not\n",
    "    \"\"\"\n",
    "\n",
    "    \n",
    "    input = state[\"input\"]\n",
    "    documents = state[\"documents\"]\n",
    "    retries = state[\"rewrite_num\"]\n",
    "    \n",
    "    # Score each doc\n",
    "    filtered_docs = []\n",
    "    for d in documents:\n",
    "        score = my_retrieval_grader.invoke({\"input\": input, \"document\": d})\n",
    "        grade = score[\"score\"]\n",
    "        if grade == \"yes\":\n",
    "            print(\"---GRADE: DOCUMENT RELEVANT---\")\n",
    "            filtered_docs.append(d)\n",
    "        else:\n",
    "            print(\"---GRADE: DOCUMENT NOT RELEVANT---\")\n",
    "            continue\n",
    "    \n",
    "    if len(documents) - len(filtered_docs) > 2 :\n",
    "        return \"generate\"\n",
    "    elif retries < MAX_RETRY_COUNT:\n",
    "        return \"rewrite\"\n",
    "    elif retries >= MAX_RETRY_COUNT:\n",
    "        return \"generate\"\n",
    "    \n",
    "### Edges\n",
    "def check_question_relevancy(state) -> Literal[\"generate\", \"retrieve\"]:\n",
    "    \"\"\"\n",
    "    Determines whether the asked question is relevant to our domain and if retrieved documents are relevant to the question.\n",
    "\n",
    "    Args:\n",
    "        state (messages): The current state\n",
    "\n",
    "    Returns:\n",
    "        str: A decision for whether the documents are relevant or not\n",
    "    \"\"\"\n",
    "\n",
    "    \n",
    "    question_relevancy = state[\"question_relevancy\"]\n",
    "    if question_relevancy == 'not_relevant':\n",
    "        return \"generate\"\n",
    "    else:\n",
    "        return \"retrieve\"\n",
    "\n",
    "### Nodes\n",
    "\n",
    "def query_understanding(state):\n",
    "    \"\"\"\n",
    "    Analyzes the input query for better retrieval.\n",
    "\n",
    "    Args:\n",
    "        state (messages): The current state\n",
    "\n",
    "    Returns:\n",
    "        dict: The updated state with the result of query analysis\n",
    "    \"\"\"\n",
    "\n",
    "    print(\"--- QUERY Analysis ---\")\n",
    "    def combine_filters(inferred_filters, doc_type_filter=\"10K\", filter_strategy=\"AND\"):\n",
    "        if inferred_filters is None:\n",
    "            return \"@doc_type:{\"+f\"{doc_type_filter}\"+\"}\"\n",
    "        else:\n",
    "            return \"@doc_type:{\"+f\"{doc_type_filter}\"+\"} \" + filter_strategy +f\" ({inferred_filters})\"\n",
    "            \n",
    "        \n",
    "    question = state[\"input\"]\n",
    "    rewrite_num = state[\"rewrite_num\"]\n",
    "    if rewrite_num is None:\n",
    "        rewrite_num = 1\n",
    "    else:\n",
    "        rewrite_num = int(state[\"rewrite_num\"]) + 1\n",
    "    \n",
    "    q_filters = custom_redis_query_translator(question)\n",
    "    question_analysis = my_question_analyzer.invoke({\"question\": question})\n",
    "    print(f\"---QUERY rewrite---question_analysis={question_analysis}\")\n",
    "    question_class = question_analysis[\"question_class\"]\n",
    "    \n",
    "    if question_class != \"None\":\n",
    "        print(f\"---Question Class: Question is Related to {question_class}---\")\n",
    "        applied_filters = combine_filters(q_filters, doc_type_filter=question_class)\n",
    "    else:\n",
    "        applied_filters = combine_filters(q_filters)\n",
    "        \n",
    "    new_question = question_analysis[\"new_question\"]   \n",
    "    \n",
    "    if new_question != \"None\":\n",
    "        print(f\"---Question Analysis: alternate_question is {new_question}---\")\n",
    "        alternate_question = new_question\n",
    "    else:\n",
    "        alternate_question = None\n",
    "    \n",
    "    question_note = None    \n",
    "    if question_analysis.get('note') is not None:\n",
    "        question_note = question_analysis['note']\n",
    "        \n",
    "        \n",
    "    return {\"filters\": applied_filters, \n",
    "            \"question_class\": question_class, \n",
    "            \"question_type\": question_analysis[\"question_type\"],\n",
    "            \"question_relevancy\": question_analysis[\"question_relevancy\"],\n",
    "            \"alternate_question\": alternate_question,\n",
    "            \"question_note\": question_note,\n",
    "            \"rewrite_num\": rewrite_num\n",
    "            }\n",
    "\n",
    "from langchain.schema import Document\n",
    "\n",
    "def redis_retriever(state):\n",
    "    \"\"\"\n",
    "    Retrieve documents from Redis.\n",
    "\n",
    "    Args:\n",
    "        state (dict): The current graph state\n",
    "\n",
    "    Returns:\n",
    "        state (dict): New key added to state, documents, that contains retrieved documents\n",
    "    \"\"\"\n",
    "    print(\"---RETRIEVE FROM REDIS---\")\n",
    "    input = state[\"input\"]\n",
    "    alternate_question = state[\"alternate_question\"]\n",
    "    retries = state[\"rewrite_num\"]\n",
    "    filters = state[\"filters\"]\n",
    "    query = input\n",
    "    print(f\"\\t---RETRIEVE FROM REDIS= query={input} alternate_question={alternate_question}- retries={retries}\")\n",
    "    if alternate_question is not None and retries > 1:\n",
    "        query = alternate_question    \n",
    "     \n",
    "    if filters is None:\n",
    "        documents = rds.similarity_search(query=query, k=4, distance_threshold=0.8)\n",
    "    else:\n",
    "        documents = rds.similarity_search(query=query, k=4, distance_threshold=0.8, filter=filters)\n",
    "        \n",
    "    return {\"documents\": documents}\n",
    "\n",
    "    \n",
    "def generate(state):\n",
    "    \"\"\"\n",
    "    Generate answer\n",
    "\n",
    "    Args:\n",
    "        state (messages): The current state\n",
    "\n",
    "    Returns:\n",
    "         dict: The updated state with re-phrased question\n",
    "    \"\"\"\n",
    "    \n",
    "    print(\"---GENERATE---\")\n",
    "    final_docs = state[\"documents\"]\n",
    "    final_question = state[\"input\"]\n",
    "    question_relevancy = state[\"question_relevancy\"]\n",
    "    note = None\n",
    "    if state.get('note') is None:\n",
    "        note =state[\"question_note\"]\n",
    "    \n",
    "    final_context = \"\"\n",
    "    if question_relevancy == \"not_relevant\":\n",
    "        final_context = f\"Your question does not seem to be relevant to finance. Please only ask questions that are relevant to financials of companies that are usually reported in 10K or earning calls.\"\n",
    "        if note is not None:\n",
    "            final_context = final_context + f\"\\n\\n{note}\"\n",
    "    elif question_relevancy == \"relevant\" and final_docs is not None and len(final_docs) > 0:\n",
    "        final_context = str(\"\\n\".join(format_docs(final_docs[:TOP_DOC_LIMIT])))[:MAX_TOKEN_LIMIT]\n",
    "       \n",
    "    print(f\"DEBUG:GENERATE === question={final_question}\")\n",
    "    print(f\"DEBUG:GENERATE === context={final_context}\")\n",
    "    \n",
    "    # Run Gen LLM\n",
    "    generated_answer = my_gen_rag_chain.invoke({\"context\": final_context, \"question\": final_question})\n",
    "    \n",
    "    print(f\"RFD-DEBUG:GENERATE=== generation={generated_answer}\")\n",
    "    return {\"messages\": [generated_answer], \"generation\": generated_answer}"
   ],
   "id": "993ba7ced09fdc22",
   "outputs": [],
   "execution_count": 59
  },
  {
   "metadata": {
    "ExecuteTime": {
     "end_time": "2024-06-13T19:24:49.127480Z",
     "start_time": "2024-06-13T19:24:49.042899Z"
    }
   },
   "cell_type": "code",
   "source": [
    "from langgraph.graph import END, StateGraph\n",
    "\n",
    "workflow = StateGraph(AgentState)\n",
    "\n",
    "workflow.add_node(\"query_understanding_node\", query_understanding)\n",
    "workflow.add_node(\"redis_retriever_node\", redis_retriever)\n",
    "workflow.add_node(\"generate_node\", generate)\n",
    "\n",
    "# Decide whether to retrieve\n",
    "workflow.add_conditional_edges(\n",
    "    \"redis_retriever_node\",\n",
    "    check_retrieval_relevancy,\n",
    "    {\n",
    "        # Translate the condition outputs to nodes in our graph\n",
    "        \"rewrite\": \"query_understanding_node\",\n",
    "        \"generate\": \"generate_node\",\n",
    "    },\n",
    ")\n",
    "\n",
    "\n",
    "workflow.add_conditional_edges(\n",
    "    \"query_understanding_node\",\n",
    "    check_question_relevancy,\n",
    "    {\n",
    "        # Translate the condition outputs to nodes in our graph\n",
    "        \"retrieve\": \"redis_retriever_node\",\n",
    "        \"generate\": \"generate_node\",\n",
    "    },\n",
    ")\n",
    "\n",
    "\n",
    "workflow.add_edge(\"generate_node\", END)\n",
    "\n",
    "workflow.set_entry_point(\"query_understanding_node\")\n",
    "\n",
    "# Compile\n",
    "graphapp = workflow.compile()\n",
    "\n",
    "from IPython.display import Image, display\n",
    "try:\n",
    "    display(Image(graphapp.get_graph(xray=True).draw_mermaid_png()))\n",
    "except:\n",
    "    pass\n"
   ],
   "id": "b2acd602638ce906",
   "outputs": [
    {
     "data": {
      "image/jpeg": "[encoded data removed]",
      "text/plain": [
       "<IPython.core.display.Image object>"
      ]
     },
     "metadata": {},
     "output_type": "display_data"
    }
   ],
   "execution_count": 60
  },
  {
   "metadata": {
    "ExecuteTime": {
     "end_time": "2024-06-13T19:25:26.554684Z",
     "start_time": "2024-06-13T19:24:49.128049Z"
    }
   },
   "cell_type": "code",
   "source": [
    "import pprint\n",
    "\n",
    "inputs = {\n",
    "    \"input\":\"What was the deferred revenue of aapl in 2022?\",\n",
    "}\n",
    "for output in graphapp.stream(inputs):\n",
    "    for key, value in output.items():\n",
    "        pprint.pprint(f\"Output from node '{key}':\")\n",
    "        pprint.pprint(\"---\")\n",
    "        pprint.pprint(value, indent=2, width=80, depth=None)\n",
    "    pprint.pprint(\"\\n---\\n\")"
   ],
   "id": "7823529303b98dfd",
   "outputs": [
    {
     "name": "stdout",
     "output_type": "stream",
     "text": [
      "--- QUERY Analysis ---\n",
      "---QUERY rewrite---question_analysis={'question_class': 'earning_call', 'new_question': \"What was Apple's revenue in 2022?\", 'question_type': 'numeric', 'question_relevancy': 'relevant'}\n",
      "---Question Class: Question is Related to earning_call---\n",
      "---Question Analysis: alternate_question is What was Apple's revenue in 2022?---\n",
      "\"Output from node 'query_understanding_node':\"\n",
      "'---'\n",
      "{ 'alternate_question': \"What was Apple's revenue in 2022?\",\n",
      "  'filters': '@doc_type:{earning_call} AND (@ticker:{AAPL})',\n",
      "  'question_class': 'earning_call',\n",
      "  'question_note': None,\n",
      "  'question_relevancy': 'relevant',\n",
      "  'question_type': 'numeric',\n",
      "  'rewrite_num': 1}\n",
      "'\\n---\\n'\n",
      "---RETRIEVE FROM REDIS---\n",
      "\t---RETRIEVE FROM REDIS= query=What was the deferred revenue of aapl in 2022? alternate_question=What was Apple's revenue in 2022?- retries=1\n",
      "---GRADE: DOCUMENT NOT RELEVANT---\n",
      "---GRADE: DOCUMENT NOT RELEVANT---\n",
      "---GRADE: DOCUMENT NOT RELEVANT---\n",
      "---GRADE: DOCUMENT NOT RELEVANT---\n",
      "\"Output from node 'redis_retriever_node':\"\n",
      "'---'\n",
      "{ 'documents': [ Document(page_content=\"Generated almost $34b in earnings in six month; bullish on Co.'s future. 12. Has best pipeline of products and services Co. ever had. 1. Has huge installed base of active devices that is growing across all products. 1. Has highest customer loyalty and satisfaction in industry. 13. Services business is growing dramatically. 14. Balance sheet and cash flow generation are strong. 1. Allows Co. to invest significantly in product roadmap and still return meaningful amount of capital to shareholders. 15. Recent corporate tax reform enables Co. to deploy global cash more efficiently. 1. In US, expects direct investment in economy to exceed $350b over next five years, including $30b in CapEx and Co. expects to create over 20,000 US jobs at AAPL over that time frame. 16. Narrowing site selection for new US campus. 2. Capital Return Program: 1. Tax reform makes it possible for Co. to execute program more efficiently through share repurchases and payment of dividend to tens of millions of investors, who own AAPL stock either directly or indirectly from large pension funds to individuals with retirement account. 2. Given strong confidence in Co.'s future, announcing significant update to capital return program. 1. Board of Directors approved a new $100b share repurchase authorization and 16% increase in quarterly dividend, effective with next dividend payable later this month.\\n\\n-------------------------------------------------------------------------------\\n\\nII. 2Q18 Financials (L.M.)\\n\\n--------------------------------------------------------------------------------\", metadata={'id': 'chunk:2018-May-01-AAPL.txt-2df5e97c-bc89-4d0a-8c7b-16ca66794832', 'chunk_id': '2018-May-01-AAPL.txt-2df5e97c-bc89-4d0a-8c7b-16ca66794832', 'source_doc': '2018-May-01-AAPL.txt', 'doc_type': 'earning_call', 'ticker': 'AAPL', 'company_name': 'APPLE INC', 'sector': 'Information Technology', 'asset_class': 'Equity', 'location': 'United States', 'exchange': 'NASDAQ', 'currency': 'USD', 'market_value': '559365151.11', 'weight': '5.16', 'notional_value': '559365151.11', 'shares': '4305127', 'price': '129.93'}),\n",
      "                 Document(page_content=\"1. Overview: 1. Revenue $58.3b. 1. All-time record for Services. 2. Quarterly record for Wearables, Home and Accessories. 3. Quarterly revenue record for Retail, powered by growth in online store. 2. Amid the most challenging global environment in which Co. has ever operated its business, AAPL grew during qtr. 2. COVID-19 Response: 1. Contending with COVID-19 since Jan. 2. Before COVID-19 was on the horizon, Co. anticipated that 2Q20 was going to be prolific and energetic period for AAPL. 1. When pandemic did strike, teams succeeded in growing the business in introducing powerful new products and in meeting customers' needs, and they rose to the occasion in terms of meeting broader obligations to communities. 3. At the same time that they were leaving no stone unturned to get Co.'s latest generation of devices manufactured and into customers' hands, worldwide network of supply chain partners, logistics and operations folks in every part of AAPL were also sourcing more than 30m masks for frontline medical workers, ensuring they're donated to places of greatest need in every region worldwide. 4. While product teams were preparing to launch new iPad Pro, Magic Keyboard, MacBook Air and new iPhone SE, they were also working with suppliers to design, test, manufacture and distribute more than 7.5m face shields. 1. Continues to ship more than 1m of these every week to doctors, nurses and medical personnel on frontlines. 5. In a qtr.\", metadata={'id': 'chunk:2020-Apr-30-AAPL.txt-8a38a4b3-0a93-476d-a9ed-ee3c6875983a', 'chunk_id': '2020-Apr-30-AAPL.txt-8a38a4b3-0a93-476d-a9ed-ee3c6875983a', 'source_doc': '2020-Apr-30-AAPL.txt', 'doc_type': 'earning_call', 'ticker': 'AAPL', 'company_name': 'APPLE INC', 'sector': 'Information Technology', 'asset_class': 'Equity', 'location': 'United States', 'exchange': 'NASDAQ', 'currency': 'USD', 'market_value': '559365151.11', 'weight': '5.16', 'notional_value': '559365151.11', 'shares': '4305127', 'price': '129.93'}),\n",
      "                 Document(page_content='1Q17-end cash plus marketable securities $246.1b, sequential increase of $8.5b. 1. $230.2b of this cash or 94% of total was outside US. 2. Had $77.1b in term debt and $10.5b in commercial paper outstanding at qtr.-end. 3. Returned almost $15b to investors for capital return activities. 1. Paid $3.1b in dividends and equivalents. 2. Spent $5b on repurchases of 44.3m AAPL shares through open market transactions. 3. Launched new $6b ASR, resulting in initial delivery and retirement of 44.8m shares. 4. Completed eighth accelerated share repurchase program, retiring additional 4.4m shares. 5. This led to net diluted share count reduction of 65.3m shares. 4. Now completed $201b of current $250b capital return program, including $144b in share repurchases. 5. Effective tax rate 26%, as expected. 7. March Qtr. Outlook: 1. Revenue $51.5-53.5b. 1. Includes $1.2b YoverY headwind from FX. 2. GM 38-39%. 1. Includes 80 BP sequential headwind from FX. 3. OpEx $6.5-6.6b. 4. OI&E about $400m. 5. Tax rate about 26%. 8. Others: 1. On 01/31/17, Board of Directors has declared cash dividend of $0.57 per share of common stock, payable on 02/16/17 to shareholders of record as of 02/13/17.\\n\\n================================================================================ QUESTIONS AND ANSWERS ================================================================================ -------------------------------------------------------------------------------- Operator    [1] --------------------------------------------------------------------------------\\n\\n<Sync id=\"L147\"/>(Operator Instructions) <Sync id=\"L148\"/>Katy Huberty, Morgan Stanley.\\n\\n-------------------------------------------------------------------------------- Katy Huberty,  Morgan Stanley - Analyst    [2] --------------------------------------------------------------------------------\\n\\n<Sync id=\"L149\"/>Yes, thank you. <Sync id=\"L150\"/>First, Luca, what are the factors that caused you to widen the gross margin guidance for the March quarter, and what are the one or two factors that put you at the low end versus the tailwinds that might put you at the high end of that range? <Sync id=\"L151\"/>Then I have a follow-up, thank you.\\n\\n-------------------------------------------------------------------------------- Luca Maestri,  Apple Inc. - CFO    [3] --------------------------------------------------------------------------------', metadata={'id': 'chunk:2017-Jan-31-AAPL.txt-fbfeb00b-ba58-44d4-916b-ae148177aaaa', 'chunk_id': '2017-Jan-31-AAPL.txt-fbfeb00b-ba58-44d4-916b-ae148177aaaa', 'source_doc': '2017-Jan-31-AAPL.txt', 'doc_type': 'earning_call', 'ticker': 'AAPL', 'company_name': 'APPLE INC', 'sector': 'Information Technology', 'asset_class': 'Equity', 'location': 'United States', 'exchange': 'NASDAQ', 'currency': 'USD', 'market_value': '559365151.11', 'weight': '5.16', 'notional_value': '559365151.11', 'shares': '4305127', 'price': '129.93'}),\n",
      "                 Document(page_content='II. 3Q19 Financials (L.M.)\\n\\n--------------------------------------------------------------------------------\\n\\n1. Highlights: 1. Revenue $53.8b; record. 1. Up 1% YoverY. 2. Returned to growth despite difficult FX environment worldwide, which impacted YoverY growth rate by 300 BP. 3. Set June qtr. revenue records in Americas, Japan, and Rest of Asia Pacific. 1. All geographic segments grew in constant-currency. 4. Overall products revenue $42.4b, down 2% YoverY. 1. Significantly better than 8% decline in product revenue experienced during 1H19. 5. Product categories outside of iPhone grew 20%, with strong results in: 1. Wearables. 2. Mac. 3. iPad. 6. Services $11.5b; new all-time record. 1. Grew 13%. 2. Excluding one-time item Co. highlighted a year ago in connection with final resolution of various lawsuits, Services revenue growth was 15% and 18% in constant-currency terms. 7. Geographically: 1. Saw marked improvement in YoverY comparisons from emerging markets relative to 1H19, particularly in BRIC countries, where YoverY performance went from 25% revenue decline in 1H to 3% growth in 3Q19. 2. Set June qtr. revenue records in several major developed markets, including: 1. US. 2. Canada. 3. Germany. 4. France. 5. Japan. 6. Australia. 7. Korea. 3. In emerging markets: 1. Returned to growth in Mainland China. 2. Grew strong double-digits in India and Brazil. 3. Set new 3Q records in Thailand, Vietnam and Philippines. 8. GM 37.6%, flat sequentially and in line with guidance. 1.', metadata={'id': 'chunk:2019-Jul-30-AAPL.txt-2db09bf1-0d47-4b01-95d2-ad23fe9ec364', 'chunk_id': '2019-Jul-30-AAPL.txt-2db09bf1-0d47-4b01-95d2-ad23fe9ec364', 'source_doc': '2019-Jul-30-AAPL.txt', 'doc_type': 'earning_call', 'ticker': 'AAPL', 'company_name': 'APPLE INC', 'sector': 'Information Technology', 'asset_class': 'Equity', 'location': 'United States', 'exchange': 'NASDAQ', 'currency': 'USD', 'market_value': '559365151.11', 'weight': '5.16', 'notional_value': '559365151.11', 'shares': '4305127', 'price': '129.93'})]}\n",
      "'\\n---\\n'\n",
      "---GENERATE---\n",
      "DEBUG:GENERATE === question=What was the deferred revenue of aapl in 2022?\n",
      "DEBUG:GENERATE === context=Generated almost $34b in earnings in six month; bullish on Co.'s future. 12. Has best pipeline of products and services Co. ever had. 1. Has huge installed base of active devices that is growing across all products. 1. Has highest customer loyalty and satisfaction in industry. 13. Services business is growing dramatically. 14. Balance sheet and cash flow generation are strong. 1. Allows Co. to invest significantly in product roadmap and still return meaningful amount of capital to shareholders. 15. Recent corporate tax reform enables Co. to deploy global cash more efficiently. 1. In US, expects direct investment in economy to exceed $350b over next five years, including $30b in CapEx and Co. expects to create over 20,000 US jobs at AAPL over that time frame. 16. Narrowing site selection for new US campus. 2. Capital Return Program: 1. Tax reform makes it possible for Co. to execute program more efficiently through share repurchases and payment of dividend to tens of millions of investo\n",
      "RFD-DEBUG:GENERATE=== generation=I don't know the deferred revenue of AAPL in 2022 based on the provided context. The context only mentions earnings, pipeline of products, installed base, customer loyalty, services business, balance sheet, cash flow generation, and capital return program, but does not provide information about deferred revenue.\n",
      "\"Output from node 'generate_node':\"\n",
      "'---'\n",
      "{ 'generation': \"I don't know the deferred revenue of AAPL in 2022 based on \"\n",
      "                'the provided context. The context only mentions earnings, '\n",
      "                'pipeline of products, installed base, customer loyalty, '\n",
      "                'services business, balance sheet, cash flow generation, and '\n",
      "                'capital return program, but does not provide information '\n",
      "                'about deferred revenue.'}\n",
      "'\\n---\\n'\n"
     ]
    }
   ],
   "execution_count": 61
  },
  {
   "metadata": {
    "ExecuteTime": {
     "end_time": "2024-06-13T19:26:03.063214Z",
     "start_time": "2024-06-13T19:25:26.556711Z"
    }
   },
   "cell_type": "code",
   "source": [
    "import pprint\n",
    "\n",
    "inputs2 = {\n",
    "    \"input\":\"Why colorless green ideas are furiously sleeping?\"\n",
    "}\n",
    "\n",
    "for output2 in graphapp.stream(inputs2):\n",
    "    for key2, value2 in output2.items():\n",
    "        pprint.pprint(f\"Output from node '{key2}':\")\n",
    "        pprint.pprint(\"---\")\n",
    "        pprint.pprint(value2, indent=2, width=80, depth=None)\n",
    "    pprint.pprint(\"\\n---\\n\")"
   ],
   "id": "34f4fb3c09949739",
   "outputs": [
    {
     "name": "stdout",
     "output_type": "stream",
     "text": [
      "--- QUERY Analysis ---\n",
      "---QUERY rewrite---question_analysis={'question_class': 'earning_call', 'new_question': \"What was Apple's revenue in 2022?\", 'question_type': 'numeric', 'question_relevancy': 'relevant'}\n",
      "---Question Class: Question is Related to earning_call---\n",
      "---Question Analysis: alternate_question is What was Apple's revenue in 2022?---\n",
      "\"Output from node 'query_understanding_node':\"\n",
      "'---'\n",
      "{ 'alternate_question': \"What was Apple's revenue in 2022?\",\n",
      "  'filters': '@doc_type:{earning_call}',\n",
      "  'question_class': 'earning_call',\n",
      "  'question_note': None,\n",
      "  'question_relevancy': 'relevant',\n",
      "  'question_type': 'numeric',\n",
      "  'rewrite_num': 1}\n",
      "'\\n---\\n'\n",
      "---RETRIEVE FROM REDIS---\n",
      "\t---RETRIEVE FROM REDIS= query=Why colorless green ideas are furiously sleeping? alternate_question=What was Apple's revenue in 2022?- retries=1\n",
      "---GRADE: DOCUMENT NOT RELEVANT---\n",
      "---GRADE: DOCUMENT NOT RELEVANT---\n",
      "---GRADE: DOCUMENT NOT RELEVANT---\n",
      "---GRADE: DOCUMENT NOT RELEVANT---\n",
      "\"Output from node 'redis_retriever_node':\"\n",
      "'---'\n",
      "{ 'documents': [ Document(page_content='-------------------------------------------------------------------------------- Timothy D. Cook,  Apple Inc. - CEO and Director    [25] --------------------------------------------------------------------------------\\n\\n<Sync id=\"L337\"time=\"00:49:54\"/>A lot of questions there. <Sync id=\"L338\"time=\"00:49:59\"/>Let me give you some color as I see it. <Sync id=\"L339\"time=\"00:50:06\"/>In this quarter, we reduced channel inventory by 1.2 million units. <Sync id=\"L340\"time=\"00:50:12\"/>And so if you look on a year-over-year basis, which is primarily what we look at from a unit point of view because it would have the seasonality embedded in that, we grew sell-through on a year-over-year basis. <Sync id=\"L341\"time=\"00:50:33\"/>Last quarter, I\\'m sure other folks remember, was a 14-week quarter, and so you sort of have to adjust the rates last quarter to get at what the underlying sell-through growth was. <Sync id=\"L342\"time=\"00:50:52\"/>And so I think that when you do that, you\\'re going to find that, actually, the year-over-year performance is similar between the quarters. <Sync id=\"L343\"time=\"00:51:04\"/>In terms of upgraders, we saw the largest absolute number of upgraders ever in any 6-month period in the first half of this year, first half of this fiscal year to be precise. <Sync id=\"L344\"time=\"00:51:22\"/>And we saw the largest absolute number of switchers outside of Greater China in the same period that we\\'ve ever seen. <Sync id=\"L345\"time=\"00:51:33\"/>And so in 4 of the 5 operating segments, as I think Luca mentioned in his comments, we had very good growth, and it was really propelled by the demand for iPhone 7 Plus, which is growing incredibly fast around the world.\\n\\n<Sync id=\"L346\"time=\"00:51:59\"/>And so that\\'s kind of the color I would add there, and hopefully, some of that are -- is useful for you.\\n\\n-------------------------------------------------------------------------------- Operator    [26] --------------------------------------------------------------------------------\\n\\n<Sync id=\"L347\"time=\"00:52:12\"/>We\\'ll go to Simona Jankowski with Goldman Sachs.\\n\\n-------------------------------------------------------------------------------- Simona Kiritsov Jankowski,  Goldman Sachs Group Inc., Research Division - MD and Senior Equity Research Analyst    [27] --------------------------------------------------------------------------------', metadata={'id': 'chunk:2017-May-02-AAPL.txt-76b17287-cbd6-4bea-9cdf-e2634f9d51f0', 'chunk_id': '2017-May-02-AAPL.txt-76b17287-cbd6-4bea-9cdf-e2634f9d51f0', 'source_doc': '2017-May-02-AAPL.txt', 'doc_type': 'earning_call', 'ticker': 'AAPL', 'company_name': 'APPLE INC', 'sector': 'Information Technology', 'asset_class': 'Equity', 'location': 'United States', 'exchange': 'NASDAQ', 'currency': 'USD', 'market_value': '559365151.11', 'weight': '5.16', 'notional_value': '559365151.11', 'shares': '4305127', 'price': '129.93'}),\n",
      "                 Document(page_content=\"-------------------------------------------------------------------------------- Tim Cook,  Apple Inc. - CEO    [12] -------------------------------------------------------------------------------- There's clearly some amount of R&D that are on products that today are in the development phase that have not reached the market. And so, that's a part of it. We feel really great about the things that we've got. We've also put a lot of emphasis on our services business as well and on making the ecosystem even better. And so, we're very much -- we're confidently investing in the future, and that's the reason you see the R&D spend increasing.\\n\\n-------------------------------------------------------------------------------- Katy Huberty,  Morgan Stanley - Analyst    [13] -------------------------------------------------------------------------------- Thank you.\\n\\n-------------------------------------------------------------------------------- Nancy Paxton,  Apple Inc. - Senior Director of IR    [14] -------------------------------------------------------------------------------- Thank you, Katy. Could we have the next question, please.\\n\\n-------------------------------------------------------------------------------- Operator    [15] -------------------------------------------------------------------------------- From Cross Research, Shannon Cross.\\n\\n-------------------------------------------------------------------------------- Shannon Cross,  Cross Research - Analyst    [16] -------------------------------------------------------------------------------- Thank you very much. A couple of questions. The first, Tim, can you talk a bit more about China? Just how you're thinking about it? Where you're seeing pressure? I know you mentioned that you expect to see a significant rebound during the first quarter. But, what are your customers telling you about the demand in China?\", metadata={'id': 'chunk:2016-Oct-25-AAPL.txt-dde47cd5-a8bc-48f0-b6c4-85f4c04f3a06', 'chunk_id': '2016-Oct-25-AAPL.txt-dde47cd5-a8bc-48f0-b6c4-85f4c04f3a06', 'source_doc': '2016-Oct-25-AAPL.txt', 'doc_type': 'earning_call', 'ticker': 'AAPL', 'company_name': 'APPLE INC', 'sector': 'Information Technology', 'asset_class': 'Equity', 'location': 'United States', 'exchange': 'NASDAQ', 'currency': 'USD', 'market_value': '559365151.11', 'weight': '5.16', 'notional_value': '559365151.11', 'shares': '4305127', 'price': '129.93'}),\n",
      "                 Document(page_content=\"Before I turn the call over to Luca, I'd like to touch on 2 items that may not show up in our financial statement but are just as integral to Apple's mission and our commitment to making the world a better place. First, education. More than 5,000 schools, community colleges and technical colleges worldwide are now using Everyone Can Code, our free coding curriculum. Ideas, creativity and passion for technology's potential aren't limited by ZIP code or country, and we don't think opportunity should be either. We're also excited that educators in more than 350 schools around the world have started working with Everyone Can Create, the free collection of tools and project guides we introduced this spring designed to help unleash kids' creativity throughout their school day with the help of iPad. Next is the environment. This was a milestone year for Apple's commitment to our planet. In April, we announced that 100% of our global operations are powered by renewable energy. We also made progress in doing the same in our supply chain. And just this week, we announced that the enclosures of new products like MacBook Air and iPad Pro will be made from 100% recycled aluminum, a strong, durable and beautiful new alloy designed by Apple. This is a great example of how a commitment to do right on the issues that matter can drive once unimaginable innovation, new ways of approaching old problems and beautiful solutions that set us apart.\\n\\nI'd like to thank all of our employees, customers, developers and business partners for helping us deliver outstanding results across our fiscal 2018. We are headed into the holidays with our strongest product lineup ever, and we could not be more bullish about Apple's future. And now Luca has more details to share with you on the September quarter. Luca?\\n\\n-------------------------------------------------------------------------------- Luca Maestri,  Apple Inc. - CFO & Senior VP    [4] --------------------------------------------------------------------------------\", metadata={'id': 'chunk:2018-Nov-01-AAPL.txt-079cc5cb-17d9-4452-a21a-f9b4d89e42f2', 'chunk_id': '2018-Nov-01-AAPL.txt-079cc5cb-17d9-4452-a21a-f9b4d89e42f2', 'source_doc': '2018-Nov-01-AAPL.txt', 'doc_type': 'earning_call', 'ticker': 'AAPL', 'company_name': 'APPLE INC', 'sector': 'Information Technology', 'asset_class': 'Equity', 'location': 'United States', 'exchange': 'NASDAQ', 'currency': 'USD', 'market_value': '559365151.11', 'weight': '5.16', 'notional_value': '559365151.11', 'shares': '4305127', 'price': '129.93'}),\n",
      "                 Document(page_content=\"More than 22m viewers tuned in across all of Co.'s streams. 4. For developers, distributed more than 72 hours of video content; three full days of video. 5. Week saw more than 200 direct-to-video engineering and design sessions and about 4,500 person-to-person appointments with developers across 227 virtual labs. 6. This year's announcements: 1. iOS 14, which boasts radical redesign to home screen, powerful updates to messages, streamlined and effortless app clips and even greater privacy transparency and controls. 2. Major updates to Apple Pencil, Siri [and calling] iPadOS 14. 3. Much anticipated sleep tracking, new fitness and wellness features and unprecedented customization in watchOS 7. 4. New macOS Big Sur, boasting biggest redesign upgrade to macOS since OS X. 7. No less important for Co.'s innovation road map is transition to AAPL silicon for Mac. 1. This two-year effort will achieve unprecedented performance for Mac and common architecture across all AAPL products. 4. Outlook: 1. Profoundly optimistic about future. 2. Recognizes that with this success comes some real responsibility to lead with values because those values help make that success possible in the first place. 3. Will be fully carbon-neutral by 2030 across entire supply chain and including energy use of every device Co. makes as it is of any hardware innovation. 4. Committed to standing with those marching for lives and dignity through new $100m commitment to Co.'s Racial Equity and Justice Initiative.\\n\\n1. Deepening diversity and inclusion efforts internally. 1. Future as a business is inextricably linked with future of communities.\\n\\n-------------------------------------------------------------------------------\\n\\nII. 3Q20 Financials (L.M.)\\n\\n--------------------------------------------------------------------------------\", metadata={'id': 'chunk:2020-Jul-30-AAPL.txt-06f52d1f-6ef5-4ba7-a82f-dd2fe94643cc', 'chunk_id': '2020-Jul-30-AAPL.txt-06f52d1f-6ef5-4ba7-a82f-dd2fe94643cc', 'source_doc': '2020-Jul-30-AAPL.txt', 'doc_type': 'earning_call', 'ticker': 'AAPL', 'company_name': 'APPLE INC', 'sector': 'Information Technology', 'asset_class': 'Equity', 'location': 'United States', 'exchange': 'NASDAQ', 'currency': 'USD', 'market_value': '559365151.11', 'weight': '5.16', 'notional_value': '559365151.11', 'shares': '4305127', 'price': '129.93'})]}\n",
      "'\\n---\\n'\n",
      "---GENERATE---\n",
      "DEBUG:GENERATE === question=Why colorless green ideas are furiously sleeping?\n",
      "DEBUG:GENERATE === context=-------------------------------------------------------------------------------- Timothy D. Cook,  Apple Inc. - CEO and Director    [25] --------------------------------------------------------------------------------  <Sync id=\"L337\"time=\"00:49:54\"/>A lot of questions there. <Sync id=\"L338\"time=\"00:49:59\"/>Let me give you some color as I see it. <Sync id=\"L339\"time=\"00:50:06\"/>In this quarter, we reduced channel inventory by 1.2 million units. <Sync id=\"L340\"time=\"00:50:12\"/>And so if you look on a year-over-year basis, which is primarily what we look at from a unit point of view because it would have the seasonality embedded in that, we grew sell-through on a year-over-year basis. <Sync id=\"L341\"time=\"00:50:33\"/>Last quarter, I'm sure other folks remember, was a 14-week quarter, and so you sort of have to adjust the rates last quarter to get at what the underlying sell-through growth was. <Sync id=\"L342\"time=\"00:50:52\"/>And so I think that when you do that, you're going to find that,\n",
      "RFD-DEBUG:GENERATE=== generation=I don't know why colorless green ideas are furiously sleeping. The provided context appears to be a transcript of a CEO's speech about Apple Inc.'s quarterly performance and doesn't seem related to the question about colorless green ideas.\n",
      "\"Output from node 'generate_node':\"\n",
      "'---'\n",
      "{ 'generation': \"I don't know why colorless green ideas are furiously \"\n",
      "                'sleeping. The provided context appears to be a transcript of '\n",
      "                \"a CEO's speech about Apple Inc.'s quarterly performance and \"\n",
      "                \"doesn't seem related to the question about colorless green \"\n",
      "                'ideas.'}\n",
      "'\\n---\\n'\n"
     ]
    }
   ],
   "execution_count": 62
  },
  {
   "metadata": {},
   "cell_type": "markdown",
   "source": "![furiously_sleeping](chomsky.png)",
   "id": "a3d85443ffb20f9"
  },
  {
   "metadata": {
    "ExecuteTime": {
     "end_time": "2024-06-13T19:26:36.821679Z",
     "start_time": "2024-06-13T19:26:03.065794Z"
    }
   },
   "cell_type": "code",
   "source": [
    "inputs2 = {\n",
    "    \"input\":\"What was the summary of aapl financial data presented in july 2020 earning calls?\"\n",
    "}\n",
    "\n",
    "for output2 in graphapp.stream(inputs2):\n",
    "    for key2, value2 in output2.items():\n",
    "        pprint.pprint(f\"Output from node '{key2}':\")\n",
    "        pprint.pprint(\"---\")\n",
    "        pprint.pprint(value2, indent=2, width=80, depth=None)\n",
    "    pprint.pprint(\"\\n---\\n\")"
   ],
   "id": "aa74afdcc4245394",
   "outputs": [
    {
     "name": "stdout",
     "output_type": "stream",
     "text": [
      "--- QUERY Analysis ---\n",
      "---QUERY rewrite---question_analysis={'question_class': 'earning_call', 'new_question': \"What was Apple's revenue in 2022?\", 'question_type': 'numeric', 'question_relevancy': 'relevant'}\n",
      "---Question Class: Question is Related to earning_call---\n",
      "---Question Analysis: alternate_question is What was Apple's revenue in 2022?---\n",
      "\"Output from node 'query_understanding_node':\"\n",
      "'---'\n",
      "{ 'alternate_question': \"What was Apple's revenue in 2022?\",\n",
      "  'filters': '@doc_type:{earning_call} AND (@ticker:{AAPL})',\n",
      "  'question_class': 'earning_call',\n",
      "  'question_note': None,\n",
      "  'question_relevancy': 'relevant',\n",
      "  'question_type': 'numeric',\n",
      "  'rewrite_num': 1}\n",
      "'\\n---\\n'\n",
      "---RETRIEVE FROM REDIS---\n",
      "\t---RETRIEVE FROM REDIS= query=What was the summary of aapl financial data presented in july 2020 earning calls? alternate_question=What was Apple's revenue in 2022?- retries=1\n",
      "---GRADE: DOCUMENT NOT RELEVANT---\n",
      "---GRADE: DOCUMENT NOT RELEVANT---\n",
      "---GRADE: DOCUMENT NOT RELEVANT---\n",
      "---GRADE: DOCUMENT NOT RELEVANT---\n",
      "\"Output from node 'redis_retriever_node':\"\n",
      "'---'\n",
      "{ 'documents': [ Document(page_content='Thank you, Tim. Good afternoon, everyone. We are extremely pleased to report record results for our September quarter, which capped a tremendously successful fiscal 2018, a year in which we saw double-digit revenue growth in every geographic segment and established new revenue and earnings records in every single quarter. Revenue in the fourth quarter was $62.9 billion, up 20% and more than $10 billion over last year with strong double-digit growth in each of our geographic segments and record Q4 revenue in the Americas, in Europe, Japan and rest of Asia Pacific. In fact, we set new revenue records in almost every market we track with especially strong growth in Germany, Italy, Sweden, Switzerland, Japan and Korea, all major markets where revenue growth was 25% or higher. We also set new fourth quarter revenue records for iPhone and Wearables and new all-time records for Services and Mac. Gross margin was 38.3%, flat sequentially in line with our expectations as leverage from higher revenue offset seasonal transition costs. We set new September quarter records for net income, EPS and cash flow from operations. Net income was $14.1 billion, up $3.4 billion or 32% over last year. Diluted earnings per share were $2.91, up 41%. Cash flow from operations was $19.5 billion, up $3.8 billion from a year ago. iPhone revenue grew 29% with growth of more than 20% in every geographic segment.', metadata={'id': 'chunk:2018-Nov-01-AAPL.txt-add25cb8-a7db-49fb-a94f-06a5b374fcb1', 'chunk_id': '2018-Nov-01-AAPL.txt-add25cb8-a7db-49fb-a94f-06a5b374fcb1', 'source_doc': '2018-Nov-01-AAPL.txt', 'doc_type': 'earning_call', 'ticker': 'AAPL', 'company_name': 'APPLE INC', 'sector': 'Information Technology', 'asset_class': 'Equity', 'location': 'United States', 'exchange': 'NASDAQ', 'currency': 'USD', 'market_value': '559365151.11', 'weight': '5.16', 'notional_value': '559365151.11', 'shares': '4305127', 'price': '129.93'}),\n",
      "                 Document(page_content=\"Thank you, Nancy. Good afternoon, everyone, and thanks for joining us. I just got back from Brooklyn, where we marked our fourth major launch at the end of the year. In addition to being a great time, it put an exclamation point at the end of a remarkable fiscal 2018. This year, we shipped our 2 billionth iOS device, celebrated the 10th anniversary of the App Store and achieved the strongest revenue and earnings in Apple's history. In fiscal year '18, our revenue grew by $36.4 billion. That's the equivalent of a Fortune 100 company in a single year. And we're capping all that off with our best September quarter ever. Revenue was $62.9 billion, ahead of our expectations. That's an increase of 20% over last year and our highest growth rate in 3 years. We also generated record Q4 earnings with 41% year-over-year growth in EPS. Record results from iPhone, Services and Wearables drove our momentum, and we produced strong double-digit revenue growth in all of our geographic segments. It was a big year and a big quarter for iPhone. Q4 revenue was up 29% over last year, an increase of over $8 billion to a new September quarter record, fueled by continued momentum for iPhone 8, 8 Plus and X and the very successful launch of iPhone Xs and iPhone Xs Max. These latest devices are our most advanced iPhones ever with the industry's first 7-nanometer A12 Bionic chip with an Apple-designed 8-core Neural Engine capable of executing an astounding 5 trillion operations per second.\", metadata={'id': 'chunk:2018-Nov-01-AAPL.txt-4fb9f18c-877a-4ba0-99c6-7bb6721d3872', 'chunk_id': '2018-Nov-01-AAPL.txt-4fb9f18c-877a-4ba0-99c6-7bb6721d3872', 'source_doc': '2018-Nov-01-AAPL.txt', 'doc_type': 'earning_call', 'ticker': 'AAPL', 'company_name': 'APPLE INC', 'sector': 'Information Technology', 'asset_class': 'Equity', 'location': 'United States', 'exchange': 'NASDAQ', 'currency': 'USD', 'market_value': '559365151.11', 'weight': '5.16', 'notional_value': '559365151.11', 'shares': '4305127', 'price': '129.93'}),\n",
      "                 Document(page_content=\"Generated almost $34b in earnings in six month; bullish on Co.'s future. 12. Has best pipeline of products and services Co. ever had. 1. Has huge installed base of active devices that is growing across all products. 1. Has highest customer loyalty and satisfaction in industry. 13. Services business is growing dramatically. 14. Balance sheet and cash flow generation are strong. 1. Allows Co. to invest significantly in product roadmap and still return meaningful amount of capital to shareholders. 15. Recent corporate tax reform enables Co. to deploy global cash more efficiently. 1. In US, expects direct investment in economy to exceed $350b over next five years, including $30b in CapEx and Co. expects to create over 20,000 US jobs at AAPL over that time frame. 16. Narrowing site selection for new US campus. 2. Capital Return Program: 1. Tax reform makes it possible for Co. to execute program more efficiently through share repurchases and payment of dividend to tens of millions of investors, who own AAPL stock either directly or indirectly from large pension funds to individuals with retirement account. 2. Given strong confidence in Co.'s future, announcing significant update to capital return program. 1. Board of Directors approved a new $100b share repurchase authorization and 16% increase in quarterly dividend, effective with next dividend payable later this month.\\n\\n-------------------------------------------------------------------------------\\n\\nII. 2Q18 Financials (L.M.)\\n\\n--------------------------------------------------------------------------------\", metadata={'id': 'chunk:2018-May-01-AAPL.txt-2df5e97c-bc89-4d0a-8c7b-16ca66794832', 'chunk_id': '2018-May-01-AAPL.txt-2df5e97c-bc89-4d0a-8c7b-16ca66794832', 'source_doc': '2018-May-01-AAPL.txt', 'doc_type': 'earning_call', 'ticker': 'AAPL', 'company_name': 'APPLE INC', 'sector': 'Information Technology', 'asset_class': 'Equity', 'location': 'United States', 'exchange': 'NASDAQ', 'currency': 'USD', 'market_value': '559365151.11', 'weight': '5.16', 'notional_value': '559365151.11', 'shares': '4305127', 'price': '129.93'}),\n",
      "                 Document(page_content=\"1. Overview: 1. Revenue $58.3b. 1. All-time record for Services. 2. Quarterly record for Wearables, Home and Accessories. 3. Quarterly revenue record for Retail, powered by growth in online store. 2. Amid the most challenging global environment in which Co. has ever operated its business, AAPL grew during qtr. 2. COVID-19 Response: 1. Contending with COVID-19 since Jan. 2. Before COVID-19 was on the horizon, Co. anticipated that 2Q20 was going to be prolific and energetic period for AAPL. 1. When pandemic did strike, teams succeeded in growing the business in introducing powerful new products and in meeting customers' needs, and they rose to the occasion in terms of meeting broader obligations to communities. 3. At the same time that they were leaving no stone unturned to get Co.'s latest generation of devices manufactured and into customers' hands, worldwide network of supply chain partners, logistics and operations folks in every part of AAPL were also sourcing more than 30m masks for frontline medical workers, ensuring they're donated to places of greatest need in every region worldwide. 4. While product teams were preparing to launch new iPad Pro, Magic Keyboard, MacBook Air and new iPhone SE, they were also working with suppliers to design, test, manufacture and distribute more than 7.5m face shields. 1. Continues to ship more than 1m of these every week to doctors, nurses and medical personnel on frontlines. 5. In a qtr.\", metadata={'id': 'chunk:2020-Apr-30-AAPL.txt-8a38a4b3-0a93-476d-a9ed-ee3c6875983a', 'chunk_id': '2020-Apr-30-AAPL.txt-8a38a4b3-0a93-476d-a9ed-ee3c6875983a', 'source_doc': '2020-Apr-30-AAPL.txt', 'doc_type': 'earning_call', 'ticker': 'AAPL', 'company_name': 'APPLE INC', 'sector': 'Information Technology', 'asset_class': 'Equity', 'location': 'United States', 'exchange': 'NASDAQ', 'currency': 'USD', 'market_value': '559365151.11', 'weight': '5.16', 'notional_value': '559365151.11', 'shares': '4305127', 'price': '129.93'})]}\n",
      "'\\n---\\n'\n",
      "---GENERATE---\n",
      "DEBUG:GENERATE === question=What was the summary of aapl financial data presented in july 2020 earning calls?\n",
      "DEBUG:GENERATE === context=Thank you, Tim. Good afternoon, everyone. We are extremely pleased to report record results for our September quarter, which capped a tremendously successful fiscal 2018, a year in which we saw double-digit revenue growth in every geographic segment and established new revenue and earnings records in every single quarter. Revenue in the fourth quarter was $62.9 billion, up 20% and more than $10 billion over last year with strong double-digit growth in each of our geographic segments and record Q4 revenue in the Americas, in Europe, Japan and rest of Asia Pacific. In fact, we set new revenue records in almost every market we track with especially strong growth in Germany, Italy, Sweden, Switzerland, Japan and Korea, all major markets where revenue growth was 25% or higher. We also set new fourth quarter revenue records for iPhone and Wearables and new all-time records for Services and Mac. Gross margin was 38.3%, flat sequentially in line with our expectations as leverage from higher re\n",
      "RFD-DEBUG:GENERATE=== generation=I don't know the summary of AAPL's financial data presented in July 2020 earning calls, as this context only mentions a report on September quarter results for fiscal 2018.\n",
      "\"Output from node 'generate_node':\"\n",
      "'---'\n",
      "{ 'generation': \"I don't know the summary of AAPL's financial data presented \"\n",
      "                'in July 2020 earning calls, as this context only mentions a '\n",
      "                'report on September quarter results for fiscal 2018.'}\n",
      "'\\n---\\n'\n"
     ]
    }
   ],
   "execution_count": 63
  },
  {
   "metadata": {},
   "cell_type": "markdown",
   "source": "We have certainly indexed this data but failed to retrieve. A date NER and and `source_year` filter translation will fix this!   ",
   "id": "13de001bd05628fc"
  },
  {
   "metadata": {},
   "cell_type": "markdown",
   "source": [
    "## Next Steps\n",
    "Implement\n",
    "- Multiple index routing scenarios where based on the detected `query_class` we run retrieval queries on different Redis indices.\n",
    "- Implement a Caching strategy using powerful and superfast Redis features, including `SemanticCache`.\n",
    "- Replace the `RelevancyGrader` by a proper reranking model and node.   "
   ],
   "id": "4b59f853531650fd"
  },
  {
   "metadata": {},
   "cell_type": "markdown",
   "source": [
    "## Conclusion\n",
    "The problem of search is still an old problem, and it is about representation of your information and storing it and getting back what you search for via a retrieval method. In the new `RAG` paradigm, information representation is the vector representation. So the more you can capture the nuances of your data using better and better embedding models, the better the `Retrieval`. However, as demonstrated above, we still need to take advantage of our metadata to increase the accuracy and `Augment` the query and also augment the context that we present to the `Generation` component. And most recently, LLMs do a good job of generating proper answers in the target natural languages. The quality of LLMs and their awareness of the domain language increase the quality of generated response.   "
   ],
   "id": "6c18e5f6c0f3b7fe"
  },
  {
   "metadata": {
    "ExecuteTime": {
     "end_time": "2024-06-13T19:26:36.825827Z",
     "start_time": "2024-06-13T19:26:36.823462Z"
    }
   },
   "cell_type": "code",
   "source": "",
   "id": "d0aaded7fca1c11",
   "outputs": [],
   "execution_count": 63
  }
 ],
 "metadata": {
  "kernelspec": {
   "display_name": "Python 3 (ipykernel)",
   "language": "python",
   "name": "python3"
  },
  "language_info": {
   "codemirror_mode": {
    "name": "ipython",
    "version": 3
   },
   "file_extension": ".py",
   "mimetype": "text/x-python",
   "name": "python",
   "nbconvert_exporter": "python",
   "pygments_lexer": "ipython3",
   "version": "3.11.2"
  }
 },
 "nbformat": 4,
 "nbformat_minor": 5
}
